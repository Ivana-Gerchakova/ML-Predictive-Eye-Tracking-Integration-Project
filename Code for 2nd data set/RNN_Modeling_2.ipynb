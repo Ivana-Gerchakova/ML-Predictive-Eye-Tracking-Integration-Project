{
 "cells": [
  {
   "cell_type": "markdown",
   "metadata": {
    "id": "9LURxxq15LMu"
   },
   "source": [
    "### Libraries:"
   ]
  },
  {
   "cell_type": "code",
   "execution_count": 1,
   "metadata": {
    "id": "c75qanO07Alc"
   },
   "outputs": [],
   "source": [
    "import pandas as pd\n",
    "import numpy as np\n",
    "from sklearn.model_selection import train_test_split\n",
    "from keras.models import Sequential\n",
    "from keras.layers import Dense, SimpleRNN, LSTM, GRU, RepeatVector\n",
    "from keras.callbacks import EarlyStopping, ModelCheckpoint\n",
    "import matplotlib.pyplot as plt\n",
    "from keras.utils import pad_sequences\n",
    "import tensorflow as tf\n",
    "from sklearn.metrics import r2_score,mean_absolute_error,mean_squared_error\n",
    "import numpy as np\n",
    "from sklearn.dummy import DummyRegressor\n",
    "from tqdm import tqdm\n",
    "\n",
    "import tensorflow as tf\n",
    "from tensorflow.keras.models import Model\n",
    "from tensorflow.keras.layers import Input, Conv1D, LSTM, Dense"
   ]
  },
  {
   "cell_type": "markdown",
   "metadata": {
    "id": "oQzDcTPy5LM3"
   },
   "source": [
    "### Warnings:"
   ]
  },
  {
   "cell_type": "code",
   "execution_count": 2,
   "metadata": {
    "id": "GOOdVd7o5LM4"
   },
   "outputs": [],
   "source": [
    "import warnings\n",
    "\n",
    "warnings.filterwarnings(\"ignore\", category=UserWarning, message=\"The objective has been evaluated at this point before.\")"
   ]
  },
  {
   "cell_type": "code",
   "execution_count": null,
   "metadata": {
    "colab": {
     "base_uri": "https://localhost:8080/",
     "height": 73
    },
    "id": "Nb5OMYlgmvfo",
    "outputId": "bd1e0cce-2fb4-48e3-b27f-95c784ffbcdf"
   },
   "outputs": [],
   "source": [
    "# from google.colab import files\n",
    "# uploaded = files.upload()"
   ]
  },
  {
   "cell_type": "code",
   "execution_count": null,
   "metadata": {
    "colab": {
     "base_uri": "https://localhost:8080/",
     "height": 467
    },
    "id": "MjzVSUgTmwPO",
    "outputId": "b47b12f5-d31a-40d7-fb2a-3c78d1601e35"
   },
   "outputs": [],
   "source": [
    "# import pandas as pd\n",
    "# import io\n",
    "\n",
    "# df = pd.read_csv(io.BytesIO(uploaded['data1_filled.csv']))\n",
    "# df"
   ]
  },
  {
   "cell_type": "markdown",
   "metadata": {
    "id": "7fGYrCQK5LM5"
   },
   "source": [
    "### Read dataset:"
   ]
  },
  {
   "cell_type": "code",
   "execution_count": 3,
   "metadata": {
    "id": "-S8vIOC17S5F"
   },
   "outputs": [
    {
     "data": {
      "text/html": [
       "<div>\n",
       "<style scoped>\n",
       "    .dataframe tbody tr th:only-of-type {\n",
       "        vertical-align: middle;\n",
       "    }\n",
       "\n",
       "    .dataframe tbody tr th {\n",
       "        vertical-align: top;\n",
       "    }\n",
       "\n",
       "    .dataframe thead th {\n",
       "        text-align: right;\n",
       "    }\n",
       "</style>\n",
       "<table border=\"1\" class=\"dataframe\">\n",
       "  <thead>\n",
       "    <tr style=\"text-align: right;\">\n",
       "      <th></th>\n",
       "      <th>Study_Folder</th>\n",
       "      <th>Subject_Folder</th>\n",
       "      <th>Stimuli</th>\n",
       "      <th>Frame Number</th>\n",
       "      <th>Face_Y</th>\n",
       "      <th>Face_X</th>\n",
       "      <th>Face_W</th>\n",
       "      <th>Face_H</th>\n",
       "      <th>Right_Eye_X</th>\n",
       "      <th>Right_Eye_Y</th>\n",
       "      <th>Left_Eye_X</th>\n",
       "      <th>Left_Eye_Y</th>\n",
       "      <th>Face_Angle</th>\n",
       "      <th>X_Predictions</th>\n",
       "      <th>Y_Predictions</th>\n",
       "    </tr>\n",
       "  </thead>\n",
       "  <tbody>\n",
       "    <tr>\n",
       "      <th>0</th>\n",
       "      <td>1a701efe-2b88-4be4-ae73-6307162d5873</td>\n",
       "      <td>videos</td>\n",
       "      <td>0</td>\n",
       "      <td>0</td>\n",
       "      <td>214.0</td>\n",
       "      <td>145.0</td>\n",
       "      <td>226.0</td>\n",
       "      <td>226.0</td>\n",
       "      <td>224.0</td>\n",
       "      <td>367.0</td>\n",
       "      <td>229.0</td>\n",
       "      <td>288.0</td>\n",
       "      <td>0.440271</td>\n",
       "      <td>0.124451</td>\n",
       "      <td>0.166400</td>\n",
       "    </tr>\n",
       "    <tr>\n",
       "      <th>1</th>\n",
       "      <td>1a701efe-2b88-4be4-ae73-6307162d5873</td>\n",
       "      <td>videos</td>\n",
       "      <td>0</td>\n",
       "      <td>1</td>\n",
       "      <td>208.0</td>\n",
       "      <td>137.0</td>\n",
       "      <td>234.0</td>\n",
       "      <td>234.0</td>\n",
       "      <td>226.0</td>\n",
       "      <td>370.0</td>\n",
       "      <td>230.0</td>\n",
       "      <td>288.0</td>\n",
       "      <td>0.351382</td>\n",
       "      <td>0.124451</td>\n",
       "      <td>0.166400</td>\n",
       "    </tr>\n",
       "    <tr>\n",
       "      <th>2</th>\n",
       "      <td>1a701efe-2b88-4be4-ae73-6307162d5873</td>\n",
       "      <td>videos</td>\n",
       "      <td>0</td>\n",
       "      <td>2</td>\n",
       "      <td>211.0</td>\n",
       "      <td>138.0</td>\n",
       "      <td>230.0</td>\n",
       "      <td>230.0</td>\n",
       "      <td>222.0</td>\n",
       "      <td>370.0</td>\n",
       "      <td>227.0</td>\n",
       "      <td>290.0</td>\n",
       "      <td>0.397633</td>\n",
       "      <td>0.124451</td>\n",
       "      <td>0.166400</td>\n",
       "    </tr>\n",
       "    <tr>\n",
       "      <th>3</th>\n",
       "      <td>1a701efe-2b88-4be4-ae73-6307162d5873</td>\n",
       "      <td>videos</td>\n",
       "      <td>0</td>\n",
       "      <td>3</td>\n",
       "      <td>212.0</td>\n",
       "      <td>136.0</td>\n",
       "      <td>230.0</td>\n",
       "      <td>230.0</td>\n",
       "      <td>225.0</td>\n",
       "      <td>367.0</td>\n",
       "      <td>227.0</td>\n",
       "      <td>288.0</td>\n",
       "      <td>0.493340</td>\n",
       "      <td>0.124451</td>\n",
       "      <td>0.166400</td>\n",
       "    </tr>\n",
       "    <tr>\n",
       "      <th>4</th>\n",
       "      <td>1a701efe-2b88-4be4-ae73-6307162d5873</td>\n",
       "      <td>videos</td>\n",
       "      <td>0</td>\n",
       "      <td>4</td>\n",
       "      <td>213.0</td>\n",
       "      <td>141.0</td>\n",
       "      <td>229.0</td>\n",
       "      <td>229.0</td>\n",
       "      <td>223.0</td>\n",
       "      <td>371.0</td>\n",
       "      <td>232.0</td>\n",
       "      <td>288.0</td>\n",
       "      <td>0.450772</td>\n",
       "      <td>0.124451</td>\n",
       "      <td>0.166400</td>\n",
       "    </tr>\n",
       "    <tr>\n",
       "      <th>...</th>\n",
       "      <td>...</td>\n",
       "      <td>...</td>\n",
       "      <td>...</td>\n",
       "      <td>...</td>\n",
       "      <td>...</td>\n",
       "      <td>...</td>\n",
       "      <td>...</td>\n",
       "      <td>...</td>\n",
       "      <td>...</td>\n",
       "      <td>...</td>\n",
       "      <td>...</td>\n",
       "      <td>...</td>\n",
       "      <td>...</td>\n",
       "      <td>...</td>\n",
       "      <td>...</td>\n",
       "    </tr>\n",
       "    <tr>\n",
       "      <th>60420</th>\n",
       "      <td>74e3ed3f-a2f2-4048-ad5e-7dbe390c0fd0</td>\n",
       "      <td>videos</td>\n",
       "      <td>7998</td>\n",
       "      <td>139</td>\n",
       "      <td>308.0</td>\n",
       "      <td>106.0</td>\n",
       "      <td>227.0</td>\n",
       "      <td>227.0</td>\n",
       "      <td>194.0</td>\n",
       "      <td>456.0</td>\n",
       "      <td>197.0</td>\n",
       "      <td>378.0</td>\n",
       "      <td>2.428763</td>\n",
       "      <td>0.125000</td>\n",
       "      <td>0.166667</td>\n",
       "    </tr>\n",
       "    <tr>\n",
       "      <th>60421</th>\n",
       "      <td>74e3ed3f-a2f2-4048-ad5e-7dbe390c0fd0</td>\n",
       "      <td>videos</td>\n",
       "      <td>7998</td>\n",
       "      <td>140</td>\n",
       "      <td>307.0</td>\n",
       "      <td>105.0</td>\n",
       "      <td>229.0</td>\n",
       "      <td>229.0</td>\n",
       "      <td>198.0</td>\n",
       "      <td>456.0</td>\n",
       "      <td>201.0</td>\n",
       "      <td>379.0</td>\n",
       "      <td>2.077050</td>\n",
       "      <td>0.125000</td>\n",
       "      <td>0.166667</td>\n",
       "    </tr>\n",
       "    <tr>\n",
       "      <th>60422</th>\n",
       "      <td>74e3ed3f-a2f2-4048-ad5e-7dbe390c0fd0</td>\n",
       "      <td>videos</td>\n",
       "      <td>7998</td>\n",
       "      <td>141</td>\n",
       "      <td>309.0</td>\n",
       "      <td>107.0</td>\n",
       "      <td>225.0</td>\n",
       "      <td>225.0</td>\n",
       "      <td>194.0</td>\n",
       "      <td>456.0</td>\n",
       "      <td>199.0</td>\n",
       "      <td>386.0</td>\n",
       "      <td>1.936886</td>\n",
       "      <td>0.125000</td>\n",
       "      <td>0.165266</td>\n",
       "    </tr>\n",
       "    <tr>\n",
       "      <th>60423</th>\n",
       "      <td>74e3ed3f-a2f2-4048-ad5e-7dbe390c0fd0</td>\n",
       "      <td>videos</td>\n",
       "      <td>7998</td>\n",
       "      <td>142</td>\n",
       "      <td>310.0</td>\n",
       "      <td>107.0</td>\n",
       "      <td>224.0</td>\n",
       "      <td>224.0</td>\n",
       "      <td>197.0</td>\n",
       "      <td>463.0</td>\n",
       "      <td>199.0</td>\n",
       "      <td>381.0</td>\n",
       "      <td>2.330049</td>\n",
       "      <td>0.124349</td>\n",
       "      <td>0.165266</td>\n",
       "    </tr>\n",
       "    <tr>\n",
       "      <th>60424</th>\n",
       "      <td>74e3ed3f-a2f2-4048-ad5e-7dbe390c0fd0</td>\n",
       "      <td>videos</td>\n",
       "      <td>7998</td>\n",
       "      <td>143</td>\n",
       "      <td>308.0</td>\n",
       "      <td>107.0</td>\n",
       "      <td>225.0</td>\n",
       "      <td>225.0</td>\n",
       "      <td>196.0</td>\n",
       "      <td>461.0</td>\n",
       "      <td>198.0</td>\n",
       "      <td>385.0</td>\n",
       "      <td>2.239189</td>\n",
       "      <td>0.125000</td>\n",
       "      <td>0.166667</td>\n",
       "    </tr>\n",
       "  </tbody>\n",
       "</table>\n",
       "<p>60425 rows × 15 columns</p>\n",
       "</div>"
      ],
      "text/plain": [
       "                               Study_Folder Subject_Folder  Stimuli  \\\n",
       "0      1a701efe-2b88-4be4-ae73-6307162d5873         videos        0   \n",
       "1      1a701efe-2b88-4be4-ae73-6307162d5873         videos        0   \n",
       "2      1a701efe-2b88-4be4-ae73-6307162d5873         videos        0   \n",
       "3      1a701efe-2b88-4be4-ae73-6307162d5873         videos        0   \n",
       "4      1a701efe-2b88-4be4-ae73-6307162d5873         videos        0   \n",
       "...                                     ...            ...      ...   \n",
       "60420  74e3ed3f-a2f2-4048-ad5e-7dbe390c0fd0         videos     7998   \n",
       "60421  74e3ed3f-a2f2-4048-ad5e-7dbe390c0fd0         videos     7998   \n",
       "60422  74e3ed3f-a2f2-4048-ad5e-7dbe390c0fd0         videos     7998   \n",
       "60423  74e3ed3f-a2f2-4048-ad5e-7dbe390c0fd0         videos     7998   \n",
       "60424  74e3ed3f-a2f2-4048-ad5e-7dbe390c0fd0         videos     7998   \n",
       "\n",
       "       Frame Number  Face_Y  Face_X  Face_W  Face_H  Right_Eye_X  Right_Eye_Y  \\\n",
       "0                 0   214.0   145.0   226.0   226.0        224.0        367.0   \n",
       "1                 1   208.0   137.0   234.0   234.0        226.0        370.0   \n",
       "2                 2   211.0   138.0   230.0   230.0        222.0        370.0   \n",
       "3                 3   212.0   136.0   230.0   230.0        225.0        367.0   \n",
       "4                 4   213.0   141.0   229.0   229.0        223.0        371.0   \n",
       "...             ...     ...     ...     ...     ...          ...          ...   \n",
       "60420           139   308.0   106.0   227.0   227.0        194.0        456.0   \n",
       "60421           140   307.0   105.0   229.0   229.0        198.0        456.0   \n",
       "60422           141   309.0   107.0   225.0   225.0        194.0        456.0   \n",
       "60423           142   310.0   107.0   224.0   224.0        197.0        463.0   \n",
       "60424           143   308.0   107.0   225.0   225.0        196.0        461.0   \n",
       "\n",
       "       Left_Eye_X  Left_Eye_Y  Face_Angle  X_Predictions  Y_Predictions  \n",
       "0           229.0       288.0    0.440271       0.124451       0.166400  \n",
       "1           230.0       288.0    0.351382       0.124451       0.166400  \n",
       "2           227.0       290.0    0.397633       0.124451       0.166400  \n",
       "3           227.0       288.0    0.493340       0.124451       0.166400  \n",
       "4           232.0       288.0    0.450772       0.124451       0.166400  \n",
       "...           ...         ...         ...            ...            ...  \n",
       "60420       197.0       378.0    2.428763       0.125000       0.166667  \n",
       "60421       201.0       379.0    2.077050       0.125000       0.166667  \n",
       "60422       199.0       386.0    1.936886       0.125000       0.165266  \n",
       "60423       199.0       381.0    2.330049       0.124349       0.165266  \n",
       "60424       198.0       385.0    2.239189       0.125000       0.166667  \n",
       "\n",
       "[60425 rows x 15 columns]"
      ]
     },
     "execution_count": 3,
     "metadata": {},
     "output_type": "execute_result"
    }
   ],
   "source": [
    "df = pd.read_csv('data2_filled.csv')\n",
    "df"
   ]
  },
  {
   "cell_type": "markdown",
   "metadata": {
    "id": "e88F6Qb-5LM7"
   },
   "source": [
    "### Group by Study_Folder:"
   ]
  },
  {
   "cell_type": "code",
   "execution_count": 4,
   "metadata": {
    "colab": {
     "base_uri": "https://localhost:8080/"
    },
    "id": "Mk8s0Jse7TyO",
    "outputId": "0656f1ef-67ea-4d2e-e548-b0796686162d"
   },
   "outputs": [],
   "source": [
    "ispitanci_X = []\n",
    "ispitanici_y = []\n",
    "for s, df_s in df.groupby(['Study_Folder']):\n",
    "    train_mask = df_s['Stimuli'] < 10\n",
    "    valid_mask = (df_s['Stimuli'] >= 10) & (df_s['Stimuli'] <= 11)\n",
    "    test_mask = df_s['Stimuli'] > 11\n",
    "    features = df_s.columns[4:13]\n",
    "    ys = df_s.columns[13:15]\n",
    "    X_tr, X_v, X_te = df_s[train_mask][features], df_s[valid_mask][features], df_s[test_mask][features]\n",
    "    y_tr, y_v, y_te = df_s[train_mask][ys], df_s[valid_mask][ys], df_s[test_mask][ys]\n",
    "\n",
    "    ispitanci_X.append([X_tr, X_v, X_te])\n",
    "    ispitanici_y.append([y_tr, y_v, y_te])"
   ]
  },
  {
   "cell_type": "markdown",
   "metadata": {
    "id": "6y5iB-t-5LM8"
   },
   "source": [
    "### Metrics:"
   ]
  },
  {
   "cell_type": "code",
   "execution_count": 5,
   "metadata": {
    "id": "IdsHf-Yi5LM9"
   },
   "outputs": [],
   "source": [
    "metric_dict = {\"MAE\":mean_absolute_error, \"MSE\":mean_squared_error, \"R2\": r2_score}"
   ]
  },
  {
   "cell_type": "markdown",
   "metadata": {
    "id": "3kFwdLrc5LM-"
   },
   "source": [
    "### Log table:"
   ]
  },
  {
   "cell_type": "code",
   "execution_count": 6,
   "metadata": {
    "id": "tjMTrn_Y5LM-"
   },
   "outputs": [],
   "source": [
    "log_table_total =[]"
   ]
  },
  {
   "cell_type": "markdown",
   "metadata": {
    "id": "GuqR7HJq5LM_"
   },
   "source": [
    "### Dummy Regressor:"
   ]
  },
  {
   "cell_type": "code",
   "execution_count": 7,
   "metadata": {
    "colab": {
     "base_uri": "https://localhost:8080/"
    },
    "id": "NgLZZkqA5LM_",
    "outputId": "4d792181-613d-45fe-c97a-6d0a3843e095"
   },
   "outputs": [
    {
     "name": "stderr",
     "output_type": "stream",
     "text": [
      "100%|██████████| 23/23 [00:00<00:00, 193.73it/s]\n"
     ]
    }
   ],
   "source": [
    "dummy_regr = DummyRegressor(strategy=\"mean\")\n",
    "counter=0\n",
    "for Xs_i, ys_i in tqdm(zip(ispitanci_X, ispitanici_y), total = len(ispitanici_y)):\n",
    "    counter+=1\n",
    "    # za sekoj ispitank \"adaptiraj go modelot\"\n",
    "    X_tr, X_v, X_te = Xs_i\n",
    "    y_tr, y_v, y_te = ys_i\n",
    "\n",
    "    dummy_regr.fit(X_tr, y_tr)\n",
    "    y_pred_dr=dummy_regr.predict(X_te)\n",
    "    for metric in metric_dict:\n",
    "        current_metric = metric_dict[metric]\n",
    "        log_table_total.append(['DummyRegressor', counter, metric,len(X_te), metric_dict[metric](y_te, y_pred_dr)])"
   ]
  },
  {
   "cell_type": "code",
   "execution_count": 8,
   "metadata": {
    "id": "g-Hu5StR_saf"
   },
   "outputs": [],
   "source": [
    "n_steps = 3\n",
    "input_features = 9\n",
    "n_units = 50"
   ]
  },
  {
   "cell_type": "markdown",
   "metadata": {
    "id": "f1QS_WIY5LNA"
   },
   "source": [
    "### Function for creating sequences:"
   ]
  },
  {
   "cell_type": "code",
   "execution_count": 9,
   "metadata": {
    "id": "eFraMdnlDF8j"
   },
   "outputs": [],
   "source": [
    "def create_sequences(data_X, data_y, n_steps_in=3): # many to many:\n",
    "    m,n = [],[]\n",
    "    for i in range(data_X.shape[0]-n_steps_in):\n",
    "        m.append(data_X.values[i:i+n_steps]); n.append(data_y.values[i+n_steps])\n",
    "    return np.array(m), np.array(n)"
   ]
  },
  {
   "cell_type": "markdown",
   "metadata": {
    "id": "dYcrQ8De5LNE"
   },
   "source": [
    "### SimpleRNN + LSTM + GRU:"
   ]
  },
  {
   "cell_type": "code",
   "execution_count": 10,
   "metadata": {
    "id": "GH8u4Of0K4G0"
   },
   "outputs": [
    {
     "name": "stdout",
     "output_type": "stream",
     "text": [
      "Model: \"sequential\"\n",
      "_________________________________________________________________\n",
      " Layer (type)                Output Shape              Param #   \n",
      "=================================================================\n",
      " simple_rnn (SimpleRNN)      (None, 3, 200)            42000     \n",
      "                                                                 \n",
      " lstm (LSTM)                 (None, 3, 50)             50200     \n",
      "                                                                 \n",
      " gru (GRU)                   (None, 50)                15300     \n",
      "                                                                 \n",
      " dense (Dense)               (None, 2)                 102       \n",
      "                                                                 \n",
      "=================================================================\n",
      "Total params: 107,602\n",
      "Trainable params: 107,602\n",
      "Non-trainable params: 0\n",
      "_________________________________________________________________\n"
     ]
    }
   ],
   "source": [
    "model_2 = Sequential()\n",
    "model_2.add(SimpleRNN(200, activation = 'relu', return_sequences = True, input_shape = (n_steps, input_features)))\n",
    "model_2.add(LSTM(n_units, activation = 'relu', return_sequences = True))\n",
    "model_2.add(GRU(n_units, activation = 'tanh'))\n",
    "model_2.add(Dense(2, activation = 'linear'))\n",
    "model_2.compile(optimizer='adam', loss='mae', metrics = ['mse', 'mae'])\n",
    "model_2.summary()"
   ]
  },
  {
   "cell_type": "code",
   "execution_count": 11,
   "metadata": {
    "colab": {
     "base_uri": "https://localhost:8080/"
    },
    "id": "OPP7fHfe5LNF",
    "outputId": "2af723b0-d0f8-48bb-b827-3b42629f98e4"
   },
   "outputs": [
    {
     "name": "stderr",
     "output_type": "stream",
     "text": [
      "  0%|          | 0/23 [00:00<?, ?it/s]"
     ]
    },
    {
     "name": "stdout",
     "output_type": "stream",
     "text": [
      "22/22 [==============================] - 1s 3ms/step\n"
     ]
    },
    {
     "name": "stderr",
     "output_type": "stream",
     "text": [
      "  4%|▍         | 1/23 [00:14<05:19, 14.52s/it]"
     ]
    },
    {
     "name": "stdout",
     "output_type": "stream",
     "text": [
      "22/22 [==============================] - 0s 6ms/step\n"
     ]
    },
    {
     "name": "stderr",
     "output_type": "stream",
     "text": [
      "  9%|▊         | 2/23 [00:16<02:33,  7.29s/it]"
     ]
    },
    {
     "name": "stdout",
     "output_type": "stream",
     "text": [
      "44/44 [==============================] - 0s 3ms/step\n"
     ]
    },
    {
     "name": "stderr",
     "output_type": "stream",
     "text": [
      " 13%|█▎        | 3/23 [00:21<02:05,  6.26s/it]"
     ]
    },
    {
     "name": "stdout",
     "output_type": "stream",
     "text": [
      "43/43 [==============================] - 0s 3ms/step\n"
     ]
    },
    {
     "name": "stderr",
     "output_type": "stream",
     "text": [
      " 17%|█▋        | 4/23 [00:27<01:51,  5.88s/it]"
     ]
    },
    {
     "name": "stdout",
     "output_type": "stream",
     "text": [
      "22/22 [==============================] - 0s 6ms/step\n"
     ]
    },
    {
     "name": "stderr",
     "output_type": "stream",
     "text": [
      " 22%|██▏       | 5/23 [00:30<01:29,  4.99s/it]"
     ]
    },
    {
     "name": "stdout",
     "output_type": "stream",
     "text": [
      "20/20 [==============================] - 0s 2ms/step\n"
     ]
    },
    {
     "name": "stderr",
     "output_type": "stream",
     "text": [
      " 26%|██▌       | 6/23 [00:32<01:10,  4.14s/it]"
     ]
    },
    {
     "name": "stdout",
     "output_type": "stream",
     "text": [
      "44/44 [==============================] - 0s 3ms/step\n"
     ]
    },
    {
     "name": "stderr",
     "output_type": "stream",
     "text": [
      " 30%|███       | 7/23 [00:38<01:12,  4.55s/it]"
     ]
    },
    {
     "name": "stdout",
     "output_type": "stream",
     "text": [
      "43/43 [==============================] - 0s 3ms/step\n"
     ]
    },
    {
     "name": "stderr",
     "output_type": "stream",
     "text": [
      " 35%|███▍      | 8/23 [00:43<01:11,  4.76s/it]"
     ]
    },
    {
     "name": "stdout",
     "output_type": "stream",
     "text": [
      "43/43 [==============================] - 0s 3ms/step\n"
     ]
    },
    {
     "name": "stderr",
     "output_type": "stream",
     "text": [
      " 39%|███▉      | 9/23 [00:48<01:08,  4.87s/it]"
     ]
    },
    {
     "name": "stdout",
     "output_type": "stream",
     "text": [
      "45/45 [==============================] - 0s 5ms/step\n"
     ]
    },
    {
     "name": "stderr",
     "output_type": "stream",
     "text": [
      " 43%|████▎     | 10/23 [00:54<01:06,  5.10s/it]"
     ]
    },
    {
     "name": "stdout",
     "output_type": "stream",
     "text": [
      "43/43 [==============================] - 0s 5ms/step\n"
     ]
    },
    {
     "name": "stderr",
     "output_type": "stream",
     "text": [
      " 48%|████▊     | 11/23 [00:59<01:00,  5.05s/it]"
     ]
    },
    {
     "name": "stdout",
     "output_type": "stream",
     "text": [
      "44/44 [==============================] - 0s 6ms/step\n"
     ]
    },
    {
     "name": "stderr",
     "output_type": "stream",
     "text": [
      " 52%|█████▏    | 12/23 [01:03<00:54,  4.95s/it]"
     ]
    },
    {
     "name": "stdout",
     "output_type": "stream",
     "text": [
      "44/44 [==============================] - 0s 7ms/step\n"
     ]
    },
    {
     "name": "stderr",
     "output_type": "stream",
     "text": [
      " 57%|█████▋    | 13/23 [01:08<00:49,  4.94s/it]"
     ]
    },
    {
     "name": "stdout",
     "output_type": "stream",
     "text": [
      "44/44 [==============================] - 0s 5ms/step\n"
     ]
    },
    {
     "name": "stderr",
     "output_type": "stream",
     "text": [
      " 61%|██████    | 14/23 [01:17<00:53,  5.93s/it]"
     ]
    },
    {
     "name": "stdout",
     "output_type": "stream",
     "text": [
      "43/43 [==============================] - 0s 6ms/step\n"
     ]
    },
    {
     "name": "stderr",
     "output_type": "stream",
     "text": [
      " 65%|██████▌   | 15/23 [01:22<00:45,  5.66s/it]"
     ]
    },
    {
     "name": "stdout",
     "output_type": "stream",
     "text": [
      "44/44 [==============================] - 0s 3ms/step\n"
     ]
    },
    {
     "name": "stderr",
     "output_type": "stream",
     "text": [
      " 70%|██████▉   | 16/23 [01:27<00:38,  5.43s/it]"
     ]
    },
    {
     "name": "stdout",
     "output_type": "stream",
     "text": [
      "44/44 [==============================] - 0s 3ms/step\n"
     ]
    },
    {
     "name": "stderr",
     "output_type": "stream",
     "text": [
      " 74%|███████▍  | 17/23 [01:32<00:32,  5.36s/it]"
     ]
    },
    {
     "name": "stdout",
     "output_type": "stream",
     "text": [
      "24/24 [==============================] - 0s 5ms/step\n"
     ]
    },
    {
     "name": "stderr",
     "output_type": "stream",
     "text": [
      " 78%|███████▊  | 18/23 [01:35<00:24,  4.81s/it]"
     ]
    },
    {
     "name": "stdout",
     "output_type": "stream",
     "text": [
      "13/13 [==============================] - 0s 3ms/step\n"
     ]
    },
    {
     "name": "stderr",
     "output_type": "stream",
     "text": [
      " 83%|████████▎ | 19/23 [01:38<00:16,  4.17s/it]"
     ]
    },
    {
     "name": "stdout",
     "output_type": "stream",
     "text": [
      "44/44 [==============================] - 0s 6ms/step\n"
     ]
    },
    {
     "name": "stderr",
     "output_type": "stream",
     "text": [
      " 87%|████████▋ | 20/23 [01:44<00:14,  4.72s/it]"
     ]
    },
    {
     "name": "stdout",
     "output_type": "stream",
     "text": [
      "43/43 [==============================] - 0s 6ms/step\n"
     ]
    },
    {
     "name": "stderr",
     "output_type": "stream",
     "text": [
      " 91%|█████████▏| 21/23 [01:52<00:11,  5.58s/it]"
     ]
    },
    {
     "name": "stdout",
     "output_type": "stream",
     "text": [
      "18/18 [==============================] - 0s 3ms/step\n"
     ]
    },
    {
     "name": "stderr",
     "output_type": "stream",
     "text": [
      " 96%|█████████▌| 22/23 [01:54<00:04,  4.69s/it]"
     ]
    },
    {
     "name": "stdout",
     "output_type": "stream",
     "text": [
      "43/43 [==============================] - 0s 5ms/step\n"
     ]
    },
    {
     "name": "stderr",
     "output_type": "stream",
     "text": [
      "100%|██████████| 23/23 [02:00<00:00,  5.25s/it]\n"
     ]
    }
   ],
   "source": [
    "counter=0\n",
    "for Xs_i, ys_i in tqdm(zip(ispitanci_X, ispitanici_y), total = len(ispitanici_y)):\n",
    "    counter+=1\n",
    "    # za sekoj ispitank \"adaptiraj go model_2ot\"\n",
    "    X_tr, X_v, X_te = Xs_i\n",
    "    y_tr, y_v, y_te = ys_i\n",
    "\n",
    "    X_tr, y_tr = create_sequences(X_tr, y_tr, n_steps)\n",
    "    X_v, y_v = create_sequences(X_v, y_v, n_steps)\n",
    "    X_te, y_te = create_sequences(X_te, y_te, n_steps)\n",
    "\n",
    "    model_2.fit(X_tr, y_tr,shuffle=False,validation_data=(X_v,y_v), epochs=10, batch_size = 32, verbose = 0)\n",
    "    y_pred_te = model_2.predict(X_te)\n",
    "    for metric in metric_dict:\n",
    "        current_metric = metric_dict[metric]\n",
    "        log_table_total.append(['SimpleRNN+LSTM+GRU', counter, metric,len(X_te), metric_dict[metric](y_te, y_pred_te)])"
   ]
  },
  {
   "cell_type": "markdown",
   "metadata": {
    "id": "RA9IzCiD5LNG"
   },
   "source": [
    "### Many to many (3 rows for train, predict on 2):"
   ]
  },
  {
   "cell_type": "code",
   "execution_count": 12,
   "metadata": {
    "id": "MvYa3Sf_5LNG"
   },
   "outputs": [],
   "source": [
    "n_steps = 3\n",
    "input_features = 9\n",
    "n_steps_out=2\n",
    "n_units = 50"
   ]
  },
  {
   "cell_type": "code",
   "execution_count": 13,
   "metadata": {
    "id": "sMmVdZ8q5LNG"
   },
   "outputs": [],
   "source": [
    "def create_sequences_1(data_X, data_y, n_steps_in=3,n_steps_out=2): # many to many:\n",
    "    m,n = [],[]\n",
    "    for i in range(data_X.shape[0]-n_steps_in-n_steps_out+1):\n",
    "        m.append(data_X.values[i:i+n_steps])\n",
    "        new_y=data_y.values[i+n_steps:i+n_steps_in+n_steps_out].flatten()\n",
    "        n.append(new_y)\n",
    "    return np.array(m), np.array(n)"
   ]
  },
  {
   "cell_type": "code",
   "execution_count": 14,
   "metadata": {
    "id": "30PcpxyCLDvk"
   },
   "outputs": [
    {
     "name": "stdout",
     "output_type": "stream",
     "text": [
      "Model: \"sequential_1\"\n",
      "_________________________________________________________________\n",
      " Layer (type)                Output Shape              Param #   \n",
      "=================================================================\n",
      " simple_rnn_1 (SimpleRNN)    (None, 3, 50)             3000      \n",
      "                                                                 \n",
      " lstm_1 (LSTM)               (None, 3, 100)            60400     \n",
      "                                                                 \n",
      " gru_1 (GRU)                 (None, 50)                22800     \n",
      "                                                                 \n",
      " dense_1 (Dense)             (None, 4)                 204       \n",
      "                                                                 \n",
      "=================================================================\n",
      "Total params: 86,404\n",
      "Trainable params: 86,404\n",
      "Non-trainable params: 0\n",
      "_________________________________________________________________\n"
     ]
    }
   ],
   "source": [
    "model_3 = Sequential()\n",
    "model_3.add(SimpleRNN(n_units, activation = 'relu', return_sequences = True, input_shape = (n_steps, input_features)))\n",
    "model_3.add(LSTM(100, activation = 'relu', return_sequences = True))\n",
    "model_3.add(GRU(n_units, activation = 'relu'))\n",
    "model_3.add(Dense(n_steps_out*2, activation = 'linear'))\n",
    "model_3.compile(optimizer='adam', loss='mae', metrics = ['mse', 'mae'])\n",
    "model_3.summary()"
   ]
  },
  {
   "cell_type": "code",
   "execution_count": 15,
   "metadata": {
    "colab": {
     "base_uri": "https://localhost:8080/"
    },
    "id": "rmYkN9vD5LNH",
    "outputId": "afd2b2bd-4546-48e6-ae9b-5bd2a38a1771"
   },
   "outputs": [
    {
     "name": "stderr",
     "output_type": "stream",
     "text": [
      "  0%|          | 0/23 [00:00<?, ?it/s]"
     ]
    },
    {
     "name": "stdout",
     "output_type": "stream",
     "text": [
      "22/22 [==============================] - 1s 5ms/step\n"
     ]
    },
    {
     "name": "stderr",
     "output_type": "stream",
     "text": [
      "  4%|▍         | 1/23 [00:08<03:08,  8.57s/it]"
     ]
    },
    {
     "name": "stdout",
     "output_type": "stream",
     "text": [
      "22/22 [==============================] - 0s 5ms/step\n"
     ]
    },
    {
     "name": "stderr",
     "output_type": "stream",
     "text": [
      "  9%|▊         | 2/23 [00:16<02:56,  8.42s/it]"
     ]
    },
    {
     "name": "stdout",
     "output_type": "stream",
     "text": [
      "44/44 [==============================] - 0s 2ms/step\n"
     ]
    },
    {
     "name": "stderr",
     "output_type": "stream",
     "text": [
      " 13%|█▎        | 3/23 [00:21<02:15,  6.77s/it]"
     ]
    },
    {
     "name": "stdout",
     "output_type": "stream",
     "text": [
      "43/43 [==============================] - 0s 3ms/step\n"
     ]
    },
    {
     "name": "stderr",
     "output_type": "stream",
     "text": [
      " 17%|█▋        | 4/23 [00:26<01:53,  5.99s/it]"
     ]
    },
    {
     "name": "stdout",
     "output_type": "stream",
     "text": [
      "22/22 [==============================] - 0s 6ms/step\n"
     ]
    },
    {
     "name": "stderr",
     "output_type": "stream",
     "text": [
      " 22%|██▏       | 5/23 [00:29<01:27,  4.86s/it]"
     ]
    },
    {
     "name": "stdout",
     "output_type": "stream",
     "text": [
      "20/20 [==============================] - 0s 5ms/step\n"
     ]
    },
    {
     "name": "stderr",
     "output_type": "stream",
     "text": [
      " 26%|██▌       | 6/23 [00:33<01:16,  4.48s/it]"
     ]
    },
    {
     "name": "stdout",
     "output_type": "stream",
     "text": [
      "44/44 [==============================] - 0s 2ms/step\n"
     ]
    },
    {
     "name": "stderr",
     "output_type": "stream",
     "text": [
      " 30%|███       | 7/23 [00:38<01:14,  4.66s/it]"
     ]
    },
    {
     "name": "stdout",
     "output_type": "stream",
     "text": [
      "43/43 [==============================] - 0s 5ms/step\n"
     ]
    },
    {
     "name": "stderr",
     "output_type": "stream",
     "text": [
      " 35%|███▍      | 8/23 [00:43<01:12,  4.85s/it]"
     ]
    },
    {
     "name": "stdout",
     "output_type": "stream",
     "text": [
      "43/43 [==============================] - 0s 5ms/step\n"
     ]
    },
    {
     "name": "stderr",
     "output_type": "stream",
     "text": [
      " 39%|███▉      | 9/23 [00:47<01:04,  4.60s/it]"
     ]
    },
    {
     "name": "stdout",
     "output_type": "stream",
     "text": [
      "45/45 [==============================] - 0s 5ms/step\n"
     ]
    },
    {
     "name": "stderr",
     "output_type": "stream",
     "text": [
      " 43%|████▎     | 10/23 [00:53<01:07,  5.16s/it]"
     ]
    },
    {
     "name": "stdout",
     "output_type": "stream",
     "text": [
      "43/43 [==============================] - 0s 5ms/step\n"
     ]
    },
    {
     "name": "stderr",
     "output_type": "stream",
     "text": [
      " 48%|████▊     | 11/23 [00:58<00:59,  4.94s/it]"
     ]
    },
    {
     "name": "stdout",
     "output_type": "stream",
     "text": [
      "44/44 [==============================] - 0s 5ms/step\n"
     ]
    },
    {
     "name": "stderr",
     "output_type": "stream",
     "text": [
      " 52%|█████▏    | 12/23 [01:04<00:58,  5.33s/it]"
     ]
    },
    {
     "name": "stdout",
     "output_type": "stream",
     "text": [
      "44/44 [==============================] - 0s 5ms/step\n"
     ]
    },
    {
     "name": "stderr",
     "output_type": "stream",
     "text": [
      " 57%|█████▋    | 13/23 [01:08<00:50,  5.02s/it]"
     ]
    },
    {
     "name": "stdout",
     "output_type": "stream",
     "text": [
      "44/44 [==============================] - 0s 5ms/step\n"
     ]
    },
    {
     "name": "stderr",
     "output_type": "stream",
     "text": [
      " 61%|██████    | 14/23 [01:15<00:48,  5.40s/it]"
     ]
    },
    {
     "name": "stdout",
     "output_type": "stream",
     "text": [
      "43/43 [==============================] - 0s 6ms/step\n"
     ]
    },
    {
     "name": "stderr",
     "output_type": "stream",
     "text": [
      " 65%|██████▌   | 15/23 [01:21<00:46,  5.85s/it]"
     ]
    },
    {
     "name": "stdout",
     "output_type": "stream",
     "text": [
      "44/44 [==============================] - 0s 4ms/step\n"
     ]
    },
    {
     "name": "stderr",
     "output_type": "stream",
     "text": [
      " 70%|██████▉   | 16/23 [01:28<00:42,  6.01s/it]"
     ]
    },
    {
     "name": "stdout",
     "output_type": "stream",
     "text": [
      "44/44 [==============================] - 0s 5ms/step\n"
     ]
    },
    {
     "name": "stderr",
     "output_type": "stream",
     "text": [
      " 74%|███████▍  | 17/23 [01:33<00:34,  5.69s/it]"
     ]
    },
    {
     "name": "stdout",
     "output_type": "stream",
     "text": [
      "24/24 [==============================] - 0s 5ms/step\n"
     ]
    },
    {
     "name": "stderr",
     "output_type": "stream",
     "text": [
      " 78%|███████▊  | 18/23 [01:37<00:25,  5.16s/it]"
     ]
    },
    {
     "name": "stdout",
     "output_type": "stream",
     "text": [
      "13/13 [==============================] - 0s 2ms/step\n"
     ]
    },
    {
     "name": "stderr",
     "output_type": "stream",
     "text": [
      " 83%|████████▎ | 19/23 [01:39<00:17,  4.28s/it]"
     ]
    },
    {
     "name": "stdout",
     "output_type": "stream",
     "text": [
      "44/44 [==============================] - 0s 5ms/step\n"
     ]
    },
    {
     "name": "stderr",
     "output_type": "stream",
     "text": [
      " 87%|████████▋ | 20/23 [01:44<00:13,  4.49s/it]"
     ]
    },
    {
     "name": "stdout",
     "output_type": "stream",
     "text": [
      "43/43 [==============================] - 0s 2ms/step\n"
     ]
    },
    {
     "name": "stderr",
     "output_type": "stream",
     "text": [
      " 91%|█████████▏| 21/23 [01:49<00:09,  4.68s/it]"
     ]
    },
    {
     "name": "stdout",
     "output_type": "stream",
     "text": [
      "18/18 [==============================] - 0s 2ms/step\n"
     ]
    },
    {
     "name": "stderr",
     "output_type": "stream",
     "text": [
      " 96%|█████████▌| 22/23 [01:51<00:03,  3.77s/it]"
     ]
    },
    {
     "name": "stdout",
     "output_type": "stream",
     "text": [
      "43/43 [==============================] - 0s 6ms/step\n"
     ]
    },
    {
     "name": "stderr",
     "output_type": "stream",
     "text": [
      "100%|██████████| 23/23 [01:57<00:00,  5.12s/it]\n"
     ]
    }
   ],
   "source": [
    "counter=0\n",
    "for Xs_i, ys_i in tqdm(zip(ispitanci_X, ispitanici_y), total = len(ispitanici_y)):\n",
    "    counter+=1\n",
    "    # za sekoj ispitank \"adaptiraj go modelot\"\n",
    "    X_tr, X_v, X_te = Xs_i\n",
    "    y_tr, y_v, y_te = ys_i\n",
    "\n",
    "    X_tr, y_tr = create_sequences_1(X_tr, y_tr, n_steps)\n",
    "    X_v, y_v = create_sequences_1(X_v, y_v, n_steps)\n",
    "    X_te, y_te = create_sequences_1(X_te, y_te, n_steps)\n",
    "\n",
    "\n",
    "    model_3.fit(X_tr, y_tr,shuffle=False,validation_data=(X_v,y_v), epochs=10, batch_size = 32, verbose = 0)\n",
    "    y_pred_te = model_3.predict(X_te)\n",
    "\n",
    "    for metric in metric_dict:\n",
    "        current_metric = metric_dict[metric]\n",
    "        log_table_total.append(['SimpleRNN+LSTM+GRU_many_to_many', counter, metric,len(X_te), metric_dict[metric](y_te, y_pred_te)])"
   ]
  },
  {
   "cell_type": "markdown",
   "metadata": {
    "id": "cIngT_y5jvnA"
   },
   "source": [
    "### Conv1D + SimpleRNN + LSTM + GRU:"
   ]
  },
  {
   "cell_type": "code",
   "execution_count": 16,
   "metadata": {
    "id": "NIe1aA7PLLrK"
   },
   "outputs": [
    {
     "name": "stdout",
     "output_type": "stream",
     "text": [
      "Model: \"sequential_2\"\n",
      "_________________________________________________________________\n",
      " Layer (type)                Output Shape              Param #   \n",
      "=================================================================\n",
      " conv1d (Conv1D)             (None, 1, 16)             448       \n",
      "                                                                 \n",
      " simple_rnn_2 (SimpleRNN)    (None, 1, 50)             3350      \n",
      "                                                                 \n",
      " lstm_2 (LSTM)               (None, 1, 100)            60400     \n",
      "                                                                 \n",
      " gru_2 (GRU)                 (None, 50)                22800     \n",
      "                                                                 \n",
      " dense_2 (Dense)             (None, 2)                 102       \n",
      "                                                                 \n",
      "=================================================================\n",
      "Total params: 87,100\n",
      "Trainable params: 87,100\n",
      "Non-trainable params: 0\n",
      "_________________________________________________________________\n"
     ]
    }
   ],
   "source": [
    "model_4 = Sequential()\n",
    "model_4.add(Conv1D(filters=16, kernel_size=3, activation='relu', input_shape=(3, 9)))\n",
    "model_4.add(SimpleRNN(n_units, activation = 'relu', return_sequences = True, input_shape = (n_steps, input_features)))\n",
    "model_4.add(LSTM(100, activation = 'relu', return_sequences = True))\n",
    "model_4.add(GRU(n_units, activation = 'sigmoid'))\n",
    "model_4.add(Dense(2, activation = 'linear'))\n",
    "model_4.compile(optimizer='adam', loss='mae', metrics = ['mse', 'mae'])\n",
    "model_4.summary()"
   ]
  },
  {
   "cell_type": "code",
   "execution_count": 17,
   "metadata": {
    "colab": {
     "base_uri": "https://localhost:8080/"
    },
    "id": "LRv3FKopjvnA",
    "outputId": "71883170-4a4a-4158-b989-044b07dff3a2"
   },
   "outputs": [
    {
     "name": "stderr",
     "output_type": "stream",
     "text": [
      "  0%|          | 0/23 [00:00<?, ?it/s]"
     ]
    },
    {
     "name": "stdout",
     "output_type": "stream",
     "text": [
      "22/22 [==============================] - 1s 2ms/step\n"
     ]
    },
    {
     "name": "stderr",
     "output_type": "stream",
     "text": [
      "  4%|▍         | 1/23 [00:11<04:21, 11.91s/it]"
     ]
    },
    {
     "name": "stdout",
     "output_type": "stream",
     "text": [
      "22/22 [==============================] - 0s 2ms/step\n"
     ]
    },
    {
     "name": "stderr",
     "output_type": "stream",
     "text": [
      "  9%|▊         | 2/23 [00:13<02:00,  5.74s/it]"
     ]
    },
    {
     "name": "stdout",
     "output_type": "stream",
     "text": [
      "44/44 [==============================] - 0s 4ms/step\n"
     ]
    },
    {
     "name": "stderr",
     "output_type": "stream",
     "text": [
      " 13%|█▎        | 3/23 [00:17<01:40,  5.00s/it]"
     ]
    },
    {
     "name": "stdout",
     "output_type": "stream",
     "text": [
      "43/43 [==============================] - 1s 14ms/step\n"
     ]
    },
    {
     "name": "stderr",
     "output_type": "stream",
     "text": [
      " 17%|█▋        | 4/23 [00:22<01:34,  4.96s/it]"
     ]
    },
    {
     "name": "stdout",
     "output_type": "stream",
     "text": [
      "22/22 [==============================] - 0s 5ms/step\n"
     ]
    },
    {
     "name": "stderr",
     "output_type": "stream",
     "text": [
      " 22%|██▏       | 5/23 [00:26<01:25,  4.73s/it]"
     ]
    },
    {
     "name": "stdout",
     "output_type": "stream",
     "text": [
      "20/20 [==============================] - 0s 3ms/step\n"
     ]
    },
    {
     "name": "stderr",
     "output_type": "stream",
     "text": [
      " 26%|██▌       | 6/23 [00:29<01:10,  4.13s/it]"
     ]
    },
    {
     "name": "stdout",
     "output_type": "stream",
     "text": [
      "44/44 [==============================] - 0s 8ms/step\n"
     ]
    },
    {
     "name": "stderr",
     "output_type": "stream",
     "text": [
      " 30%|███       | 7/23 [00:35<01:16,  4.76s/it]"
     ]
    },
    {
     "name": "stdout",
     "output_type": "stream",
     "text": [
      "43/43 [==============================] - 0s 4ms/step\n"
     ]
    },
    {
     "name": "stderr",
     "output_type": "stream",
     "text": [
      " 35%|███▍      | 8/23 [00:41<01:16,  5.11s/it]"
     ]
    },
    {
     "name": "stdout",
     "output_type": "stream",
     "text": [
      "43/43 [==============================] - 0s 2ms/step\n"
     ]
    },
    {
     "name": "stderr",
     "output_type": "stream",
     "text": [
      " 39%|███▉      | 9/23 [00:44<01:04,  4.57s/it]"
     ]
    },
    {
     "name": "stdout",
     "output_type": "stream",
     "text": [
      "45/45 [==============================] - 0s 6ms/step\n"
     ]
    },
    {
     "name": "stderr",
     "output_type": "stream",
     "text": [
      " 43%|████▎     | 10/23 [00:51<01:06,  5.14s/it]"
     ]
    },
    {
     "name": "stdout",
     "output_type": "stream",
     "text": [
      "43/43 [==============================] - 0s 4ms/step\n"
     ]
    },
    {
     "name": "stderr",
     "output_type": "stream",
     "text": [
      " 48%|████▊     | 11/23 [00:56<01:02,  5.17s/it]"
     ]
    },
    {
     "name": "stdout",
     "output_type": "stream",
     "text": [
      "44/44 [==============================] - 1s 13ms/step\n"
     ]
    },
    {
     "name": "stderr",
     "output_type": "stream",
     "text": [
      " 52%|█████▏    | 12/23 [01:08<01:18,  7.15s/it]"
     ]
    },
    {
     "name": "stdout",
     "output_type": "stream",
     "text": [
      "44/44 [==============================] - 1s 9ms/step\n"
     ]
    },
    {
     "name": "stderr",
     "output_type": "stream",
     "text": [
      " 57%|█████▋    | 13/23 [01:21<01:29,  8.97s/it]"
     ]
    },
    {
     "name": "stdout",
     "output_type": "stream",
     "text": [
      "44/44 [==============================] - 0s 5ms/step\n"
     ]
    },
    {
     "name": "stderr",
     "output_type": "stream",
     "text": [
      " 61%|██████    | 14/23 [01:32<01:26,  9.62s/it]"
     ]
    },
    {
     "name": "stdout",
     "output_type": "stream",
     "text": [
      "43/43 [==============================] - 0s 5ms/step\n"
     ]
    },
    {
     "name": "stderr",
     "output_type": "stream",
     "text": [
      " 65%|██████▌   | 15/23 [01:39<01:10,  8.77s/it]"
     ]
    },
    {
     "name": "stdout",
     "output_type": "stream",
     "text": [
      "44/44 [==============================] - 0s 5ms/step\n"
     ]
    },
    {
     "name": "stderr",
     "output_type": "stream",
     "text": [
      " 70%|██████▉   | 16/23 [01:42<00:49,  7.09s/it]"
     ]
    },
    {
     "name": "stdout",
     "output_type": "stream",
     "text": [
      "44/44 [==============================] - 0s 2ms/step\n"
     ]
    },
    {
     "name": "stderr",
     "output_type": "stream",
     "text": [
      " 74%|███████▍  | 17/23 [01:46<00:36,  6.16s/it]"
     ]
    },
    {
     "name": "stdout",
     "output_type": "stream",
     "text": [
      "24/24 [==============================] - 0s 6ms/step\n"
     ]
    },
    {
     "name": "stderr",
     "output_type": "stream",
     "text": [
      " 78%|███████▊  | 18/23 [01:48<00:24,  4.99s/it]"
     ]
    },
    {
     "name": "stdout",
     "output_type": "stream",
     "text": [
      "13/13 [==============================] - 0s 7ms/step\n"
     ]
    },
    {
     "name": "stderr",
     "output_type": "stream",
     "text": [
      " 83%|████████▎ | 19/23 [01:51<00:17,  4.45s/it]"
     ]
    },
    {
     "name": "stdout",
     "output_type": "stream",
     "text": [
      "44/44 [==============================] - 0s 2ms/step\n"
     ]
    },
    {
     "name": "stderr",
     "output_type": "stream",
     "text": [
      " 87%|████████▋ | 20/23 [01:55<00:12,  4.31s/it]"
     ]
    },
    {
     "name": "stdout",
     "output_type": "stream",
     "text": [
      "43/43 [==============================] - 0s 5ms/step\n"
     ]
    },
    {
     "name": "stderr",
     "output_type": "stream",
     "text": [
      " 91%|█████████▏| 21/23 [02:01<00:09,  4.78s/it]"
     ]
    },
    {
     "name": "stdout",
     "output_type": "stream",
     "text": [
      "18/18 [==============================] - 0s 4ms/step\n"
     ]
    },
    {
     "name": "stderr",
     "output_type": "stream",
     "text": [
      " 96%|█████████▌| 22/23 [02:04<00:04,  4.23s/it]"
     ]
    },
    {
     "name": "stdout",
     "output_type": "stream",
     "text": [
      "43/43 [==============================] - 0s 2ms/step\n"
     ]
    },
    {
     "name": "stderr",
     "output_type": "stream",
     "text": [
      "100%|██████████| 23/23 [02:08<00:00,  5.59s/it]\n"
     ]
    }
   ],
   "source": [
    "counter=0\n",
    "for Xs_i, ys_i in tqdm(zip(ispitanci_X, ispitanici_y), total = len(ispitanici_y)):\n",
    "    counter+=1\n",
    "    # za sekoj ispitank \"adaptiraj go model_2ot\"\n",
    "    X_tr, X_v, X_te = Xs_i\n",
    "    y_tr, y_v, y_te = ys_i\n",
    "\n",
    "    X_tr, y_tr = create_sequences(X_tr, y_tr, n_steps)\n",
    "    X_v, y_v = create_sequences(X_v, y_v, n_steps)\n",
    "    X_te, y_te = create_sequences(X_te, y_te, n_steps)\n",
    "\n",
    "    model_4.fit(X_tr, y_tr,shuffle=False,validation_data=(X_v,y_v), epochs=10, batch_size = 32, verbose = 0)\n",
    "    y_pred_te = model_4.predict(X_te)\n",
    "    for metric in metric_dict:\n",
    "        current_metric = metric_dict[metric]\n",
    "        log_table_total.append(['Conv1D&SimpleRNN&LSTM&GRU', counter, metric,len(X_te), metric_dict[metric](y_te, y_pred_te)])"
   ]
  },
  {
   "cell_type": "markdown",
   "metadata": {
    "id": "k_0WbWWq9tuu"
   },
   "source": [
    "### Conv1D + LSTM + GRU"
   ]
  },
  {
   "cell_type": "code",
   "execution_count": 18,
   "metadata": {
    "id": "a0LVrH6gLTS9"
   },
   "outputs": [
    {
     "name": "stdout",
     "output_type": "stream",
     "text": [
      "Model: \"sequential_3\"\n",
      "_________________________________________________________________\n",
      " Layer (type)                Output Shape              Param #   \n",
      "=================================================================\n",
      " conv1d_1 (Conv1D)           (None, 1, 16)             448       \n",
      "                                                                 \n",
      " lstm_3 (LSTM)               (None, 1, 100)            46800     \n",
      "                                                                 \n",
      " gru_3 (GRU)                 (None, 50)                22800     \n",
      "                                                                 \n",
      " dense_3 (Dense)             (None, 2)                 102       \n",
      "                                                                 \n",
      "=================================================================\n",
      "Total params: 70,150\n",
      "Trainable params: 70,150\n",
      "Non-trainable params: 0\n",
      "_________________________________________________________________\n"
     ]
    }
   ],
   "source": [
    "model_6 = Sequential()\n",
    "model_6.add(Conv1D(filters=16, kernel_size=3, activation='relu', input_shape=(3, 9)))\n",
    "model_6.add(LSTM(100, activation = 'relu',input_shape = (n_steps, input_features), return_sequences = True))\n",
    "model_6.add(GRU(n_units, activation = 'relu'))\n",
    "model_6.add(Dense(2, activation = 'linear'))\n",
    "model_6.compile(optimizer='adam', loss='mae', metrics = ['mse', 'mae'])\n",
    "model_6.summary()"
   ]
  },
  {
   "cell_type": "code",
   "execution_count": 19,
   "metadata": {
    "colab": {
     "base_uri": "https://localhost:8080/"
    },
    "id": "T6ZKnkdg9m9n",
    "outputId": "a56e38a0-0b9c-4e13-ab44-5196f7d32466"
   },
   "outputs": [
    {
     "name": "stderr",
     "output_type": "stream",
     "text": [
      "  0%|          | 0/23 [00:00<?, ?it/s]"
     ]
    },
    {
     "name": "stdout",
     "output_type": "stream",
     "text": [
      "22/22 [==============================] - 1s 3ms/step\n"
     ]
    },
    {
     "name": "stderr",
     "output_type": "stream",
     "text": [
      "  4%|▍         | 1/23 [00:10<03:48, 10.37s/it]"
     ]
    },
    {
     "name": "stdout",
     "output_type": "stream",
     "text": [
      "22/22 [==============================] - 0s 2ms/step\n"
     ]
    },
    {
     "name": "stderr",
     "output_type": "stream",
     "text": [
      "  9%|▊         | 2/23 [00:11<01:48,  5.15s/it]"
     ]
    },
    {
     "name": "stdout",
     "output_type": "stream",
     "text": [
      "44/44 [==============================] - 0s 2ms/step\n"
     ]
    },
    {
     "name": "stderr",
     "output_type": "stream",
     "text": [
      " 13%|█▎        | 3/23 [00:15<01:32,  4.61s/it]"
     ]
    },
    {
     "name": "stdout",
     "output_type": "stream",
     "text": [
      "43/43 [==============================] - 0s 3ms/step\n"
     ]
    },
    {
     "name": "stderr",
     "output_type": "stream",
     "text": [
      " 17%|█▋        | 4/23 [00:18<01:16,  4.00s/it]"
     ]
    },
    {
     "name": "stdout",
     "output_type": "stream",
     "text": [
      "22/22 [==============================] - 0s 4ms/step\n"
     ]
    },
    {
     "name": "stderr",
     "output_type": "stream",
     "text": [
      " 22%|██▏       | 5/23 [00:21<01:05,  3.61s/it]"
     ]
    },
    {
     "name": "stdout",
     "output_type": "stream",
     "text": [
      "20/20 [==============================] - 0s 5ms/step\n"
     ]
    },
    {
     "name": "stderr",
     "output_type": "stream",
     "text": [
      " 26%|██▌       | 6/23 [00:25<00:59,  3.48s/it]"
     ]
    },
    {
     "name": "stdout",
     "output_type": "stream",
     "text": [
      "44/44 [==============================] - 0s 1ms/step\n"
     ]
    },
    {
     "name": "stderr",
     "output_type": "stream",
     "text": [
      " 30%|███       | 7/23 [00:28<00:55,  3.46s/it]"
     ]
    },
    {
     "name": "stdout",
     "output_type": "stream",
     "text": [
      "43/43 [==============================] - 0s 3ms/step\n"
     ]
    },
    {
     "name": "stderr",
     "output_type": "stream",
     "text": [
      " 35%|███▍      | 8/23 [00:31<00:50,  3.37s/it]"
     ]
    },
    {
     "name": "stdout",
     "output_type": "stream",
     "text": [
      "43/43 [==============================] - 0s 2ms/step\n"
     ]
    },
    {
     "name": "stderr",
     "output_type": "stream",
     "text": [
      " 39%|███▉      | 9/23 [00:34<00:44,  3.16s/it]"
     ]
    },
    {
     "name": "stdout",
     "output_type": "stream",
     "text": [
      "45/45 [==============================] - 0s 3ms/step\n"
     ]
    },
    {
     "name": "stderr",
     "output_type": "stream",
     "text": [
      " 43%|████▎     | 10/23 [00:38<00:43,  3.34s/it]"
     ]
    },
    {
     "name": "stdout",
     "output_type": "stream",
     "text": [
      "43/43 [==============================] - 0s 2ms/step\n"
     ]
    },
    {
     "name": "stderr",
     "output_type": "stream",
     "text": [
      " 48%|████▊     | 11/23 [00:40<00:36,  3.05s/it]"
     ]
    },
    {
     "name": "stdout",
     "output_type": "stream",
     "text": [
      "44/44 [==============================] - 0s 4ms/step\n"
     ]
    },
    {
     "name": "stderr",
     "output_type": "stream",
     "text": [
      " 52%|█████▏    | 12/23 [00:44<00:37,  3.45s/it]"
     ]
    },
    {
     "name": "stdout",
     "output_type": "stream",
     "text": [
      "44/44 [==============================] - 0s 2ms/step\n"
     ]
    },
    {
     "name": "stderr",
     "output_type": "stream",
     "text": [
      " 57%|█████▋    | 13/23 [00:48<00:34,  3.41s/it]"
     ]
    },
    {
     "name": "stdout",
     "output_type": "stream",
     "text": [
      "44/44 [==============================] - 0s 3ms/step\n"
     ]
    },
    {
     "name": "stderr",
     "output_type": "stream",
     "text": [
      " 61%|██████    | 14/23 [00:50<00:28,  3.14s/it]"
     ]
    },
    {
     "name": "stdout",
     "output_type": "stream",
     "text": [
      "43/43 [==============================] - 0s 2ms/step\n"
     ]
    },
    {
     "name": "stderr",
     "output_type": "stream",
     "text": [
      " 65%|██████▌   | 15/23 [00:54<00:25,  3.24s/it]"
     ]
    },
    {
     "name": "stdout",
     "output_type": "stream",
     "text": [
      "44/44 [==============================] - 0s 4ms/step\n"
     ]
    },
    {
     "name": "stderr",
     "output_type": "stream",
     "text": [
      " 70%|██████▉   | 16/23 [00:57<00:22,  3.25s/it]"
     ]
    },
    {
     "name": "stdout",
     "output_type": "stream",
     "text": [
      "44/44 [==============================] - 0s 2ms/step\n"
     ]
    },
    {
     "name": "stderr",
     "output_type": "stream",
     "text": [
      " 74%|███████▍  | 17/23 [01:01<00:20,  3.48s/it]"
     ]
    },
    {
     "name": "stdout",
     "output_type": "stream",
     "text": [
      "24/24 [==============================] - 0s 2ms/step\n"
     ]
    },
    {
     "name": "stderr",
     "output_type": "stream",
     "text": [
      " 78%|███████▊  | 18/23 [01:02<00:14,  2.88s/it]"
     ]
    },
    {
     "name": "stdout",
     "output_type": "stream",
     "text": [
      "13/13 [==============================] - 0s 3ms/step\n"
     ]
    },
    {
     "name": "stderr",
     "output_type": "stream",
     "text": [
      " 83%|████████▎ | 19/23 [01:06<00:11,  2.97s/it]"
     ]
    },
    {
     "name": "stdout",
     "output_type": "stream",
     "text": [
      "44/44 [==============================] - 0s 2ms/step\n"
     ]
    },
    {
     "name": "stderr",
     "output_type": "stream",
     "text": [
      " 87%|████████▋ | 20/23 [01:08<00:08,  2.84s/it]"
     ]
    },
    {
     "name": "stdout",
     "output_type": "stream",
     "text": [
      "43/43 [==============================] - 0s 4ms/step\n"
     ]
    },
    {
     "name": "stderr",
     "output_type": "stream",
     "text": [
      " 91%|█████████▏| 21/23 [01:12<00:06,  3.09s/it]"
     ]
    },
    {
     "name": "stdout",
     "output_type": "stream",
     "text": [
      "18/18 [==============================] - 0s 2ms/step\n"
     ]
    },
    {
     "name": "stderr",
     "output_type": "stream",
     "text": [
      " 96%|█████████▌| 22/23 [01:13<00:02,  2.63s/it]"
     ]
    },
    {
     "name": "stdout",
     "output_type": "stream",
     "text": [
      "43/43 [==============================] - 0s 3ms/step\n"
     ]
    },
    {
     "name": "stderr",
     "output_type": "stream",
     "text": [
      "100%|██████████| 23/23 [01:17<00:00,  3.36s/it]\n"
     ]
    }
   ],
   "source": [
    "counter=0\n",
    "for Xs_i, ys_i in tqdm(zip(ispitanci_X, ispitanici_y), total = len(ispitanici_y)):\n",
    "    counter+=1\n",
    "    # za sekoj ispitank \"adaptiraj go model_2ot\"\n",
    "    X_tr, X_v, X_te = Xs_i\n",
    "    y_tr, y_v, y_te = ys_i\n",
    "\n",
    "    X_tr, y_tr = create_sequences(X_tr, y_tr, n_steps)\n",
    "    X_v, y_v = create_sequences(X_v, y_v, n_steps)\n",
    "    X_te, y_te = create_sequences(X_te, y_te, n_steps)\n",
    "\n",
    "    model_6.fit(X_tr, y_tr,shuffle=False,validation_data=(X_v,y_v), epochs=10, batch_size = 32, verbose = 0)\n",
    "    y_pred_te = model_6.predict(X_te)\n",
    "    for metric in metric_dict:\n",
    "        current_metric = metric_dict[metric]\n",
    "        log_table_total.append(['Conv1d+LSTM+GRU', counter, metric,len(X_te), metric_dict[metric](y_te, y_pred_te)])"
   ]
  },
  {
   "cell_type": "markdown",
   "metadata": {
    "id": "pPcnxrQ093Kn"
   },
   "source": [
    "### Conv1D+RNN+LSTM+GRU with tanh"
   ]
  },
  {
   "cell_type": "code",
   "execution_count": 20,
   "metadata": {
    "colab": {
     "base_uri": "https://localhost:8080/"
    },
    "id": "vUYsnp0O9nGp",
    "outputId": "eb6d6408-6150-4e3c-faee-2b294973f7d9"
   },
   "outputs": [
    {
     "name": "stdout",
     "output_type": "stream",
     "text": [
      "Model: \"sequential_4\"\n",
      "_________________________________________________________________\n",
      " Layer (type)                Output Shape              Param #   \n",
      "=================================================================\n",
      " conv1d_2 (Conv1D)           (None, 1, 16)             448       \n",
      "                                                                 \n",
      " simple_rnn_3 (SimpleRNN)    (None, 1, 50)             3350      \n",
      "                                                                 \n",
      " lstm_4 (LSTM)               (None, 1, 200)            200800    \n",
      "                                                                 \n",
      " gru_4 (GRU)                 (None, 100)               90600     \n",
      "                                                                 \n",
      " dense_4 (Dense)             (None, 2)                 202       \n",
      "                                                                 \n",
      "=================================================================\n",
      "Total params: 295,400\n",
      "Trainable params: 295,400\n",
      "Non-trainable params: 0\n",
      "_________________________________________________________________\n"
     ]
    }
   ],
   "source": [
    "model_8 = Sequential()\n",
    "model_8.add(Conv1D(filters=16, kernel_size=3, activation='relu', input_shape=(3, 9)))\n",
    "model_8.add(SimpleRNN(n_units, activation = 'relu', return_sequences = True, input_shape = (n_steps, input_features)))\n",
    "model_8.add(LSTM(200, activation = 'tanh', return_sequences = True))\n",
    "model_8.add(GRU(100, activation = 'relu'))\n",
    "model_8.add(Dense(2, activation = 'tanh'))\n",
    "model_8.compile(optimizer='adam', loss='mae', metrics = ['mse', 'mae'])\n",
    "model_8.summary()"
   ]
  },
  {
   "cell_type": "code",
   "execution_count": 21,
   "metadata": {
    "colab": {
     "base_uri": "https://localhost:8080/"
    },
    "id": "SgIG6NCQ9nLX",
    "outputId": "ea348393-7973-4c7a-faa9-90b5a7e5fa50"
   },
   "outputs": [
    {
     "name": "stderr",
     "output_type": "stream",
     "text": [
      "  0%|          | 0/23 [00:00<?, ?it/s]"
     ]
    },
    {
     "name": "stdout",
     "output_type": "stream",
     "text": [
      "22/22 [==============================] - 3s 6ms/step\n"
     ]
    },
    {
     "name": "stderr",
     "output_type": "stream",
     "text": [
      "  4%|▍         | 1/23 [00:21<07:54, 21.58s/it]"
     ]
    },
    {
     "name": "stdout",
     "output_type": "stream",
     "text": [
      "22/22 [==============================] - 0s 5ms/step\n"
     ]
    },
    {
     "name": "stderr",
     "output_type": "stream",
     "text": [
      "  9%|▊         | 2/23 [00:26<04:08, 11.85s/it]"
     ]
    },
    {
     "name": "stdout",
     "output_type": "stream",
     "text": [
      "44/44 [==============================] - 0s 5ms/step\n"
     ]
    },
    {
     "name": "stderr",
     "output_type": "stream",
     "text": [
      " 13%|█▎        | 3/23 [00:36<03:38, 10.92s/it]"
     ]
    },
    {
     "name": "stdout",
     "output_type": "stream",
     "text": [
      "43/43 [==============================] - 0s 4ms/step\n"
     ]
    },
    {
     "name": "stderr",
     "output_type": "stream",
     "text": [
      " 17%|█▋        | 4/23 [00:49<03:41, 11.65s/it]"
     ]
    },
    {
     "name": "stdout",
     "output_type": "stream",
     "text": [
      "22/22 [==============================] - 0s 5ms/step\n"
     ]
    },
    {
     "name": "stderr",
     "output_type": "stream",
     "text": [
      " 22%|██▏       | 5/23 [00:57<03:04, 10.27s/it]"
     ]
    },
    {
     "name": "stdout",
     "output_type": "stream",
     "text": [
      "20/20 [==============================] - 0s 6ms/step\n"
     ]
    },
    {
     "name": "stderr",
     "output_type": "stream",
     "text": [
      " 26%|██▌       | 6/23 [01:01<02:19,  8.20s/it]"
     ]
    },
    {
     "name": "stdout",
     "output_type": "stream",
     "text": [
      "44/44 [==============================] - 0s 4ms/step\n"
     ]
    },
    {
     "name": "stderr",
     "output_type": "stream",
     "text": [
      " 30%|███       | 7/23 [01:11<02:22,  8.90s/it]"
     ]
    },
    {
     "name": "stdout",
     "output_type": "stream",
     "text": [
      "43/43 [==============================] - 0s 4ms/step\n"
     ]
    },
    {
     "name": "stderr",
     "output_type": "stream",
     "text": [
      " 35%|███▍      | 8/23 [01:20<02:12,  8.83s/it]"
     ]
    },
    {
     "name": "stdout",
     "output_type": "stream",
     "text": [
      "43/43 [==============================] - 0s 6ms/step\n"
     ]
    },
    {
     "name": "stderr",
     "output_type": "stream",
     "text": [
      " 39%|███▉      | 9/23 [01:33<02:22, 10.15s/it]"
     ]
    },
    {
     "name": "stdout",
     "output_type": "stream",
     "text": [
      "45/45 [==============================] - 0s 2ms/step\n"
     ]
    },
    {
     "name": "stderr",
     "output_type": "stream",
     "text": [
      " 43%|████▎     | 10/23 [01:46<02:22, 10.96s/it]"
     ]
    },
    {
     "name": "stdout",
     "output_type": "stream",
     "text": [
      "43/43 [==============================] - 0s 2ms/step\n"
     ]
    },
    {
     "name": "stderr",
     "output_type": "stream",
     "text": [
      " 48%|████▊     | 11/23 [01:57<02:14, 11.24s/it]"
     ]
    },
    {
     "name": "stdout",
     "output_type": "stream",
     "text": [
      "44/44 [==============================] - 0s 6ms/step\n"
     ]
    },
    {
     "name": "stderr",
     "output_type": "stream",
     "text": [
      " 52%|█████▏    | 12/23 [02:06<01:54, 10.37s/it]"
     ]
    },
    {
     "name": "stdout",
     "output_type": "stream",
     "text": [
      "44/44 [==============================] - 0s 5ms/step\n"
     ]
    },
    {
     "name": "stderr",
     "output_type": "stream",
     "text": [
      " 57%|█████▋    | 13/23 [02:16<01:43, 10.34s/it]"
     ]
    },
    {
     "name": "stdout",
     "output_type": "stream",
     "text": [
      "44/44 [==============================] - 0s 4ms/step\n"
     ]
    },
    {
     "name": "stderr",
     "output_type": "stream",
     "text": [
      " 61%|██████    | 14/23 [02:26<01:32, 10.28s/it]"
     ]
    },
    {
     "name": "stdout",
     "output_type": "stream",
     "text": [
      "43/43 [==============================] - 0s 3ms/step\n"
     ]
    },
    {
     "name": "stderr",
     "output_type": "stream",
     "text": [
      " 65%|██████▌   | 15/23 [02:38<01:26, 10.75s/it]"
     ]
    },
    {
     "name": "stdout",
     "output_type": "stream",
     "text": [
      "44/44 [==============================] - 0s 5ms/step\n"
     ]
    },
    {
     "name": "stderr",
     "output_type": "stream",
     "text": [
      " 70%|██████▉   | 16/23 [02:48<01:13, 10.43s/it]"
     ]
    },
    {
     "name": "stdout",
     "output_type": "stream",
     "text": [
      "44/44 [==============================] - 0s 6ms/step\n"
     ]
    },
    {
     "name": "stderr",
     "output_type": "stream",
     "text": [
      " 74%|███████▍  | 17/23 [03:00<01:05, 10.94s/it]"
     ]
    },
    {
     "name": "stdout",
     "output_type": "stream",
     "text": [
      "24/24 [==============================] - 0s 8ms/step\n"
     ]
    },
    {
     "name": "stderr",
     "output_type": "stream",
     "text": [
      " 78%|███████▊  | 18/23 [03:08<00:50, 10.19s/it]"
     ]
    },
    {
     "name": "stdout",
     "output_type": "stream",
     "text": [
      "13/13 [==============================] - 0s 3ms/step\n"
     ]
    },
    {
     "name": "stderr",
     "output_type": "stream",
     "text": [
      " 83%|████████▎ | 19/23 [03:14<00:35,  8.78s/it]"
     ]
    },
    {
     "name": "stdout",
     "output_type": "stream",
     "text": [
      "44/44 [==============================] - 0s 3ms/step\n"
     ]
    },
    {
     "name": "stderr",
     "output_type": "stream",
     "text": [
      " 87%|████████▋ | 20/23 [03:23<00:26,  8.85s/it]"
     ]
    },
    {
     "name": "stdout",
     "output_type": "stream",
     "text": [
      "43/43 [==============================] - 0s 3ms/step\n"
     ]
    },
    {
     "name": "stderr",
     "output_type": "stream",
     "text": [
      " 91%|█████████▏| 21/23 [03:32<00:17,  8.80s/it]"
     ]
    },
    {
     "name": "stdout",
     "output_type": "stream",
     "text": [
      "18/18 [==============================] - 0s 4ms/step\n"
     ]
    },
    {
     "name": "stderr",
     "output_type": "stream",
     "text": [
      " 96%|█████████▌| 22/23 [03:37<00:07,  7.90s/it]"
     ]
    },
    {
     "name": "stdout",
     "output_type": "stream",
     "text": [
      "43/43 [==============================] - 0s 3ms/step\n"
     ]
    },
    {
     "name": "stderr",
     "output_type": "stream",
     "text": [
      "100%|██████████| 23/23 [03:58<00:00, 10.38s/it]\n"
     ]
    }
   ],
   "source": [
    "counter=0\n",
    "for Xs_i, ys_i in tqdm(zip(ispitanci_X, ispitanici_y), total = len(ispitanici_y)):\n",
    "    counter+=1\n",
    "    # za sekoj ispitank \"adaptiraj go model_2ot\"\n",
    "    X_tr, X_v, X_te = Xs_i\n",
    "    y_tr, y_v, y_te = ys_i\n",
    "\n",
    "    X_tr, y_tr = create_sequences(X_tr, y_tr, n_steps)\n",
    "    X_v, y_v = create_sequences(X_v, y_v, n_steps)\n",
    "    X_te, y_te = create_sequences(X_te, y_te, n_steps)\n",
    "\n",
    "    model_8.fit(X_tr, y_tr,shuffle=False,validation_data=(X_v,y_v), epochs=20, batch_size = 32, verbose = 0)\n",
    "    y_pred_te = model_8.predict(X_te)\n",
    "    for metric in metric_dict:\n",
    "        current_metric = metric_dict[metric]\n",
    "        log_table_total.append(['tanh_Conv1D+RNN+LSTM+GRU', counter, metric,len(X_te), metric_dict[metric](y_te, y_pred_te)])"
   ]
  },
  {
   "cell_type": "markdown",
   "metadata": {
    "id": "29M4qO8Sus5Z"
   },
   "source": [
    "### Log table total:"
   ]
  },
  {
   "cell_type": "code",
   "execution_count": 22,
   "metadata": {
    "id": "uQIn3rqF5LNI",
    "tags": []
   },
   "outputs": [],
   "source": [
    "log_table_total = pd.DataFrame(log_table_total, columns = ['Model','Ispitanik','Metric','Length of Test','Metric score'])"
   ]
  },
  {
   "cell_type": "code",
   "execution_count": 23,
   "metadata": {
    "colab": {
     "base_uri": "https://localhost:8080/",
     "height": 423
    },
    "id": "klxgbRDwojOK",
    "outputId": "9d935b37-431d-4406-b792-ee4221a8a471"
   },
   "outputs": [
    {
     "data": {
      "text/html": [
       "<div>\n",
       "<style scoped>\n",
       "    .dataframe tbody tr th:only-of-type {\n",
       "        vertical-align: middle;\n",
       "    }\n",
       "\n",
       "    .dataframe tbody tr th {\n",
       "        vertical-align: top;\n",
       "    }\n",
       "\n",
       "    .dataframe thead th {\n",
       "        text-align: right;\n",
       "    }\n",
       "</style>\n",
       "<table border=\"1\" class=\"dataframe\">\n",
       "  <thead>\n",
       "    <tr style=\"text-align: right;\">\n",
       "      <th></th>\n",
       "      <th>Model</th>\n",
       "      <th>Ispitanik</th>\n",
       "      <th>Metric</th>\n",
       "      <th>Length of Test</th>\n",
       "      <th>Metric score</th>\n",
       "    </tr>\n",
       "  </thead>\n",
       "  <tbody>\n",
       "    <tr>\n",
       "      <th>0</th>\n",
       "      <td>DummyRegressor</td>\n",
       "      <td>1</td>\n",
       "      <td>MAE</td>\n",
       "      <td>694</td>\n",
       "      <td>0.294669</td>\n",
       "    </tr>\n",
       "    <tr>\n",
       "      <th>1</th>\n",
       "      <td>DummyRegressor</td>\n",
       "      <td>1</td>\n",
       "      <td>MSE</td>\n",
       "      <td>694</td>\n",
       "      <td>0.087962</td>\n",
       "    </tr>\n",
       "    <tr>\n",
       "      <th>2</th>\n",
       "      <td>DummyRegressor</td>\n",
       "      <td>1</td>\n",
       "      <td>R2</td>\n",
       "      <td>694</td>\n",
       "      <td>-128.700246</td>\n",
       "    </tr>\n",
       "    <tr>\n",
       "      <th>3</th>\n",
       "      <td>DummyRegressor</td>\n",
       "      <td>2</td>\n",
       "      <td>MAE</td>\n",
       "      <td>692</td>\n",
       "      <td>0.226303</td>\n",
       "    </tr>\n",
       "    <tr>\n",
       "      <th>4</th>\n",
       "      <td>DummyRegressor</td>\n",
       "      <td>2</td>\n",
       "      <td>MSE</td>\n",
       "      <td>692</td>\n",
       "      <td>0.067791</td>\n",
       "    </tr>\n",
       "    <tr>\n",
       "      <th>...</th>\n",
       "      <td>...</td>\n",
       "      <td>...</td>\n",
       "      <td>...</td>\n",
       "      <td>...</td>\n",
       "      <td>...</td>\n",
       "    </tr>\n",
       "    <tr>\n",
       "      <th>409</th>\n",
       "      <td>tanh_Conv1D+RNN+LSTM+GRU</td>\n",
       "      <td>22</td>\n",
       "      <td>MSE</td>\n",
       "      <td>571</td>\n",
       "      <td>0.067515</td>\n",
       "    </tr>\n",
       "    <tr>\n",
       "      <th>410</th>\n",
       "      <td>tanh_Conv1D+RNN+LSTM+GRU</td>\n",
       "      <td>22</td>\n",
       "      <td>R2</td>\n",
       "      <td>571</td>\n",
       "      <td>-9.181929</td>\n",
       "    </tr>\n",
       "    <tr>\n",
       "      <th>411</th>\n",
       "      <td>tanh_Conv1D+RNN+LSTM+GRU</td>\n",
       "      <td>23</td>\n",
       "      <td>MAE</td>\n",
       "      <td>1361</td>\n",
       "      <td>0.349089</td>\n",
       "    </tr>\n",
       "    <tr>\n",
       "      <th>412</th>\n",
       "      <td>tanh_Conv1D+RNN+LSTM+GRU</td>\n",
       "      <td>23</td>\n",
       "      <td>MSE</td>\n",
       "      <td>1361</td>\n",
       "      <td>0.140745</td>\n",
       "    </tr>\n",
       "    <tr>\n",
       "      <th>413</th>\n",
       "      <td>tanh_Conv1D+RNN+LSTM+GRU</td>\n",
       "      <td>23</td>\n",
       "      <td>R2</td>\n",
       "      <td>1361</td>\n",
       "      <td>-7.549625</td>\n",
       "    </tr>\n",
       "  </tbody>\n",
       "</table>\n",
       "<p>414 rows × 5 columns</p>\n",
       "</div>"
      ],
      "text/plain": [
       "                        Model  Ispitanik Metric  Length of Test  Metric score\n",
       "0              DummyRegressor          1    MAE             694      0.294669\n",
       "1              DummyRegressor          1    MSE             694      0.087962\n",
       "2              DummyRegressor          1     R2             694   -128.700246\n",
       "3              DummyRegressor          2    MAE             692      0.226303\n",
       "4              DummyRegressor          2    MSE             692      0.067791\n",
       "..                        ...        ...    ...             ...           ...\n",
       "409  tanh_Conv1D+RNN+LSTM+GRU         22    MSE             571      0.067515\n",
       "410  tanh_Conv1D+RNN+LSTM+GRU         22     R2             571     -9.181929\n",
       "411  tanh_Conv1D+RNN+LSTM+GRU         23    MAE            1361      0.349089\n",
       "412  tanh_Conv1D+RNN+LSTM+GRU         23    MSE            1361      0.140745\n",
       "413  tanh_Conv1D+RNN+LSTM+GRU         23     R2            1361     -7.549625\n",
       "\n",
       "[414 rows x 5 columns]"
      ]
     },
     "execution_count": 23,
     "metadata": {},
     "output_type": "execute_result"
    }
   ],
   "source": [
    "log_table_total"
   ]
  },
  {
   "cell_type": "markdown",
   "metadata": {
    "id": "B4bO-AcrjvnB"
   },
   "source": [
    "### Function for weighted - Mean"
   ]
  },
  {
   "cell_type": "code",
   "execution_count": 24,
   "metadata": {
    "id": "r3YEGDgtt7-E"
   },
   "outputs": [],
   "source": [
    "def calculate_weighted(m, log_table_total):\n",
    "    num_frames = log_table_total[log_table_total['Metric'] == 'MSE']['Length of Test'].sum()\n",
    "    results = []\n",
    "    for d, gf in log_table_total.groupby('Metric'):\n",
    "        adjusted_score = gf['Length of Test'] / num_frames * gf['Metric score']\n",
    "        adjusted_score = adjusted_score.mean()\n",
    "        results.append((m, d, adjusted_score))\n",
    "    return results"
   ]
  },
  {
   "cell_type": "code",
   "execution_count": 25,
   "metadata": {
    "id": "GHzIrzMnt8Bh"
   },
   "outputs": [],
   "source": [
    "final_table = []\n",
    "for m, m_df in log_table_total.groupby('Model'):\n",
    "    results = calculate_weighted(m, m_df)\n",
    "    final_table.extend(results)\n",
    "\n",
    "final_table_columns = ['Model', 'Metric', 'Adjusted Score']\n",
    "final_table = pd.DataFrame(final_table, columns=final_table_columns)"
   ]
  },
  {
   "cell_type": "markdown",
   "metadata": {
    "id": "zcXnscu8wVfG"
   },
   "source": [
    "### Final log table - Mean:"
   ]
  },
  {
   "cell_type": "code",
   "execution_count": 26,
   "metadata": {
    "colab": {
     "base_uri": "https://localhost:8080/",
     "height": 613
    },
    "id": "gK7PQc-Dt8Hp",
    "outputId": "a260d4cb-cb0d-4a6f-889c-3484fcecbb61"
   },
   "outputs": [
    {
     "data": {
      "text/html": [
       "<div>\n",
       "<style scoped>\n",
       "    .dataframe tbody tr th:only-of-type {\n",
       "        vertical-align: middle;\n",
       "    }\n",
       "\n",
       "    .dataframe tbody tr th {\n",
       "        vertical-align: top;\n",
       "    }\n",
       "\n",
       "    .dataframe thead th {\n",
       "        text-align: right;\n",
       "    }\n",
       "</style>\n",
       "<table border=\"1\" class=\"dataframe\">\n",
       "  <thead>\n",
       "    <tr style=\"text-align: right;\">\n",
       "      <th></th>\n",
       "      <th>Model</th>\n",
       "      <th>Metric</th>\n",
       "      <th>Adjusted Score</th>\n",
       "    </tr>\n",
       "  </thead>\n",
       "  <tbody>\n",
       "    <tr>\n",
       "      <th>0</th>\n",
       "      <td>Conv1D&amp;SimpleRNN&amp;LSTM&amp;GRU</td>\n",
       "      <td>MAE</td>\n",
       "      <td>0.011221</td>\n",
       "    </tr>\n",
       "    <tr>\n",
       "      <th>1</th>\n",
       "      <td>Conv1D&amp;SimpleRNN&amp;LSTM&amp;GRU</td>\n",
       "      <td>MSE</td>\n",
       "      <td>0.003611</td>\n",
       "    </tr>\n",
       "    <tr>\n",
       "      <th>2</th>\n",
       "      <td>Conv1D&amp;SimpleRNN&amp;LSTM&amp;GRU</td>\n",
       "      <td>R2</td>\n",
       "      <td>-1833.130601</td>\n",
       "    </tr>\n",
       "    <tr>\n",
       "      <th>3</th>\n",
       "      <td>Conv1d+LSTM+GRU</td>\n",
       "      <td>MAE</td>\n",
       "      <td>0.011751</td>\n",
       "    </tr>\n",
       "    <tr>\n",
       "      <th>4</th>\n",
       "      <td>Conv1d+LSTM+GRU</td>\n",
       "      <td>MSE</td>\n",
       "      <td>0.004279</td>\n",
       "    </tr>\n",
       "    <tr>\n",
       "      <th>5</th>\n",
       "      <td>Conv1d+LSTM+GRU</td>\n",
       "      <td>R2</td>\n",
       "      <td>-1630.609074</td>\n",
       "    </tr>\n",
       "    <tr>\n",
       "      <th>6</th>\n",
       "      <td>DummyRegressor</td>\n",
       "      <td>MAE</td>\n",
       "      <td>0.011419</td>\n",
       "    </tr>\n",
       "    <tr>\n",
       "      <th>7</th>\n",
       "      <td>DummyRegressor</td>\n",
       "      <td>MSE</td>\n",
       "      <td>0.003664</td>\n",
       "    </tr>\n",
       "    <tr>\n",
       "      <th>8</th>\n",
       "      <td>DummyRegressor</td>\n",
       "      <td>R2</td>\n",
       "      <td>-1642.487226</td>\n",
       "    </tr>\n",
       "    <tr>\n",
       "      <th>9</th>\n",
       "      <td>SimpleRNN+LSTM+GRU</td>\n",
       "      <td>MAE</td>\n",
       "      <td>0.011089</td>\n",
       "    </tr>\n",
       "    <tr>\n",
       "      <th>10</th>\n",
       "      <td>SimpleRNN+LSTM+GRU</td>\n",
       "      <td>MSE</td>\n",
       "      <td>0.003640</td>\n",
       "    </tr>\n",
       "    <tr>\n",
       "      <th>11</th>\n",
       "      <td>SimpleRNN+LSTM+GRU</td>\n",
       "      <td>R2</td>\n",
       "      <td>-2032.167609</td>\n",
       "    </tr>\n",
       "    <tr>\n",
       "      <th>12</th>\n",
       "      <td>SimpleRNN+LSTM+GRU_many_to_many</td>\n",
       "      <td>MAE</td>\n",
       "      <td>0.012380</td>\n",
       "    </tr>\n",
       "    <tr>\n",
       "      <th>13</th>\n",
       "      <td>SimpleRNN+LSTM+GRU_many_to_many</td>\n",
       "      <td>MSE</td>\n",
       "      <td>0.006295</td>\n",
       "    </tr>\n",
       "    <tr>\n",
       "      <th>14</th>\n",
       "      <td>SimpleRNN+LSTM+GRU_many_to_many</td>\n",
       "      <td>R2</td>\n",
       "      <td>-1559.871726</td>\n",
       "    </tr>\n",
       "    <tr>\n",
       "      <th>15</th>\n",
       "      <td>tanh_Conv1D+RNN+LSTM+GRU</td>\n",
       "      <td>MAE</td>\n",
       "      <td>0.011265</td>\n",
       "    </tr>\n",
       "    <tr>\n",
       "      <th>16</th>\n",
       "      <td>tanh_Conv1D+RNN+LSTM+GRU</td>\n",
       "      <td>MSE</td>\n",
       "      <td>0.003616</td>\n",
       "    </tr>\n",
       "    <tr>\n",
       "      <th>17</th>\n",
       "      <td>tanh_Conv1D+RNN+LSTM+GRU</td>\n",
       "      <td>R2</td>\n",
       "      <td>-1591.881254</td>\n",
       "    </tr>\n",
       "  </tbody>\n",
       "</table>\n",
       "</div>"
      ],
      "text/plain": [
       "                              Model Metric  Adjusted Score\n",
       "0         Conv1D&SimpleRNN&LSTM&GRU    MAE        0.011221\n",
       "1         Conv1D&SimpleRNN&LSTM&GRU    MSE        0.003611\n",
       "2         Conv1D&SimpleRNN&LSTM&GRU     R2    -1833.130601\n",
       "3                   Conv1d+LSTM+GRU    MAE        0.011751\n",
       "4                   Conv1d+LSTM+GRU    MSE        0.004279\n",
       "5                   Conv1d+LSTM+GRU     R2    -1630.609074\n",
       "6                    DummyRegressor    MAE        0.011419\n",
       "7                    DummyRegressor    MSE        0.003664\n",
       "8                    DummyRegressor     R2    -1642.487226\n",
       "9                SimpleRNN+LSTM+GRU    MAE        0.011089\n",
       "10               SimpleRNN+LSTM+GRU    MSE        0.003640\n",
       "11               SimpleRNN+LSTM+GRU     R2    -2032.167609\n",
       "12  SimpleRNN+LSTM+GRU_many_to_many    MAE        0.012380\n",
       "13  SimpleRNN+LSTM+GRU_many_to_many    MSE        0.006295\n",
       "14  SimpleRNN+LSTM+GRU_many_to_many     R2    -1559.871726\n",
       "15         tanh_Conv1D+RNN+LSTM+GRU    MAE        0.011265\n",
       "16         tanh_Conv1D+RNN+LSTM+GRU    MSE        0.003616\n",
       "17         tanh_Conv1D+RNN+LSTM+GRU     R2    -1591.881254"
      ]
     },
     "execution_count": 26,
     "metadata": {},
     "output_type": "execute_result"
    }
   ],
   "source": [
    "final_table"
   ]
  },
  {
   "cell_type": "markdown",
   "metadata": {
    "id": "2q75E6J75LNI"
   },
   "source": [
    "### Save csv file results:"
   ]
  },
  {
   "cell_type": "code",
   "execution_count": 29,
   "metadata": {
    "id": "4H1pjzv35LNI"
   },
   "outputs": [],
   "source": [
    "log_table_total.to_csv('log_table_total2.csv', index=False)"
   ]
  },
  {
   "cell_type": "code",
   "execution_count": null,
   "metadata": {
    "colab": {
     "base_uri": "https://localhost:8080/",
     "height": 17
    },
    "id": "7affRwcxv_bY",
    "outputId": "862a05d5-4c27-4fc8-ce3b-1b53da81ac86"
   },
   "outputs": [],
   "source": [
    "# from google.colab import files\n",
    "\n",
    "# files.download('log_table_total1.csv')"
   ]
  },
  {
   "cell_type": "code",
   "execution_count": 30,
   "metadata": {
    "id": "w1TxKftWv_eN"
   },
   "outputs": [],
   "source": [
    "final_table.to_csv('final_table2.csv', index=False)"
   ]
  },
  {
   "cell_type": "code",
   "execution_count": null,
   "metadata": {
    "colab": {
     "base_uri": "https://localhost:8080/",
     "height": 17
    },
    "id": "rgfiV9WUv_hd",
    "outputId": "b6dc9d7e-ec20-49f3-938c-b814440ce370"
   },
   "outputs": [],
   "source": [
    "# from google.colab import files\n",
    "\n",
    "# files.download('final_table1.csv')"
   ]
  }
 ],
 "metadata": {
  "colab": {
   "provenance": []
  },
  "kernelspec": {
   "display_name": "Python 3 (ipykernel)",
   "language": "python",
   "name": "python3"
  },
  "language_info": {
   "codemirror_mode": {
    "name": "ipython",
    "version": 3
   },
   "file_extension": ".py",
   "mimetype": "text/x-python",
   "name": "python",
   "nbconvert_exporter": "python",
   "pygments_lexer": "ipython3",
   "version": "3.9.12"
  }
 },
 "nbformat": 4,
 "nbformat_minor": 1
}
