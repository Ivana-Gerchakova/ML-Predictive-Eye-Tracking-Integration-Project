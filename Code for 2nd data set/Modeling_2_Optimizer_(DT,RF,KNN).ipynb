{
  "cells": [
    {
      "cell_type": "markdown",
      "id": "20163be6",
      "metadata": {
        "id": "20163be6"
      },
      "source": [
        "### Libraries:"
      ]
    },
    {
      "cell_type": "code",
      "source": [
        "!pip install sklearn-genetic-opt"
      ],
      "metadata": {
        "colab": {
          "base_uri": "https://localhost:8080/"
        },
        "id": "0EeiEjlmKHOB",
        "outputId": "a39e7c9e-bcfa-4bb3-c6df-1d1da4861139"
      },
      "id": "0EeiEjlmKHOB",
      "execution_count": 1,
      "outputs": [
        {
          "output_type": "stream",
          "name": "stdout",
          "text": [
            "Looking in indexes: https://pypi.org/simple, https://us-python.pkg.dev/colab-wheels/public/simple/\n",
            "Requirement already satisfied: sklearn-genetic-opt in /usr/local/lib/python3.10/dist-packages (0.10.1)\n",
            "Requirement already satisfied: scikit-learn>=1.1.0 in /usr/local/lib/python3.10/dist-packages (from sklearn-genetic-opt) (1.2.2)\n",
            "Requirement already satisfied: numpy>=1.19.0 in /usr/local/lib/python3.10/dist-packages (from sklearn-genetic-opt) (1.22.4)\n",
            "Requirement already satisfied: deap>=1.3.3 in /usr/local/lib/python3.10/dist-packages (from sklearn-genetic-opt) (1.3.3)\n",
            "Requirement already satisfied: tqdm>=4.61.1 in /usr/local/lib/python3.10/dist-packages (from sklearn-genetic-opt) (4.65.0)\n",
            "Requirement already satisfied: scipy>=1.3.2 in /usr/local/lib/python3.10/dist-packages (from scikit-learn>=1.1.0->sklearn-genetic-opt) (1.10.1)\n",
            "Requirement already satisfied: joblib>=1.1.1 in /usr/local/lib/python3.10/dist-packages (from scikit-learn>=1.1.0->sklearn-genetic-opt) (1.2.0)\n",
            "Requirement already satisfied: threadpoolctl>=2.0.0 in /usr/local/lib/python3.10/dist-packages (from scikit-learn>=1.1.0->sklearn-genetic-opt) (3.1.0)\n"
          ]
        }
      ]
    },
    {
      "cell_type": "code",
      "execution_count": 2,
      "id": "233fc09a",
      "metadata": {
        "id": "233fc09a"
      },
      "outputs": [],
      "source": [
        "import pandas as pd\n",
        "import numpy as np\n",
        "from sklearn.model_selection import train_test_split\n",
        "import seaborn as sns\n",
        "import matplotlib.pyplot as plt\n",
        "from sklearn.preprocessing import StandardScaler\n",
        "from sklearn.preprocessing import MinMaxScaler\n",
        "from sklearn.decomposition import PCA\n",
        "from sklearn.pipeline import Pipeline\n",
        "from sklearn import linear_model\n",
        "from sklearn.neighbors import KNeighborsRegressor\n",
        "from sklearn.tree import DecisionTreeRegressor\n",
        "from sklearn.ensemble import RandomForestRegressor\n",
        "from sklearn.metrics import mean_squared_error, mean_absolute_error, r2_score\n",
        "from sklearn.model_selection import GridSearchCV\n",
        "from sklearn.model_selection import RandomizedSearchCV\n",
        "from sklearn.compose import ColumnTransformer\n",
        "import time\n",
        "\n",
        "from sklearn import preprocessing\n",
        "\n",
        "from sklearn.model_selection import cross_val_score\n",
        "from hyperopt import hp, fmin, tpe, Trials\n",
        "\n",
        "from sklearn_genetic import GASearchCV\n",
        "from sklearn.model_selection import KFold\n",
        "from sklearn_genetic.space import Categorical, Integer, Continuous"
      ]
    },
    {
      "cell_type": "markdown",
      "id": "dc4fb327",
      "metadata": {
        "id": "dc4fb327"
      },
      "source": [
        "### Warnings:"
      ]
    },
    {
      "cell_type": "code",
      "execution_count": 3,
      "id": "0d2ef5f1",
      "metadata": {
        "id": "0d2ef5f1"
      },
      "outputs": [],
      "source": [
        "import warnings\n",
        "\n",
        "warnings.filterwarnings(\"ignore\", category=UserWarning, message=\"The objective has been evaluated at this point before.\")"
      ]
    },
    {
      "cell_type": "markdown",
      "id": "dda90d01",
      "metadata": {
        "id": "dda90d01"
      },
      "source": [
        "### Read dataset:"
      ]
    },
    {
      "cell_type": "code",
      "source": [
        "# df = pd.read_csv('data2_filled.csv')\n",
        "# df"
      ],
      "metadata": {
        "id": "wkLuIrB-Kny2"
      },
      "id": "wkLuIrB-Kny2",
      "execution_count": null,
      "outputs": []
    },
    {
      "cell_type": "code",
      "source": [
        "from google.colab import files\n",
        "uploaded = files.upload()"
      ],
      "metadata": {
        "colab": {
          "base_uri": "https://localhost:8080/",
          "height": 73
        },
        "id": "GBiIubNLKqEK",
        "outputId": "0611a870-c2c0-437f-a3a5-6fe2ba94ceef"
      },
      "id": "GBiIubNLKqEK",
      "execution_count": 4,
      "outputs": [
        {
          "output_type": "display_data",
          "data": {
            "text/plain": [
              "<IPython.core.display.HTML object>"
            ],
            "text/html": [
              "\n",
              "     <input type=\"file\" id=\"files-daeae64a-292d-4feb-b134-ebd499efc48b\" name=\"files[]\" multiple disabled\n",
              "        style=\"border:none\" />\n",
              "     <output id=\"result-daeae64a-292d-4feb-b134-ebd499efc48b\">\n",
              "      Upload widget is only available when the cell has been executed in the\n",
              "      current browser session. Please rerun this cell to enable.\n",
              "      </output>\n",
              "      <script>// Copyright 2017 Google LLC\n",
              "//\n",
              "// Licensed under the Apache License, Version 2.0 (the \"License\");\n",
              "// you may not use this file except in compliance with the License.\n",
              "// You may obtain a copy of the License at\n",
              "//\n",
              "//      http://www.apache.org/licenses/LICENSE-2.0\n",
              "//\n",
              "// Unless required by applicable law or agreed to in writing, software\n",
              "// distributed under the License is distributed on an \"AS IS\" BASIS,\n",
              "// WITHOUT WARRANTIES OR CONDITIONS OF ANY KIND, either express or implied.\n",
              "// See the License for the specific language governing permissions and\n",
              "// limitations under the License.\n",
              "\n",
              "/**\n",
              " * @fileoverview Helpers for google.colab Python module.\n",
              " */\n",
              "(function(scope) {\n",
              "function span(text, styleAttributes = {}) {\n",
              "  const element = document.createElement('span');\n",
              "  element.textContent = text;\n",
              "  for (const key of Object.keys(styleAttributes)) {\n",
              "    element.style[key] = styleAttributes[key];\n",
              "  }\n",
              "  return element;\n",
              "}\n",
              "\n",
              "// Max number of bytes which will be uploaded at a time.\n",
              "const MAX_PAYLOAD_SIZE = 100 * 1024;\n",
              "\n",
              "function _uploadFiles(inputId, outputId) {\n",
              "  const steps = uploadFilesStep(inputId, outputId);\n",
              "  const outputElement = document.getElementById(outputId);\n",
              "  // Cache steps on the outputElement to make it available for the next call\n",
              "  // to uploadFilesContinue from Python.\n",
              "  outputElement.steps = steps;\n",
              "\n",
              "  return _uploadFilesContinue(outputId);\n",
              "}\n",
              "\n",
              "// This is roughly an async generator (not supported in the browser yet),\n",
              "// where there are multiple asynchronous steps and the Python side is going\n",
              "// to poll for completion of each step.\n",
              "// This uses a Promise to block the python side on completion of each step,\n",
              "// then passes the result of the previous step as the input to the next step.\n",
              "function _uploadFilesContinue(outputId) {\n",
              "  const outputElement = document.getElementById(outputId);\n",
              "  const steps = outputElement.steps;\n",
              "\n",
              "  const next = steps.next(outputElement.lastPromiseValue);\n",
              "  return Promise.resolve(next.value.promise).then((value) => {\n",
              "    // Cache the last promise value to make it available to the next\n",
              "    // step of the generator.\n",
              "    outputElement.lastPromiseValue = value;\n",
              "    return next.value.response;\n",
              "  });\n",
              "}\n",
              "\n",
              "/**\n",
              " * Generator function which is called between each async step of the upload\n",
              " * process.\n",
              " * @param {string} inputId Element ID of the input file picker element.\n",
              " * @param {string} outputId Element ID of the output display.\n",
              " * @return {!Iterable<!Object>} Iterable of next steps.\n",
              " */\n",
              "function* uploadFilesStep(inputId, outputId) {\n",
              "  const inputElement = document.getElementById(inputId);\n",
              "  inputElement.disabled = false;\n",
              "\n",
              "  const outputElement = document.getElementById(outputId);\n",
              "  outputElement.innerHTML = '';\n",
              "\n",
              "  const pickedPromise = new Promise((resolve) => {\n",
              "    inputElement.addEventListener('change', (e) => {\n",
              "      resolve(e.target.files);\n",
              "    });\n",
              "  });\n",
              "\n",
              "  const cancel = document.createElement('button');\n",
              "  inputElement.parentElement.appendChild(cancel);\n",
              "  cancel.textContent = 'Cancel upload';\n",
              "  const cancelPromise = new Promise((resolve) => {\n",
              "    cancel.onclick = () => {\n",
              "      resolve(null);\n",
              "    };\n",
              "  });\n",
              "\n",
              "  // Wait for the user to pick the files.\n",
              "  const files = yield {\n",
              "    promise: Promise.race([pickedPromise, cancelPromise]),\n",
              "    response: {\n",
              "      action: 'starting',\n",
              "    }\n",
              "  };\n",
              "\n",
              "  cancel.remove();\n",
              "\n",
              "  // Disable the input element since further picks are not allowed.\n",
              "  inputElement.disabled = true;\n",
              "\n",
              "  if (!files) {\n",
              "    return {\n",
              "      response: {\n",
              "        action: 'complete',\n",
              "      }\n",
              "    };\n",
              "  }\n",
              "\n",
              "  for (const file of files) {\n",
              "    const li = document.createElement('li');\n",
              "    li.append(span(file.name, {fontWeight: 'bold'}));\n",
              "    li.append(span(\n",
              "        `(${file.type || 'n/a'}) - ${file.size} bytes, ` +\n",
              "        `last modified: ${\n",
              "            file.lastModifiedDate ? file.lastModifiedDate.toLocaleDateString() :\n",
              "                                    'n/a'} - `));\n",
              "    const percent = span('0% done');\n",
              "    li.appendChild(percent);\n",
              "\n",
              "    outputElement.appendChild(li);\n",
              "\n",
              "    const fileDataPromise = new Promise((resolve) => {\n",
              "      const reader = new FileReader();\n",
              "      reader.onload = (e) => {\n",
              "        resolve(e.target.result);\n",
              "      };\n",
              "      reader.readAsArrayBuffer(file);\n",
              "    });\n",
              "    // Wait for the data to be ready.\n",
              "    let fileData = yield {\n",
              "      promise: fileDataPromise,\n",
              "      response: {\n",
              "        action: 'continue',\n",
              "      }\n",
              "    };\n",
              "\n",
              "    // Use a chunked sending to avoid message size limits. See b/62115660.\n",
              "    let position = 0;\n",
              "    do {\n",
              "      const length = Math.min(fileData.byteLength - position, MAX_PAYLOAD_SIZE);\n",
              "      const chunk = new Uint8Array(fileData, position, length);\n",
              "      position += length;\n",
              "\n",
              "      const base64 = btoa(String.fromCharCode.apply(null, chunk));\n",
              "      yield {\n",
              "        response: {\n",
              "          action: 'append',\n",
              "          file: file.name,\n",
              "          data: base64,\n",
              "        },\n",
              "      };\n",
              "\n",
              "      let percentDone = fileData.byteLength === 0 ?\n",
              "          100 :\n",
              "          Math.round((position / fileData.byteLength) * 100);\n",
              "      percent.textContent = `${percentDone}% done`;\n",
              "\n",
              "    } while (position < fileData.byteLength);\n",
              "  }\n",
              "\n",
              "  // All done.\n",
              "  yield {\n",
              "    response: {\n",
              "      action: 'complete',\n",
              "    }\n",
              "  };\n",
              "}\n",
              "\n",
              "scope.google = scope.google || {};\n",
              "scope.google.colab = scope.google.colab || {};\n",
              "scope.google.colab._files = {\n",
              "  _uploadFiles,\n",
              "  _uploadFilesContinue,\n",
              "};\n",
              "})(self);\n",
              "</script> "
            ]
          },
          "metadata": {}
        },
        {
          "output_type": "stream",
          "name": "stdout",
          "text": [
            "Saving data2_filled.csv to data2_filled (1).csv\n"
          ]
        }
      ]
    },
    {
      "cell_type": "code",
      "source": [
        "import pandas as pd\n",
        "import io\n",
        "\n",
        "df = pd.read_csv(io.BytesIO(uploaded['data2_filled.csv']))\n",
        "df"
      ],
      "metadata": {
        "id": "m7Vl2ZMNKqHa",
        "colab": {
          "base_uri": "https://localhost:8080/",
          "height": 424
        },
        "outputId": "041a6097-568b-4f88-bba1-d0aedd7ddce1"
      },
      "id": "m7Vl2ZMNKqHa",
      "execution_count": 5,
      "outputs": [
        {
          "output_type": "execute_result",
          "data": {
            "text/plain": [
              "                               Study_Folder Subject_Folder  Stimuli  \\\n",
              "0      1a701efe-2b88-4be4-ae73-6307162d5873         videos        0   \n",
              "1      1a701efe-2b88-4be4-ae73-6307162d5873         videos        0   \n",
              "2      1a701efe-2b88-4be4-ae73-6307162d5873         videos        0   \n",
              "3      1a701efe-2b88-4be4-ae73-6307162d5873         videos        0   \n",
              "4      1a701efe-2b88-4be4-ae73-6307162d5873         videos        0   \n",
              "...                                     ...            ...      ...   \n",
              "60420  74e3ed3f-a2f2-4048-ad5e-7dbe390c0fd0         videos     7998   \n",
              "60421  74e3ed3f-a2f2-4048-ad5e-7dbe390c0fd0         videos     7998   \n",
              "60422  74e3ed3f-a2f2-4048-ad5e-7dbe390c0fd0         videos     7998   \n",
              "60423  74e3ed3f-a2f2-4048-ad5e-7dbe390c0fd0         videos     7998   \n",
              "60424  74e3ed3f-a2f2-4048-ad5e-7dbe390c0fd0         videos     7998   \n",
              "\n",
              "       Frame Number  Face_Y  Face_X  Face_W  Face_H  Right_Eye_X  Right_Eye_Y  \\\n",
              "0                 0   214.0   145.0   226.0   226.0        224.0        367.0   \n",
              "1                 1   208.0   137.0   234.0   234.0        226.0        370.0   \n",
              "2                 2   211.0   138.0   230.0   230.0        222.0        370.0   \n",
              "3                 3   212.0   136.0   230.0   230.0        225.0        367.0   \n",
              "4                 4   213.0   141.0   229.0   229.0        223.0        371.0   \n",
              "...             ...     ...     ...     ...     ...          ...          ...   \n",
              "60420           139   308.0   106.0   227.0   227.0        194.0        456.0   \n",
              "60421           140   307.0   105.0   229.0   229.0        198.0        456.0   \n",
              "60422           141   309.0   107.0   225.0   225.0        194.0        456.0   \n",
              "60423           142   310.0   107.0   224.0   224.0        197.0        463.0   \n",
              "60424           143   308.0   107.0   225.0   225.0        196.0        461.0   \n",
              "\n",
              "       Left_Eye_X  Left_Eye_Y  Face_Angle  X_Predictions  Y_Predictions  \n",
              "0           229.0       288.0    0.440271       0.124451       0.166400  \n",
              "1           230.0       288.0    0.351382       0.124451       0.166400  \n",
              "2           227.0       290.0    0.397633       0.124451       0.166400  \n",
              "3           227.0       288.0    0.493340       0.124451       0.166400  \n",
              "4           232.0       288.0    0.450772       0.124451       0.166400  \n",
              "...           ...         ...         ...            ...            ...  \n",
              "60420       197.0       378.0    2.428763       0.125000       0.166667  \n",
              "60421       201.0       379.0    2.077050       0.125000       0.166667  \n",
              "60422       199.0       386.0    1.936886       0.125000       0.165266  \n",
              "60423       199.0       381.0    2.330049       0.124349       0.165266  \n",
              "60424       198.0       385.0    2.239189       0.125000       0.166667  \n",
              "\n",
              "[60425 rows x 15 columns]"
            ],
            "text/html": [
              "\n",
              "  <div id=\"df-69d724fd-1e26-434b-8c63-b9ed60c77e3a\">\n",
              "    <div class=\"colab-df-container\">\n",
              "      <div>\n",
              "<style scoped>\n",
              "    .dataframe tbody tr th:only-of-type {\n",
              "        vertical-align: middle;\n",
              "    }\n",
              "\n",
              "    .dataframe tbody tr th {\n",
              "        vertical-align: top;\n",
              "    }\n",
              "\n",
              "    .dataframe thead th {\n",
              "        text-align: right;\n",
              "    }\n",
              "</style>\n",
              "<table border=\"1\" class=\"dataframe\">\n",
              "  <thead>\n",
              "    <tr style=\"text-align: right;\">\n",
              "      <th></th>\n",
              "      <th>Study_Folder</th>\n",
              "      <th>Subject_Folder</th>\n",
              "      <th>Stimuli</th>\n",
              "      <th>Frame Number</th>\n",
              "      <th>Face_Y</th>\n",
              "      <th>Face_X</th>\n",
              "      <th>Face_W</th>\n",
              "      <th>Face_H</th>\n",
              "      <th>Right_Eye_X</th>\n",
              "      <th>Right_Eye_Y</th>\n",
              "      <th>Left_Eye_X</th>\n",
              "      <th>Left_Eye_Y</th>\n",
              "      <th>Face_Angle</th>\n",
              "      <th>X_Predictions</th>\n",
              "      <th>Y_Predictions</th>\n",
              "    </tr>\n",
              "  </thead>\n",
              "  <tbody>\n",
              "    <tr>\n",
              "      <th>0</th>\n",
              "      <td>1a701efe-2b88-4be4-ae73-6307162d5873</td>\n",
              "      <td>videos</td>\n",
              "      <td>0</td>\n",
              "      <td>0</td>\n",
              "      <td>214.0</td>\n",
              "      <td>145.0</td>\n",
              "      <td>226.0</td>\n",
              "      <td>226.0</td>\n",
              "      <td>224.0</td>\n",
              "      <td>367.0</td>\n",
              "      <td>229.0</td>\n",
              "      <td>288.0</td>\n",
              "      <td>0.440271</td>\n",
              "      <td>0.124451</td>\n",
              "      <td>0.166400</td>\n",
              "    </tr>\n",
              "    <tr>\n",
              "      <th>1</th>\n",
              "      <td>1a701efe-2b88-4be4-ae73-6307162d5873</td>\n",
              "      <td>videos</td>\n",
              "      <td>0</td>\n",
              "      <td>1</td>\n",
              "      <td>208.0</td>\n",
              "      <td>137.0</td>\n",
              "      <td>234.0</td>\n",
              "      <td>234.0</td>\n",
              "      <td>226.0</td>\n",
              "      <td>370.0</td>\n",
              "      <td>230.0</td>\n",
              "      <td>288.0</td>\n",
              "      <td>0.351382</td>\n",
              "      <td>0.124451</td>\n",
              "      <td>0.166400</td>\n",
              "    </tr>\n",
              "    <tr>\n",
              "      <th>2</th>\n",
              "      <td>1a701efe-2b88-4be4-ae73-6307162d5873</td>\n",
              "      <td>videos</td>\n",
              "      <td>0</td>\n",
              "      <td>2</td>\n",
              "      <td>211.0</td>\n",
              "      <td>138.0</td>\n",
              "      <td>230.0</td>\n",
              "      <td>230.0</td>\n",
              "      <td>222.0</td>\n",
              "      <td>370.0</td>\n",
              "      <td>227.0</td>\n",
              "      <td>290.0</td>\n",
              "      <td>0.397633</td>\n",
              "      <td>0.124451</td>\n",
              "      <td>0.166400</td>\n",
              "    </tr>\n",
              "    <tr>\n",
              "      <th>3</th>\n",
              "      <td>1a701efe-2b88-4be4-ae73-6307162d5873</td>\n",
              "      <td>videos</td>\n",
              "      <td>0</td>\n",
              "      <td>3</td>\n",
              "      <td>212.0</td>\n",
              "      <td>136.0</td>\n",
              "      <td>230.0</td>\n",
              "      <td>230.0</td>\n",
              "      <td>225.0</td>\n",
              "      <td>367.0</td>\n",
              "      <td>227.0</td>\n",
              "      <td>288.0</td>\n",
              "      <td>0.493340</td>\n",
              "      <td>0.124451</td>\n",
              "      <td>0.166400</td>\n",
              "    </tr>\n",
              "    <tr>\n",
              "      <th>4</th>\n",
              "      <td>1a701efe-2b88-4be4-ae73-6307162d5873</td>\n",
              "      <td>videos</td>\n",
              "      <td>0</td>\n",
              "      <td>4</td>\n",
              "      <td>213.0</td>\n",
              "      <td>141.0</td>\n",
              "      <td>229.0</td>\n",
              "      <td>229.0</td>\n",
              "      <td>223.0</td>\n",
              "      <td>371.0</td>\n",
              "      <td>232.0</td>\n",
              "      <td>288.0</td>\n",
              "      <td>0.450772</td>\n",
              "      <td>0.124451</td>\n",
              "      <td>0.166400</td>\n",
              "    </tr>\n",
              "    <tr>\n",
              "      <th>...</th>\n",
              "      <td>...</td>\n",
              "      <td>...</td>\n",
              "      <td>...</td>\n",
              "      <td>...</td>\n",
              "      <td>...</td>\n",
              "      <td>...</td>\n",
              "      <td>...</td>\n",
              "      <td>...</td>\n",
              "      <td>...</td>\n",
              "      <td>...</td>\n",
              "      <td>...</td>\n",
              "      <td>...</td>\n",
              "      <td>...</td>\n",
              "      <td>...</td>\n",
              "      <td>...</td>\n",
              "    </tr>\n",
              "    <tr>\n",
              "      <th>60420</th>\n",
              "      <td>74e3ed3f-a2f2-4048-ad5e-7dbe390c0fd0</td>\n",
              "      <td>videos</td>\n",
              "      <td>7998</td>\n",
              "      <td>139</td>\n",
              "      <td>308.0</td>\n",
              "      <td>106.0</td>\n",
              "      <td>227.0</td>\n",
              "      <td>227.0</td>\n",
              "      <td>194.0</td>\n",
              "      <td>456.0</td>\n",
              "      <td>197.0</td>\n",
              "      <td>378.0</td>\n",
              "      <td>2.428763</td>\n",
              "      <td>0.125000</td>\n",
              "      <td>0.166667</td>\n",
              "    </tr>\n",
              "    <tr>\n",
              "      <th>60421</th>\n",
              "      <td>74e3ed3f-a2f2-4048-ad5e-7dbe390c0fd0</td>\n",
              "      <td>videos</td>\n",
              "      <td>7998</td>\n",
              "      <td>140</td>\n",
              "      <td>307.0</td>\n",
              "      <td>105.0</td>\n",
              "      <td>229.0</td>\n",
              "      <td>229.0</td>\n",
              "      <td>198.0</td>\n",
              "      <td>456.0</td>\n",
              "      <td>201.0</td>\n",
              "      <td>379.0</td>\n",
              "      <td>2.077050</td>\n",
              "      <td>0.125000</td>\n",
              "      <td>0.166667</td>\n",
              "    </tr>\n",
              "    <tr>\n",
              "      <th>60422</th>\n",
              "      <td>74e3ed3f-a2f2-4048-ad5e-7dbe390c0fd0</td>\n",
              "      <td>videos</td>\n",
              "      <td>7998</td>\n",
              "      <td>141</td>\n",
              "      <td>309.0</td>\n",
              "      <td>107.0</td>\n",
              "      <td>225.0</td>\n",
              "      <td>225.0</td>\n",
              "      <td>194.0</td>\n",
              "      <td>456.0</td>\n",
              "      <td>199.0</td>\n",
              "      <td>386.0</td>\n",
              "      <td>1.936886</td>\n",
              "      <td>0.125000</td>\n",
              "      <td>0.165266</td>\n",
              "    </tr>\n",
              "    <tr>\n",
              "      <th>60423</th>\n",
              "      <td>74e3ed3f-a2f2-4048-ad5e-7dbe390c0fd0</td>\n",
              "      <td>videos</td>\n",
              "      <td>7998</td>\n",
              "      <td>142</td>\n",
              "      <td>310.0</td>\n",
              "      <td>107.0</td>\n",
              "      <td>224.0</td>\n",
              "      <td>224.0</td>\n",
              "      <td>197.0</td>\n",
              "      <td>463.0</td>\n",
              "      <td>199.0</td>\n",
              "      <td>381.0</td>\n",
              "      <td>2.330049</td>\n",
              "      <td>0.124349</td>\n",
              "      <td>0.165266</td>\n",
              "    </tr>\n",
              "    <tr>\n",
              "      <th>60424</th>\n",
              "      <td>74e3ed3f-a2f2-4048-ad5e-7dbe390c0fd0</td>\n",
              "      <td>videos</td>\n",
              "      <td>7998</td>\n",
              "      <td>143</td>\n",
              "      <td>308.0</td>\n",
              "      <td>107.0</td>\n",
              "      <td>225.0</td>\n",
              "      <td>225.0</td>\n",
              "      <td>196.0</td>\n",
              "      <td>461.0</td>\n",
              "      <td>198.0</td>\n",
              "      <td>385.0</td>\n",
              "      <td>2.239189</td>\n",
              "      <td>0.125000</td>\n",
              "      <td>0.166667</td>\n",
              "    </tr>\n",
              "  </tbody>\n",
              "</table>\n",
              "<p>60425 rows × 15 columns</p>\n",
              "</div>\n",
              "      <button class=\"colab-df-convert\" onclick=\"convertToInteractive('df-69d724fd-1e26-434b-8c63-b9ed60c77e3a')\"\n",
              "              title=\"Convert this dataframe to an interactive table.\"\n",
              "              style=\"display:none;\">\n",
              "        \n",
              "  <svg xmlns=\"http://www.w3.org/2000/svg\" height=\"24px\"viewBox=\"0 0 24 24\"\n",
              "       width=\"24px\">\n",
              "    <path d=\"M0 0h24v24H0V0z\" fill=\"none\"/>\n",
              "    <path d=\"M18.56 5.44l.94 2.06.94-2.06 2.06-.94-2.06-.94-.94-2.06-.94 2.06-2.06.94zm-11 1L8.5 8.5l.94-2.06 2.06-.94-2.06-.94L8.5 2.5l-.94 2.06-2.06.94zm10 10l.94 2.06.94-2.06 2.06-.94-2.06-.94-.94-2.06-.94 2.06-2.06.94z\"/><path d=\"M17.41 7.96l-1.37-1.37c-.4-.4-.92-.59-1.43-.59-.52 0-1.04.2-1.43.59L10.3 9.45l-7.72 7.72c-.78.78-.78 2.05 0 2.83L4 21.41c.39.39.9.59 1.41.59.51 0 1.02-.2 1.41-.59l7.78-7.78 2.81-2.81c.8-.78.8-2.07 0-2.86zM5.41 20L4 18.59l7.72-7.72 1.47 1.35L5.41 20z\"/>\n",
              "  </svg>\n",
              "      </button>\n",
              "      \n",
              "  <style>\n",
              "    .colab-df-container {\n",
              "      display:flex;\n",
              "      flex-wrap:wrap;\n",
              "      gap: 12px;\n",
              "    }\n",
              "\n",
              "    .colab-df-convert {\n",
              "      background-color: #E8F0FE;\n",
              "      border: none;\n",
              "      border-radius: 50%;\n",
              "      cursor: pointer;\n",
              "      display: none;\n",
              "      fill: #1967D2;\n",
              "      height: 32px;\n",
              "      padding: 0 0 0 0;\n",
              "      width: 32px;\n",
              "    }\n",
              "\n",
              "    .colab-df-convert:hover {\n",
              "      background-color: #E2EBFA;\n",
              "      box-shadow: 0px 1px 2px rgba(60, 64, 67, 0.3), 0px 1px 3px 1px rgba(60, 64, 67, 0.15);\n",
              "      fill: #174EA6;\n",
              "    }\n",
              "\n",
              "    [theme=dark] .colab-df-convert {\n",
              "      background-color: #3B4455;\n",
              "      fill: #D2E3FC;\n",
              "    }\n",
              "\n",
              "    [theme=dark] .colab-df-convert:hover {\n",
              "      background-color: #434B5C;\n",
              "      box-shadow: 0px 1px 3px 1px rgba(0, 0, 0, 0.15);\n",
              "      filter: drop-shadow(0px 1px 2px rgba(0, 0, 0, 0.3));\n",
              "      fill: #FFFFFF;\n",
              "    }\n",
              "  </style>\n",
              "\n",
              "      <script>\n",
              "        const buttonEl =\n",
              "          document.querySelector('#df-69d724fd-1e26-434b-8c63-b9ed60c77e3a button.colab-df-convert');\n",
              "        buttonEl.style.display =\n",
              "          google.colab.kernel.accessAllowed ? 'block' : 'none';\n",
              "\n",
              "        async function convertToInteractive(key) {\n",
              "          const element = document.querySelector('#df-69d724fd-1e26-434b-8c63-b9ed60c77e3a');\n",
              "          const dataTable =\n",
              "            await google.colab.kernel.invokeFunction('convertToInteractive',\n",
              "                                                     [key], {});\n",
              "          if (!dataTable) return;\n",
              "\n",
              "          const docLinkHtml = 'Like what you see? Visit the ' +\n",
              "            '<a target=\"_blank\" href=https://colab.research.google.com/notebooks/data_table.ipynb>data table notebook</a>'\n",
              "            + ' to learn more about interactive tables.';\n",
              "          element.innerHTML = '';\n",
              "          dataTable['output_type'] = 'display_data';\n",
              "          await google.colab.output.renderOutput(dataTable, element);\n",
              "          const docLink = document.createElement('div');\n",
              "          docLink.innerHTML = docLinkHtml;\n",
              "          element.appendChild(docLink);\n",
              "        }\n",
              "      </script>\n",
              "    </div>\n",
              "  </div>\n",
              "  "
            ]
          },
          "metadata": {},
          "execution_count": 5
        }
      ]
    },
    {
      "cell_type": "code",
      "execution_count": 6,
      "id": "a2800574",
      "metadata": {
        "id": "a2800574",
        "outputId": "5d2e1d7d-55e8-4445-a85a-f3ef2aad2feb",
        "colab": {
          "base_uri": "https://localhost:8080/"
        }
      },
      "outputs": [
        {
          "output_type": "stream",
          "name": "stdout",
          "text": [
            "<class 'pandas.core.frame.DataFrame'>\n",
            "RangeIndex: 60425 entries, 0 to 60424\n",
            "Data columns (total 15 columns):\n",
            " #   Column          Non-Null Count  Dtype  \n",
            "---  ------          --------------  -----  \n",
            " 0   Study_Folder    60425 non-null  object \n",
            " 1   Subject_Folder  60425 non-null  object \n",
            " 2   Stimuli         60425 non-null  int64  \n",
            " 3   Frame Number    60425 non-null  int64  \n",
            " 4   Face_Y          60425 non-null  float64\n",
            " 5   Face_X          60425 non-null  float64\n",
            " 6   Face_W          60425 non-null  float64\n",
            " 7   Face_H          60425 non-null  float64\n",
            " 8   Right_Eye_X     60425 non-null  float64\n",
            " 9   Right_Eye_Y     60425 non-null  float64\n",
            " 10  Left_Eye_X      60425 non-null  float64\n",
            " 11  Left_Eye_Y      60425 non-null  float64\n",
            " 12  Face_Angle      60425 non-null  float64\n",
            " 13  X_Predictions   60425 non-null  float64\n",
            " 14  Y_Predictions   60425 non-null  float64\n",
            "dtypes: float64(11), int64(2), object(2)\n",
            "memory usage: 6.9+ MB\n"
          ]
        }
      ],
      "source": [
        "df.info()"
      ]
    },
    {
      "cell_type": "markdown",
      "id": "c477e93d",
      "metadata": {
        "id": "c477e93d"
      },
      "source": [
        "### Drop columns:"
      ]
    },
    {
      "cell_type": "code",
      "execution_count": 7,
      "id": "c3188a3e",
      "metadata": {
        "id": "c3188a3e"
      },
      "outputs": [],
      "source": [
        "df.drop(['Study_Folder','Subject_Folder'], axis = 1, inplace = True)"
      ]
    },
    {
      "cell_type": "code",
      "execution_count": 8,
      "id": "8d1344c6",
      "metadata": {
        "id": "8d1344c6",
        "outputId": "2199cc15-f1de-4dc8-86fe-6fc640ea6725",
        "colab": {
          "base_uri": "https://localhost:8080/",
          "height": 424
        }
      },
      "outputs": [
        {
          "output_type": "execute_result",
          "data": {
            "text/plain": [
              "       Stimuli  Frame Number  Face_Y  Face_X  Face_W  Face_H  Right_Eye_X  \\\n",
              "0            0             0   214.0   145.0   226.0   226.0        224.0   \n",
              "1            0             1   208.0   137.0   234.0   234.0        226.0   \n",
              "2            0             2   211.0   138.0   230.0   230.0        222.0   \n",
              "3            0             3   212.0   136.0   230.0   230.0        225.0   \n",
              "4            0             4   213.0   141.0   229.0   229.0        223.0   \n",
              "...        ...           ...     ...     ...     ...     ...          ...   \n",
              "60420     7998           139   308.0   106.0   227.0   227.0        194.0   \n",
              "60421     7998           140   307.0   105.0   229.0   229.0        198.0   \n",
              "60422     7998           141   309.0   107.0   225.0   225.0        194.0   \n",
              "60423     7998           142   310.0   107.0   224.0   224.0        197.0   \n",
              "60424     7998           143   308.0   107.0   225.0   225.0        196.0   \n",
              "\n",
              "       Right_Eye_Y  Left_Eye_X  Left_Eye_Y  Face_Angle  X_Predictions  \\\n",
              "0            367.0       229.0       288.0    0.440271       0.124451   \n",
              "1            370.0       230.0       288.0    0.351382       0.124451   \n",
              "2            370.0       227.0       290.0    0.397633       0.124451   \n",
              "3            367.0       227.0       288.0    0.493340       0.124451   \n",
              "4            371.0       232.0       288.0    0.450772       0.124451   \n",
              "...            ...         ...         ...         ...            ...   \n",
              "60420        456.0       197.0       378.0    2.428763       0.125000   \n",
              "60421        456.0       201.0       379.0    2.077050       0.125000   \n",
              "60422        456.0       199.0       386.0    1.936886       0.125000   \n",
              "60423        463.0       199.0       381.0    2.330049       0.124349   \n",
              "60424        461.0       198.0       385.0    2.239189       0.125000   \n",
              "\n",
              "       Y_Predictions  \n",
              "0           0.166400  \n",
              "1           0.166400  \n",
              "2           0.166400  \n",
              "3           0.166400  \n",
              "4           0.166400  \n",
              "...              ...  \n",
              "60420       0.166667  \n",
              "60421       0.166667  \n",
              "60422       0.165266  \n",
              "60423       0.165266  \n",
              "60424       0.166667  \n",
              "\n",
              "[60425 rows x 13 columns]"
            ],
            "text/html": [
              "\n",
              "  <div id=\"df-509fe466-ede0-40d9-9eea-2f4ced77a4e8\">\n",
              "    <div class=\"colab-df-container\">\n",
              "      <div>\n",
              "<style scoped>\n",
              "    .dataframe tbody tr th:only-of-type {\n",
              "        vertical-align: middle;\n",
              "    }\n",
              "\n",
              "    .dataframe tbody tr th {\n",
              "        vertical-align: top;\n",
              "    }\n",
              "\n",
              "    .dataframe thead th {\n",
              "        text-align: right;\n",
              "    }\n",
              "</style>\n",
              "<table border=\"1\" class=\"dataframe\">\n",
              "  <thead>\n",
              "    <tr style=\"text-align: right;\">\n",
              "      <th></th>\n",
              "      <th>Stimuli</th>\n",
              "      <th>Frame Number</th>\n",
              "      <th>Face_Y</th>\n",
              "      <th>Face_X</th>\n",
              "      <th>Face_W</th>\n",
              "      <th>Face_H</th>\n",
              "      <th>Right_Eye_X</th>\n",
              "      <th>Right_Eye_Y</th>\n",
              "      <th>Left_Eye_X</th>\n",
              "      <th>Left_Eye_Y</th>\n",
              "      <th>Face_Angle</th>\n",
              "      <th>X_Predictions</th>\n",
              "      <th>Y_Predictions</th>\n",
              "    </tr>\n",
              "  </thead>\n",
              "  <tbody>\n",
              "    <tr>\n",
              "      <th>0</th>\n",
              "      <td>0</td>\n",
              "      <td>0</td>\n",
              "      <td>214.0</td>\n",
              "      <td>145.0</td>\n",
              "      <td>226.0</td>\n",
              "      <td>226.0</td>\n",
              "      <td>224.0</td>\n",
              "      <td>367.0</td>\n",
              "      <td>229.0</td>\n",
              "      <td>288.0</td>\n",
              "      <td>0.440271</td>\n",
              "      <td>0.124451</td>\n",
              "      <td>0.166400</td>\n",
              "    </tr>\n",
              "    <tr>\n",
              "      <th>1</th>\n",
              "      <td>0</td>\n",
              "      <td>1</td>\n",
              "      <td>208.0</td>\n",
              "      <td>137.0</td>\n",
              "      <td>234.0</td>\n",
              "      <td>234.0</td>\n",
              "      <td>226.0</td>\n",
              "      <td>370.0</td>\n",
              "      <td>230.0</td>\n",
              "      <td>288.0</td>\n",
              "      <td>0.351382</td>\n",
              "      <td>0.124451</td>\n",
              "      <td>0.166400</td>\n",
              "    </tr>\n",
              "    <tr>\n",
              "      <th>2</th>\n",
              "      <td>0</td>\n",
              "      <td>2</td>\n",
              "      <td>211.0</td>\n",
              "      <td>138.0</td>\n",
              "      <td>230.0</td>\n",
              "      <td>230.0</td>\n",
              "      <td>222.0</td>\n",
              "      <td>370.0</td>\n",
              "      <td>227.0</td>\n",
              "      <td>290.0</td>\n",
              "      <td>0.397633</td>\n",
              "      <td>0.124451</td>\n",
              "      <td>0.166400</td>\n",
              "    </tr>\n",
              "    <tr>\n",
              "      <th>3</th>\n",
              "      <td>0</td>\n",
              "      <td>3</td>\n",
              "      <td>212.0</td>\n",
              "      <td>136.0</td>\n",
              "      <td>230.0</td>\n",
              "      <td>230.0</td>\n",
              "      <td>225.0</td>\n",
              "      <td>367.0</td>\n",
              "      <td>227.0</td>\n",
              "      <td>288.0</td>\n",
              "      <td>0.493340</td>\n",
              "      <td>0.124451</td>\n",
              "      <td>0.166400</td>\n",
              "    </tr>\n",
              "    <tr>\n",
              "      <th>4</th>\n",
              "      <td>0</td>\n",
              "      <td>4</td>\n",
              "      <td>213.0</td>\n",
              "      <td>141.0</td>\n",
              "      <td>229.0</td>\n",
              "      <td>229.0</td>\n",
              "      <td>223.0</td>\n",
              "      <td>371.0</td>\n",
              "      <td>232.0</td>\n",
              "      <td>288.0</td>\n",
              "      <td>0.450772</td>\n",
              "      <td>0.124451</td>\n",
              "      <td>0.166400</td>\n",
              "    </tr>\n",
              "    <tr>\n",
              "      <th>...</th>\n",
              "      <td>...</td>\n",
              "      <td>...</td>\n",
              "      <td>...</td>\n",
              "      <td>...</td>\n",
              "      <td>...</td>\n",
              "      <td>...</td>\n",
              "      <td>...</td>\n",
              "      <td>...</td>\n",
              "      <td>...</td>\n",
              "      <td>...</td>\n",
              "      <td>...</td>\n",
              "      <td>...</td>\n",
              "      <td>...</td>\n",
              "    </tr>\n",
              "    <tr>\n",
              "      <th>60420</th>\n",
              "      <td>7998</td>\n",
              "      <td>139</td>\n",
              "      <td>308.0</td>\n",
              "      <td>106.0</td>\n",
              "      <td>227.0</td>\n",
              "      <td>227.0</td>\n",
              "      <td>194.0</td>\n",
              "      <td>456.0</td>\n",
              "      <td>197.0</td>\n",
              "      <td>378.0</td>\n",
              "      <td>2.428763</td>\n",
              "      <td>0.125000</td>\n",
              "      <td>0.166667</td>\n",
              "    </tr>\n",
              "    <tr>\n",
              "      <th>60421</th>\n",
              "      <td>7998</td>\n",
              "      <td>140</td>\n",
              "      <td>307.0</td>\n",
              "      <td>105.0</td>\n",
              "      <td>229.0</td>\n",
              "      <td>229.0</td>\n",
              "      <td>198.0</td>\n",
              "      <td>456.0</td>\n",
              "      <td>201.0</td>\n",
              "      <td>379.0</td>\n",
              "      <td>2.077050</td>\n",
              "      <td>0.125000</td>\n",
              "      <td>0.166667</td>\n",
              "    </tr>\n",
              "    <tr>\n",
              "      <th>60422</th>\n",
              "      <td>7998</td>\n",
              "      <td>141</td>\n",
              "      <td>309.0</td>\n",
              "      <td>107.0</td>\n",
              "      <td>225.0</td>\n",
              "      <td>225.0</td>\n",
              "      <td>194.0</td>\n",
              "      <td>456.0</td>\n",
              "      <td>199.0</td>\n",
              "      <td>386.0</td>\n",
              "      <td>1.936886</td>\n",
              "      <td>0.125000</td>\n",
              "      <td>0.165266</td>\n",
              "    </tr>\n",
              "    <tr>\n",
              "      <th>60423</th>\n",
              "      <td>7998</td>\n",
              "      <td>142</td>\n",
              "      <td>310.0</td>\n",
              "      <td>107.0</td>\n",
              "      <td>224.0</td>\n",
              "      <td>224.0</td>\n",
              "      <td>197.0</td>\n",
              "      <td>463.0</td>\n",
              "      <td>199.0</td>\n",
              "      <td>381.0</td>\n",
              "      <td>2.330049</td>\n",
              "      <td>0.124349</td>\n",
              "      <td>0.165266</td>\n",
              "    </tr>\n",
              "    <tr>\n",
              "      <th>60424</th>\n",
              "      <td>7998</td>\n",
              "      <td>143</td>\n",
              "      <td>308.0</td>\n",
              "      <td>107.0</td>\n",
              "      <td>225.0</td>\n",
              "      <td>225.0</td>\n",
              "      <td>196.0</td>\n",
              "      <td>461.0</td>\n",
              "      <td>198.0</td>\n",
              "      <td>385.0</td>\n",
              "      <td>2.239189</td>\n",
              "      <td>0.125000</td>\n",
              "      <td>0.166667</td>\n",
              "    </tr>\n",
              "  </tbody>\n",
              "</table>\n",
              "<p>60425 rows × 13 columns</p>\n",
              "</div>\n",
              "      <button class=\"colab-df-convert\" onclick=\"convertToInteractive('df-509fe466-ede0-40d9-9eea-2f4ced77a4e8')\"\n",
              "              title=\"Convert this dataframe to an interactive table.\"\n",
              "              style=\"display:none;\">\n",
              "        \n",
              "  <svg xmlns=\"http://www.w3.org/2000/svg\" height=\"24px\"viewBox=\"0 0 24 24\"\n",
              "       width=\"24px\">\n",
              "    <path d=\"M0 0h24v24H0V0z\" fill=\"none\"/>\n",
              "    <path d=\"M18.56 5.44l.94 2.06.94-2.06 2.06-.94-2.06-.94-.94-2.06-.94 2.06-2.06.94zm-11 1L8.5 8.5l.94-2.06 2.06-.94-2.06-.94L8.5 2.5l-.94 2.06-2.06.94zm10 10l.94 2.06.94-2.06 2.06-.94-2.06-.94-.94-2.06-.94 2.06-2.06.94z\"/><path d=\"M17.41 7.96l-1.37-1.37c-.4-.4-.92-.59-1.43-.59-.52 0-1.04.2-1.43.59L10.3 9.45l-7.72 7.72c-.78.78-.78 2.05 0 2.83L4 21.41c.39.39.9.59 1.41.59.51 0 1.02-.2 1.41-.59l7.78-7.78 2.81-2.81c.8-.78.8-2.07 0-2.86zM5.41 20L4 18.59l7.72-7.72 1.47 1.35L5.41 20z\"/>\n",
              "  </svg>\n",
              "      </button>\n",
              "      \n",
              "  <style>\n",
              "    .colab-df-container {\n",
              "      display:flex;\n",
              "      flex-wrap:wrap;\n",
              "      gap: 12px;\n",
              "    }\n",
              "\n",
              "    .colab-df-convert {\n",
              "      background-color: #E8F0FE;\n",
              "      border: none;\n",
              "      border-radius: 50%;\n",
              "      cursor: pointer;\n",
              "      display: none;\n",
              "      fill: #1967D2;\n",
              "      height: 32px;\n",
              "      padding: 0 0 0 0;\n",
              "      width: 32px;\n",
              "    }\n",
              "\n",
              "    .colab-df-convert:hover {\n",
              "      background-color: #E2EBFA;\n",
              "      box-shadow: 0px 1px 2px rgba(60, 64, 67, 0.3), 0px 1px 3px 1px rgba(60, 64, 67, 0.15);\n",
              "      fill: #174EA6;\n",
              "    }\n",
              "\n",
              "    [theme=dark] .colab-df-convert {\n",
              "      background-color: #3B4455;\n",
              "      fill: #D2E3FC;\n",
              "    }\n",
              "\n",
              "    [theme=dark] .colab-df-convert:hover {\n",
              "      background-color: #434B5C;\n",
              "      box-shadow: 0px 1px 3px 1px rgba(0, 0, 0, 0.15);\n",
              "      filter: drop-shadow(0px 1px 2px rgba(0, 0, 0, 0.3));\n",
              "      fill: #FFFFFF;\n",
              "    }\n",
              "  </style>\n",
              "\n",
              "      <script>\n",
              "        const buttonEl =\n",
              "          document.querySelector('#df-509fe466-ede0-40d9-9eea-2f4ced77a4e8 button.colab-df-convert');\n",
              "        buttonEl.style.display =\n",
              "          google.colab.kernel.accessAllowed ? 'block' : 'none';\n",
              "\n",
              "        async function convertToInteractive(key) {\n",
              "          const element = document.querySelector('#df-509fe466-ede0-40d9-9eea-2f4ced77a4e8');\n",
              "          const dataTable =\n",
              "            await google.colab.kernel.invokeFunction('convertToInteractive',\n",
              "                                                     [key], {});\n",
              "          if (!dataTable) return;\n",
              "\n",
              "          const docLinkHtml = 'Like what you see? Visit the ' +\n",
              "            '<a target=\"_blank\" href=https://colab.research.google.com/notebooks/data_table.ipynb>data table notebook</a>'\n",
              "            + ' to learn more about interactive tables.';\n",
              "          element.innerHTML = '';\n",
              "          dataTable['output_type'] = 'display_data';\n",
              "          await google.colab.output.renderOutput(dataTable, element);\n",
              "          const docLink = document.createElement('div');\n",
              "          docLink.innerHTML = docLinkHtml;\n",
              "          element.appendChild(docLink);\n",
              "        }\n",
              "      </script>\n",
              "    </div>\n",
              "  </div>\n",
              "  "
            ]
          },
          "metadata": {},
          "execution_count": 8
        }
      ],
      "source": [
        "df"
      ]
    },
    {
      "cell_type": "code",
      "execution_count": 9,
      "id": "f36b28c8",
      "metadata": {
        "id": "f36b28c8",
        "outputId": "a36f79b5-f311-4bca-c993-1c365e16c5ff",
        "colab": {
          "base_uri": "https://localhost:8080/"
        }
      },
      "outputs": [
        {
          "output_type": "execute_result",
          "data": {
            "text/plain": [
              "Stimuli          0\n",
              "Frame Number     0\n",
              "Face_Y           0\n",
              "Face_X           0\n",
              "Face_W           0\n",
              "Face_H           0\n",
              "Right_Eye_X      0\n",
              "Right_Eye_Y      0\n",
              "Left_Eye_X       0\n",
              "Left_Eye_Y       0\n",
              "Face_Angle       0\n",
              "X_Predictions    0\n",
              "Y_Predictions    0\n",
              "dtype: int64"
            ]
          },
          "metadata": {},
          "execution_count": 9
        }
      ],
      "source": [
        "# Checking NaN values\n",
        "df.isna().sum()"
      ]
    },
    {
      "cell_type": "markdown",
      "id": "c731dfaa",
      "metadata": {
        "id": "c731dfaa"
      },
      "source": [
        "### Define Stimuli, X,Y:"
      ]
    },
    {
      "cell_type": "code",
      "execution_count": 10,
      "id": "ad641118",
      "metadata": {
        "id": "ad641118",
        "outputId": "da0f83dc-c929-4c65-a919-a5cadd364d65",
        "colab": {
          "base_uri": "https://localhost:8080/"
        }
      },
      "outputs": [
        {
          "output_type": "execute_result",
          "data": {
            "text/plain": [
              "Index(['Stimuli', 'Frame Number', 'Face_Y', 'Face_X', 'Face_W', 'Face_H',\n",
              "       'Right_Eye_X', 'Right_Eye_Y', 'Left_Eye_X', 'Left_Eye_Y', 'Face_Angle',\n",
              "       'X_Predictions', 'Y_Predictions'],\n",
              "      dtype='object')"
            ]
          },
          "metadata": {},
          "execution_count": 10
        }
      ],
      "source": [
        "df.columns"
      ]
    },
    {
      "cell_type": "code",
      "execution_count": 11,
      "id": "20fe5932",
      "metadata": {
        "id": "20fe5932"
      },
      "outputs": [],
      "source": [
        "features_columns = ['Stimuli', 'Frame Number', 'Face_Y', 'Face_X', 'Face_W','Face_H',\n",
        "                    'Right_Eye_X', 'Right_Eye_Y', 'Left_Eye_X', 'Left_Eye_Y', 'Face_Angle']\n",
        "\n",
        "target_columns=['X_Predictions', 'Y_Predictions']"
      ]
    },
    {
      "cell_type": "code",
      "execution_count": 12,
      "id": "b09dd4fd",
      "metadata": {
        "id": "b09dd4fd"
      },
      "outputs": [],
      "source": [
        "X=df[features_columns]"
      ]
    },
    {
      "cell_type": "code",
      "execution_count": 13,
      "id": "0e6bd96e",
      "metadata": {
        "id": "0e6bd96e"
      },
      "outputs": [],
      "source": [
        "y=df[target_columns]"
      ]
    },
    {
      "cell_type": "code",
      "execution_count": 14,
      "id": "d39d4214",
      "metadata": {
        "id": "d39d4214"
      },
      "outputs": [],
      "source": [
        "X_train_valid= X[X['Stimuli']<= 11]"
      ]
    },
    {
      "cell_type": "code",
      "execution_count": 15,
      "id": "7956bc01",
      "metadata": {
        "id": "7956bc01"
      },
      "outputs": [],
      "source": [
        "X_test= X[X['Stimuli']> 11]"
      ]
    },
    {
      "cell_type": "code",
      "execution_count": 16,
      "id": "5e378b7c",
      "metadata": {
        "id": "5e378b7c"
      },
      "outputs": [],
      "source": [
        "y_train_valid= y[X['Stimuli']<= 11]"
      ]
    },
    {
      "cell_type": "code",
      "execution_count": 17,
      "id": "a4a62f0a",
      "metadata": {
        "id": "a4a62f0a"
      },
      "outputs": [],
      "source": [
        "y_test= y[X['Stimuli']> 11]"
      ]
    },
    {
      "cell_type": "markdown",
      "id": "4bf54129",
      "metadata": {
        "id": "4bf54129"
      },
      "source": [
        "### Split data:"
      ]
    },
    {
      "cell_type": "code",
      "execution_count": 18,
      "id": "9f3e6b1e",
      "metadata": {
        "id": "9f3e6b1e"
      },
      "outputs": [],
      "source": [
        "X_train, X_valid, y_train, y_valid = train_test_split(X_train_valid, y_train_valid, test_size=0.3,stratify =X_train_valid['Stimuli'] ,random_state=42)"
      ]
    },
    {
      "cell_type": "code",
      "execution_count": 19,
      "id": "de2509de",
      "metadata": {
        "id": "de2509de",
        "outputId": "01d9bca4-2f0c-4d0d-c127-6a88b54f12b9",
        "colab": {
          "base_uri": "https://localhost:8080/"
        }
      },
      "outputs": [
        {
          "output_type": "stream",
          "name": "stdout",
          "text": [
            "Whole dataset : 60425\n",
            "X Train size 23720\n",
            "y Train size 23720\n",
            "X Valid size 10167\n",
            "y Valid size 10167\n",
            "X Test size 26538\n",
            "y Test size 26538\n"
          ]
        }
      ],
      "source": [
        "print(\"Whole dataset :\",len(df))\n",
        "print(\"X Train size\", len(X_train))\n",
        "print(\"y Train size\", len(y_train))\n",
        "print(\"X Valid size\", len(X_valid))\n",
        "print(\"y Valid size\", len(y_valid))\n",
        "print(\"X Test size\", len(X_test))\n",
        "print(\"y Test size\", len(y_test))"
      ]
    },
    {
      "cell_type": "code",
      "execution_count": 20,
      "id": "1e687fb1",
      "metadata": {
        "id": "1e687fb1",
        "outputId": "dfea7f77-2dc6-4e0e-e310-ef974d2bc137",
        "colab": {
          "base_uri": "https://localhost:8080/"
        }
      },
      "outputs": [
        {
          "output_type": "stream",
          "name": "stdout",
          "text": [
            "X Train shape (23720, 11)\n",
            "y Train shape (23720, 2)\n",
            "X Valid shape (10167, 11)\n",
            "y Valid shape (10167, 2)\n",
            "X Test shape (26538, 11)\n",
            "y Test shape (26538, 2)\n"
          ]
        }
      ],
      "source": [
        "print(\"X Train shape\", X_train.shape)\n",
        "print(\"y Train shape\", y_train.shape)\n",
        "print(\"X Valid shape\", X_valid.shape)\n",
        "print(\"y Valid shape\", y_valid.shape)\n",
        "print(\"X Test shape\", X_test.shape)\n",
        "print(\"y Test shape\", y_test.shape)"
      ]
    },
    {
      "cell_type": "code",
      "execution_count": 21,
      "id": "aba39a0f",
      "metadata": {
        "id": "aba39a0f",
        "outputId": "ac8e06c9-1786-4365-a138-8b795ab286ca",
        "colab": {
          "base_uri": "https://localhost:8080/"
        }
      },
      "outputs": [
        {
          "output_type": "execute_result",
          "data": {
            "text/plain": [
              "(0     0.080017\n",
              " 9     0.083347\n",
              " 5     0.083474\n",
              " 2     0.083474\n",
              " 4     0.083516\n",
              " 1     0.083600\n",
              " 10    0.083642\n",
              " 3     0.083642\n",
              " 6     0.083685\n",
              " 7     0.083769\n",
              " 8     0.083853\n",
              " 11    0.083980\n",
              " Name: Stimuli, dtype: float64,\n",
              " 0     0.079965\n",
              " 9     0.083309\n",
              " 5     0.083505\n",
              " 2     0.083505\n",
              " 4     0.083505\n",
              " 6     0.083604\n",
              " 10    0.083604\n",
              " 1     0.083604\n",
              " 3     0.083702\n",
              " 7     0.083801\n",
              " 8     0.083899\n",
              " 11    0.083997\n",
              " Name: Stimuli, dtype: float64)"
            ]
          },
          "metadata": {},
          "execution_count": 21
        }
      ],
      "source": [
        "X_train['Stimuli'].value_counts().sort_values()/len(X_train), X_valid['Stimuli'].value_counts().sort_values()/len(X_valid)"
      ]
    },
    {
      "cell_type": "markdown",
      "source": [
        "### Drop columns:"
      ],
      "metadata": {
        "id": "MoEwCA0epTAK"
      },
      "id": "MoEwCA0epTAK"
    },
    {
      "cell_type": "code",
      "source": [
        "drop_column = ['Stimuli','Frame Number']"
      ],
      "metadata": {
        "id": "P74vNNi6pV9c"
      },
      "id": "P74vNNi6pV9c",
      "execution_count": 22,
      "outputs": []
    },
    {
      "cell_type": "code",
      "source": [
        "X.drop(columns = drop_column, inplace=True)"
      ],
      "metadata": {
        "colab": {
          "base_uri": "https://localhost:8080/"
        },
        "id": "6FsclG-TpWBZ",
        "outputId": "389c1e73-1a00-44d6-8c75-34d82d937898"
      },
      "id": "6FsclG-TpWBZ",
      "execution_count": 23,
      "outputs": [
        {
          "output_type": "stream",
          "name": "stderr",
          "text": [
            "<ipython-input-23-02a2a226598b>:1: SettingWithCopyWarning: \n",
            "A value is trying to be set on a copy of a slice from a DataFrame\n",
            "\n",
            "See the caveats in the documentation: https://pandas.pydata.org/pandas-docs/stable/user_guide/indexing.html#returning-a-view-versus-a-copy\n",
            "  X.drop(columns = drop_column, inplace=True)\n"
          ]
        }
      ]
    },
    {
      "cell_type": "code",
      "source": [
        "X"
      ],
      "metadata": {
        "colab": {
          "base_uri": "https://localhost:8080/",
          "height": 424
        },
        "id": "eoDGA3gdpcng",
        "outputId": "8f326088-fd83-4f0c-eee8-b19dc1ee1178"
      },
      "id": "eoDGA3gdpcng",
      "execution_count": 24,
      "outputs": [
        {
          "output_type": "execute_result",
          "data": {
            "text/plain": [
              "       Face_Y  Face_X  Face_W  Face_H  Right_Eye_X  Right_Eye_Y  Left_Eye_X  \\\n",
              "0       214.0   145.0   226.0   226.0        224.0        367.0       229.0   \n",
              "1       208.0   137.0   234.0   234.0        226.0        370.0       230.0   \n",
              "2       211.0   138.0   230.0   230.0        222.0        370.0       227.0   \n",
              "3       212.0   136.0   230.0   230.0        225.0        367.0       227.0   \n",
              "4       213.0   141.0   229.0   229.0        223.0        371.0       232.0   \n",
              "...       ...     ...     ...     ...          ...          ...         ...   \n",
              "60420   308.0   106.0   227.0   227.0        194.0        456.0       197.0   \n",
              "60421   307.0   105.0   229.0   229.0        198.0        456.0       201.0   \n",
              "60422   309.0   107.0   225.0   225.0        194.0        456.0       199.0   \n",
              "60423   310.0   107.0   224.0   224.0        197.0        463.0       199.0   \n",
              "60424   308.0   107.0   225.0   225.0        196.0        461.0       198.0   \n",
              "\n",
              "       Left_Eye_Y  Face_Angle  \n",
              "0           288.0    0.440271  \n",
              "1           288.0    0.351382  \n",
              "2           290.0    0.397633  \n",
              "3           288.0    0.493340  \n",
              "4           288.0    0.450772  \n",
              "...           ...         ...  \n",
              "60420       378.0    2.428763  \n",
              "60421       379.0    2.077050  \n",
              "60422       386.0    1.936886  \n",
              "60423       381.0    2.330049  \n",
              "60424       385.0    2.239189  \n",
              "\n",
              "[60425 rows x 9 columns]"
            ],
            "text/html": [
              "\n",
              "  <div id=\"df-9906118b-2d22-4fe9-be40-dbcf4344ae80\">\n",
              "    <div class=\"colab-df-container\">\n",
              "      <div>\n",
              "<style scoped>\n",
              "    .dataframe tbody tr th:only-of-type {\n",
              "        vertical-align: middle;\n",
              "    }\n",
              "\n",
              "    .dataframe tbody tr th {\n",
              "        vertical-align: top;\n",
              "    }\n",
              "\n",
              "    .dataframe thead th {\n",
              "        text-align: right;\n",
              "    }\n",
              "</style>\n",
              "<table border=\"1\" class=\"dataframe\">\n",
              "  <thead>\n",
              "    <tr style=\"text-align: right;\">\n",
              "      <th></th>\n",
              "      <th>Face_Y</th>\n",
              "      <th>Face_X</th>\n",
              "      <th>Face_W</th>\n",
              "      <th>Face_H</th>\n",
              "      <th>Right_Eye_X</th>\n",
              "      <th>Right_Eye_Y</th>\n",
              "      <th>Left_Eye_X</th>\n",
              "      <th>Left_Eye_Y</th>\n",
              "      <th>Face_Angle</th>\n",
              "    </tr>\n",
              "  </thead>\n",
              "  <tbody>\n",
              "    <tr>\n",
              "      <th>0</th>\n",
              "      <td>214.0</td>\n",
              "      <td>145.0</td>\n",
              "      <td>226.0</td>\n",
              "      <td>226.0</td>\n",
              "      <td>224.0</td>\n",
              "      <td>367.0</td>\n",
              "      <td>229.0</td>\n",
              "      <td>288.0</td>\n",
              "      <td>0.440271</td>\n",
              "    </tr>\n",
              "    <tr>\n",
              "      <th>1</th>\n",
              "      <td>208.0</td>\n",
              "      <td>137.0</td>\n",
              "      <td>234.0</td>\n",
              "      <td>234.0</td>\n",
              "      <td>226.0</td>\n",
              "      <td>370.0</td>\n",
              "      <td>230.0</td>\n",
              "      <td>288.0</td>\n",
              "      <td>0.351382</td>\n",
              "    </tr>\n",
              "    <tr>\n",
              "      <th>2</th>\n",
              "      <td>211.0</td>\n",
              "      <td>138.0</td>\n",
              "      <td>230.0</td>\n",
              "      <td>230.0</td>\n",
              "      <td>222.0</td>\n",
              "      <td>370.0</td>\n",
              "      <td>227.0</td>\n",
              "      <td>290.0</td>\n",
              "      <td>0.397633</td>\n",
              "    </tr>\n",
              "    <tr>\n",
              "      <th>3</th>\n",
              "      <td>212.0</td>\n",
              "      <td>136.0</td>\n",
              "      <td>230.0</td>\n",
              "      <td>230.0</td>\n",
              "      <td>225.0</td>\n",
              "      <td>367.0</td>\n",
              "      <td>227.0</td>\n",
              "      <td>288.0</td>\n",
              "      <td>0.493340</td>\n",
              "    </tr>\n",
              "    <tr>\n",
              "      <th>4</th>\n",
              "      <td>213.0</td>\n",
              "      <td>141.0</td>\n",
              "      <td>229.0</td>\n",
              "      <td>229.0</td>\n",
              "      <td>223.0</td>\n",
              "      <td>371.0</td>\n",
              "      <td>232.0</td>\n",
              "      <td>288.0</td>\n",
              "      <td>0.450772</td>\n",
              "    </tr>\n",
              "    <tr>\n",
              "      <th>...</th>\n",
              "      <td>...</td>\n",
              "      <td>...</td>\n",
              "      <td>...</td>\n",
              "      <td>...</td>\n",
              "      <td>...</td>\n",
              "      <td>...</td>\n",
              "      <td>...</td>\n",
              "      <td>...</td>\n",
              "      <td>...</td>\n",
              "    </tr>\n",
              "    <tr>\n",
              "      <th>60420</th>\n",
              "      <td>308.0</td>\n",
              "      <td>106.0</td>\n",
              "      <td>227.0</td>\n",
              "      <td>227.0</td>\n",
              "      <td>194.0</td>\n",
              "      <td>456.0</td>\n",
              "      <td>197.0</td>\n",
              "      <td>378.0</td>\n",
              "      <td>2.428763</td>\n",
              "    </tr>\n",
              "    <tr>\n",
              "      <th>60421</th>\n",
              "      <td>307.0</td>\n",
              "      <td>105.0</td>\n",
              "      <td>229.0</td>\n",
              "      <td>229.0</td>\n",
              "      <td>198.0</td>\n",
              "      <td>456.0</td>\n",
              "      <td>201.0</td>\n",
              "      <td>379.0</td>\n",
              "      <td>2.077050</td>\n",
              "    </tr>\n",
              "    <tr>\n",
              "      <th>60422</th>\n",
              "      <td>309.0</td>\n",
              "      <td>107.0</td>\n",
              "      <td>225.0</td>\n",
              "      <td>225.0</td>\n",
              "      <td>194.0</td>\n",
              "      <td>456.0</td>\n",
              "      <td>199.0</td>\n",
              "      <td>386.0</td>\n",
              "      <td>1.936886</td>\n",
              "    </tr>\n",
              "    <tr>\n",
              "      <th>60423</th>\n",
              "      <td>310.0</td>\n",
              "      <td>107.0</td>\n",
              "      <td>224.0</td>\n",
              "      <td>224.0</td>\n",
              "      <td>197.0</td>\n",
              "      <td>463.0</td>\n",
              "      <td>199.0</td>\n",
              "      <td>381.0</td>\n",
              "      <td>2.330049</td>\n",
              "    </tr>\n",
              "    <tr>\n",
              "      <th>60424</th>\n",
              "      <td>308.0</td>\n",
              "      <td>107.0</td>\n",
              "      <td>225.0</td>\n",
              "      <td>225.0</td>\n",
              "      <td>196.0</td>\n",
              "      <td>461.0</td>\n",
              "      <td>198.0</td>\n",
              "      <td>385.0</td>\n",
              "      <td>2.239189</td>\n",
              "    </tr>\n",
              "  </tbody>\n",
              "</table>\n",
              "<p>60425 rows × 9 columns</p>\n",
              "</div>\n",
              "      <button class=\"colab-df-convert\" onclick=\"convertToInteractive('df-9906118b-2d22-4fe9-be40-dbcf4344ae80')\"\n",
              "              title=\"Convert this dataframe to an interactive table.\"\n",
              "              style=\"display:none;\">\n",
              "        \n",
              "  <svg xmlns=\"http://www.w3.org/2000/svg\" height=\"24px\"viewBox=\"0 0 24 24\"\n",
              "       width=\"24px\">\n",
              "    <path d=\"M0 0h24v24H0V0z\" fill=\"none\"/>\n",
              "    <path d=\"M18.56 5.44l.94 2.06.94-2.06 2.06-.94-2.06-.94-.94-2.06-.94 2.06-2.06.94zm-11 1L8.5 8.5l.94-2.06 2.06-.94-2.06-.94L8.5 2.5l-.94 2.06-2.06.94zm10 10l.94 2.06.94-2.06 2.06-.94-2.06-.94-.94-2.06-.94 2.06-2.06.94z\"/><path d=\"M17.41 7.96l-1.37-1.37c-.4-.4-.92-.59-1.43-.59-.52 0-1.04.2-1.43.59L10.3 9.45l-7.72 7.72c-.78.78-.78 2.05 0 2.83L4 21.41c.39.39.9.59 1.41.59.51 0 1.02-.2 1.41-.59l7.78-7.78 2.81-2.81c.8-.78.8-2.07 0-2.86zM5.41 20L4 18.59l7.72-7.72 1.47 1.35L5.41 20z\"/>\n",
              "  </svg>\n",
              "      </button>\n",
              "      \n",
              "  <style>\n",
              "    .colab-df-container {\n",
              "      display:flex;\n",
              "      flex-wrap:wrap;\n",
              "      gap: 12px;\n",
              "    }\n",
              "\n",
              "    .colab-df-convert {\n",
              "      background-color: #E8F0FE;\n",
              "      border: none;\n",
              "      border-radius: 50%;\n",
              "      cursor: pointer;\n",
              "      display: none;\n",
              "      fill: #1967D2;\n",
              "      height: 32px;\n",
              "      padding: 0 0 0 0;\n",
              "      width: 32px;\n",
              "    }\n",
              "\n",
              "    .colab-df-convert:hover {\n",
              "      background-color: #E2EBFA;\n",
              "      box-shadow: 0px 1px 2px rgba(60, 64, 67, 0.3), 0px 1px 3px 1px rgba(60, 64, 67, 0.15);\n",
              "      fill: #174EA6;\n",
              "    }\n",
              "\n",
              "    [theme=dark] .colab-df-convert {\n",
              "      background-color: #3B4455;\n",
              "      fill: #D2E3FC;\n",
              "    }\n",
              "\n",
              "    [theme=dark] .colab-df-convert:hover {\n",
              "      background-color: #434B5C;\n",
              "      box-shadow: 0px 1px 3px 1px rgba(0, 0, 0, 0.15);\n",
              "      filter: drop-shadow(0px 1px 2px rgba(0, 0, 0, 0.3));\n",
              "      fill: #FFFFFF;\n",
              "    }\n",
              "  </style>\n",
              "\n",
              "      <script>\n",
              "        const buttonEl =\n",
              "          document.querySelector('#df-9906118b-2d22-4fe9-be40-dbcf4344ae80 button.colab-df-convert');\n",
              "        buttonEl.style.display =\n",
              "          google.colab.kernel.accessAllowed ? 'block' : 'none';\n",
              "\n",
              "        async function convertToInteractive(key) {\n",
              "          const element = document.querySelector('#df-9906118b-2d22-4fe9-be40-dbcf4344ae80');\n",
              "          const dataTable =\n",
              "            await google.colab.kernel.invokeFunction('convertToInteractive',\n",
              "                                                     [key], {});\n",
              "          if (!dataTable) return;\n",
              "\n",
              "          const docLinkHtml = 'Like what you see? Visit the ' +\n",
              "            '<a target=\"_blank\" href=https://colab.research.google.com/notebooks/data_table.ipynb>data table notebook</a>'\n",
              "            + ' to learn more about interactive tables.';\n",
              "          element.innerHTML = '';\n",
              "          dataTable['output_type'] = 'display_data';\n",
              "          await google.colab.output.renderOutput(dataTable, element);\n",
              "          const docLink = document.createElement('div');\n",
              "          docLink.innerHTML = docLinkHtml;\n",
              "          element.appendChild(docLink);\n",
              "        }\n",
              "      </script>\n",
              "    </div>\n",
              "  </div>\n",
              "  "
            ]
          },
          "metadata": {},
          "execution_count": 24
        }
      ]
    },
    {
      "cell_type": "code",
      "source": [
        "X_train.drop(columns = drop_column, inplace=True)"
      ],
      "metadata": {
        "id": "gaHJbeoCpcrd"
      },
      "id": "gaHJbeoCpcrd",
      "execution_count": 25,
      "outputs": []
    },
    {
      "cell_type": "code",
      "source": [
        "X_train"
      ],
      "metadata": {
        "colab": {
          "base_uri": "https://localhost:8080/",
          "height": 424
        },
        "id": "iFY0p1jqpWFP",
        "outputId": "dce3c8c3-3526-4654-c97d-837ea7891dc7"
      },
      "id": "iFY0p1jqpWFP",
      "execution_count": 26,
      "outputs": [
        {
          "output_type": "execute_result",
          "data": {
            "text/plain": [
              "       Face_Y  Face_X  Face_W  Face_H  Right_Eye_X  Right_Eye_Y  Left_Eye_X  \\\n",
              "30626   199.0   183.0   205.0   205.0        266.0        340.0       266.0   \n",
              "10603   225.0   187.0   202.0   202.0        260.0        366.0       259.0   \n",
              "28769   110.0   309.0   199.0   199.0        389.0        242.0       391.0   \n",
              "30149   133.0   242.0   206.0   206.0        331.0        271.0       330.0   \n",
              "16125   239.0   160.0   201.0   201.0        238.0        382.0       231.0   \n",
              "...       ...     ...     ...     ...          ...          ...         ...   \n",
              "28521   153.0   195.0   269.0   269.0        302.0        332.0       306.0   \n",
              "17344   148.0   275.0   209.0   209.0        359.0        295.0       345.0   \n",
              "30525   235.0   160.0   225.0   225.0        255.0        393.0       254.0   \n",
              "26050   254.0   163.0   249.0   249.0        262.0        424.0       268.0   \n",
              "12382   156.0    17.0   267.0   267.0        117.0        329.0       116.0   \n",
              "\n",
              "       Left_Eye_Y  Face_Angle  \n",
              "30626       259.0    0.353743  \n",
              "10603       286.0    0.469339  \n",
              "28769       172.0    0.156968  \n",
              "30149       202.0    0.206556  \n",
              "16125       310.0    0.550115  \n",
              "...           ...         ...  \n",
              "28521       237.0    0.230310  \n",
              "17344       214.0    0.164995  \n",
              "30525       311.0    0.642546  \n",
              "26050       337.0    0.501909  \n",
              "12382       239.0    0.780660  \n",
              "\n",
              "[23720 rows x 9 columns]"
            ],
            "text/html": [
              "\n",
              "  <div id=\"df-e3736fd9-bc7d-4825-bf78-e19368cfb36d\">\n",
              "    <div class=\"colab-df-container\">\n",
              "      <div>\n",
              "<style scoped>\n",
              "    .dataframe tbody tr th:only-of-type {\n",
              "        vertical-align: middle;\n",
              "    }\n",
              "\n",
              "    .dataframe tbody tr th {\n",
              "        vertical-align: top;\n",
              "    }\n",
              "\n",
              "    .dataframe thead th {\n",
              "        text-align: right;\n",
              "    }\n",
              "</style>\n",
              "<table border=\"1\" class=\"dataframe\">\n",
              "  <thead>\n",
              "    <tr style=\"text-align: right;\">\n",
              "      <th></th>\n",
              "      <th>Face_Y</th>\n",
              "      <th>Face_X</th>\n",
              "      <th>Face_W</th>\n",
              "      <th>Face_H</th>\n",
              "      <th>Right_Eye_X</th>\n",
              "      <th>Right_Eye_Y</th>\n",
              "      <th>Left_Eye_X</th>\n",
              "      <th>Left_Eye_Y</th>\n",
              "      <th>Face_Angle</th>\n",
              "    </tr>\n",
              "  </thead>\n",
              "  <tbody>\n",
              "    <tr>\n",
              "      <th>30626</th>\n",
              "      <td>199.0</td>\n",
              "      <td>183.0</td>\n",
              "      <td>205.0</td>\n",
              "      <td>205.0</td>\n",
              "      <td>266.0</td>\n",
              "      <td>340.0</td>\n",
              "      <td>266.0</td>\n",
              "      <td>259.0</td>\n",
              "      <td>0.353743</td>\n",
              "    </tr>\n",
              "    <tr>\n",
              "      <th>10603</th>\n",
              "      <td>225.0</td>\n",
              "      <td>187.0</td>\n",
              "      <td>202.0</td>\n",
              "      <td>202.0</td>\n",
              "      <td>260.0</td>\n",
              "      <td>366.0</td>\n",
              "      <td>259.0</td>\n",
              "      <td>286.0</td>\n",
              "      <td>0.469339</td>\n",
              "    </tr>\n",
              "    <tr>\n",
              "      <th>28769</th>\n",
              "      <td>110.0</td>\n",
              "      <td>309.0</td>\n",
              "      <td>199.0</td>\n",
              "      <td>199.0</td>\n",
              "      <td>389.0</td>\n",
              "      <td>242.0</td>\n",
              "      <td>391.0</td>\n",
              "      <td>172.0</td>\n",
              "      <td>0.156968</td>\n",
              "    </tr>\n",
              "    <tr>\n",
              "      <th>30149</th>\n",
              "      <td>133.0</td>\n",
              "      <td>242.0</td>\n",
              "      <td>206.0</td>\n",
              "      <td>206.0</td>\n",
              "      <td>331.0</td>\n",
              "      <td>271.0</td>\n",
              "      <td>330.0</td>\n",
              "      <td>202.0</td>\n",
              "      <td>0.206556</td>\n",
              "    </tr>\n",
              "    <tr>\n",
              "      <th>16125</th>\n",
              "      <td>239.0</td>\n",
              "      <td>160.0</td>\n",
              "      <td>201.0</td>\n",
              "      <td>201.0</td>\n",
              "      <td>238.0</td>\n",
              "      <td>382.0</td>\n",
              "      <td>231.0</td>\n",
              "      <td>310.0</td>\n",
              "      <td>0.550115</td>\n",
              "    </tr>\n",
              "    <tr>\n",
              "      <th>...</th>\n",
              "      <td>...</td>\n",
              "      <td>...</td>\n",
              "      <td>...</td>\n",
              "      <td>...</td>\n",
              "      <td>...</td>\n",
              "      <td>...</td>\n",
              "      <td>...</td>\n",
              "      <td>...</td>\n",
              "      <td>...</td>\n",
              "    </tr>\n",
              "    <tr>\n",
              "      <th>28521</th>\n",
              "      <td>153.0</td>\n",
              "      <td>195.0</td>\n",
              "      <td>269.0</td>\n",
              "      <td>269.0</td>\n",
              "      <td>302.0</td>\n",
              "      <td>332.0</td>\n",
              "      <td>306.0</td>\n",
              "      <td>237.0</td>\n",
              "      <td>0.230310</td>\n",
              "    </tr>\n",
              "    <tr>\n",
              "      <th>17344</th>\n",
              "      <td>148.0</td>\n",
              "      <td>275.0</td>\n",
              "      <td>209.0</td>\n",
              "      <td>209.0</td>\n",
              "      <td>359.0</td>\n",
              "      <td>295.0</td>\n",
              "      <td>345.0</td>\n",
              "      <td>214.0</td>\n",
              "      <td>0.164995</td>\n",
              "    </tr>\n",
              "    <tr>\n",
              "      <th>30525</th>\n",
              "      <td>235.0</td>\n",
              "      <td>160.0</td>\n",
              "      <td>225.0</td>\n",
              "      <td>225.0</td>\n",
              "      <td>255.0</td>\n",
              "      <td>393.0</td>\n",
              "      <td>254.0</td>\n",
              "      <td>311.0</td>\n",
              "      <td>0.642546</td>\n",
              "    </tr>\n",
              "    <tr>\n",
              "      <th>26050</th>\n",
              "      <td>254.0</td>\n",
              "      <td>163.0</td>\n",
              "      <td>249.0</td>\n",
              "      <td>249.0</td>\n",
              "      <td>262.0</td>\n",
              "      <td>424.0</td>\n",
              "      <td>268.0</td>\n",
              "      <td>337.0</td>\n",
              "      <td>0.501909</td>\n",
              "    </tr>\n",
              "    <tr>\n",
              "      <th>12382</th>\n",
              "      <td>156.0</td>\n",
              "      <td>17.0</td>\n",
              "      <td>267.0</td>\n",
              "      <td>267.0</td>\n",
              "      <td>117.0</td>\n",
              "      <td>329.0</td>\n",
              "      <td>116.0</td>\n",
              "      <td>239.0</td>\n",
              "      <td>0.780660</td>\n",
              "    </tr>\n",
              "  </tbody>\n",
              "</table>\n",
              "<p>23720 rows × 9 columns</p>\n",
              "</div>\n",
              "      <button class=\"colab-df-convert\" onclick=\"convertToInteractive('df-e3736fd9-bc7d-4825-bf78-e19368cfb36d')\"\n",
              "              title=\"Convert this dataframe to an interactive table.\"\n",
              "              style=\"display:none;\">\n",
              "        \n",
              "  <svg xmlns=\"http://www.w3.org/2000/svg\" height=\"24px\"viewBox=\"0 0 24 24\"\n",
              "       width=\"24px\">\n",
              "    <path d=\"M0 0h24v24H0V0z\" fill=\"none\"/>\n",
              "    <path d=\"M18.56 5.44l.94 2.06.94-2.06 2.06-.94-2.06-.94-.94-2.06-.94 2.06-2.06.94zm-11 1L8.5 8.5l.94-2.06 2.06-.94-2.06-.94L8.5 2.5l-.94 2.06-2.06.94zm10 10l.94 2.06.94-2.06 2.06-.94-2.06-.94-.94-2.06-.94 2.06-2.06.94z\"/><path d=\"M17.41 7.96l-1.37-1.37c-.4-.4-.92-.59-1.43-.59-.52 0-1.04.2-1.43.59L10.3 9.45l-7.72 7.72c-.78.78-.78 2.05 0 2.83L4 21.41c.39.39.9.59 1.41.59.51 0 1.02-.2 1.41-.59l7.78-7.78 2.81-2.81c.8-.78.8-2.07 0-2.86zM5.41 20L4 18.59l7.72-7.72 1.47 1.35L5.41 20z\"/>\n",
              "  </svg>\n",
              "      </button>\n",
              "      \n",
              "  <style>\n",
              "    .colab-df-container {\n",
              "      display:flex;\n",
              "      flex-wrap:wrap;\n",
              "      gap: 12px;\n",
              "    }\n",
              "\n",
              "    .colab-df-convert {\n",
              "      background-color: #E8F0FE;\n",
              "      border: none;\n",
              "      border-radius: 50%;\n",
              "      cursor: pointer;\n",
              "      display: none;\n",
              "      fill: #1967D2;\n",
              "      height: 32px;\n",
              "      padding: 0 0 0 0;\n",
              "      width: 32px;\n",
              "    }\n",
              "\n",
              "    .colab-df-convert:hover {\n",
              "      background-color: #E2EBFA;\n",
              "      box-shadow: 0px 1px 2px rgba(60, 64, 67, 0.3), 0px 1px 3px 1px rgba(60, 64, 67, 0.15);\n",
              "      fill: #174EA6;\n",
              "    }\n",
              "\n",
              "    [theme=dark] .colab-df-convert {\n",
              "      background-color: #3B4455;\n",
              "      fill: #D2E3FC;\n",
              "    }\n",
              "\n",
              "    [theme=dark] .colab-df-convert:hover {\n",
              "      background-color: #434B5C;\n",
              "      box-shadow: 0px 1px 3px 1px rgba(0, 0, 0, 0.15);\n",
              "      filter: drop-shadow(0px 1px 2px rgba(0, 0, 0, 0.3));\n",
              "      fill: #FFFFFF;\n",
              "    }\n",
              "  </style>\n",
              "\n",
              "      <script>\n",
              "        const buttonEl =\n",
              "          document.querySelector('#df-e3736fd9-bc7d-4825-bf78-e19368cfb36d button.colab-df-convert');\n",
              "        buttonEl.style.display =\n",
              "          google.colab.kernel.accessAllowed ? 'block' : 'none';\n",
              "\n",
              "        async function convertToInteractive(key) {\n",
              "          const element = document.querySelector('#df-e3736fd9-bc7d-4825-bf78-e19368cfb36d');\n",
              "          const dataTable =\n",
              "            await google.colab.kernel.invokeFunction('convertToInteractive',\n",
              "                                                     [key], {});\n",
              "          if (!dataTable) return;\n",
              "\n",
              "          const docLinkHtml = 'Like what you see? Visit the ' +\n",
              "            '<a target=\"_blank\" href=https://colab.research.google.com/notebooks/data_table.ipynb>data table notebook</a>'\n",
              "            + ' to learn more about interactive tables.';\n",
              "          element.innerHTML = '';\n",
              "          dataTable['output_type'] = 'display_data';\n",
              "          await google.colab.output.renderOutput(dataTable, element);\n",
              "          const docLink = document.createElement('div');\n",
              "          docLink.innerHTML = docLinkHtml;\n",
              "          element.appendChild(docLink);\n",
              "        }\n",
              "      </script>\n",
              "    </div>\n",
              "  </div>\n",
              "  "
            ]
          },
          "metadata": {},
          "execution_count": 26
        }
      ]
    },
    {
      "cell_type": "code",
      "source": [
        "X_valid.drop(columns = drop_column, inplace=True)"
      ],
      "metadata": {
        "id": "__Q9XjtGpWIt"
      },
      "id": "__Q9XjtGpWIt",
      "execution_count": 27,
      "outputs": []
    },
    {
      "cell_type": "code",
      "source": [
        "X_valid"
      ],
      "metadata": {
        "colab": {
          "base_uri": "https://localhost:8080/",
          "height": 424
        },
        "id": "WR4r5fDzpjDK",
        "outputId": "8cf43849-3899-4919-9095-16b034122442"
      },
      "id": "WR4r5fDzpjDK",
      "execution_count": 28,
      "outputs": [
        {
          "output_type": "execute_result",
          "data": {
            "text/plain": [
              "       Face_Y  Face_X  Face_W  Face_H  Right_Eye_X  Right_Eye_Y  Left_Eye_X  \\\n",
              "127     217.0   146.0   231.0   231.0        230.0        380.0       237.0   \n",
              "32452   228.0   255.0   179.0   179.0        328.0        347.0       328.0   \n",
              "19084   223.0   158.0   210.0   210.0        232.0        367.0       229.0   \n",
              "16347   245.0   155.0   221.0   221.0        249.0        397.0       246.0   \n",
              "16544   195.0   176.0   215.0   215.0        262.0        342.0       264.0   \n",
              "...       ...     ...     ...     ...          ...          ...         ...   \n",
              "22209   197.0   180.0   210.0   210.0        264.0        337.0       264.0   \n",
              "16792   272.0   122.0   261.0   261.0        225.0        454.0       222.0   \n",
              "19581   271.0   120.0   262.0   262.0        226.0        442.0       224.0   \n",
              "9269    174.0    65.0   283.0   283.0        191.0        355.0       187.0   \n",
              "24084   198.0   204.0   182.0   182.0        271.0        323.0       275.0   \n",
              "\n",
              "       Left_Eye_Y  Face_Angle  \n",
              "127         296.0    0.381793  \n",
              "32452       288.0    0.379762  \n",
              "19084       287.0    0.608490  \n",
              "16347       320.0    0.688683  \n",
              "16544       260.0    0.333173  \n",
              "...           ...         ...  \n",
              "22209       257.0    0.321964  \n",
              "16792       363.0    1.236665  \n",
              "19581       358.0    1.236923  \n",
              "9269        246.0    0.364568  \n",
              "24084       262.0    0.387274  \n",
              "\n",
              "[10167 rows x 9 columns]"
            ],
            "text/html": [
              "\n",
              "  <div id=\"df-f4f00c95-b21f-44d4-9887-eb45ada755b5\">\n",
              "    <div class=\"colab-df-container\">\n",
              "      <div>\n",
              "<style scoped>\n",
              "    .dataframe tbody tr th:only-of-type {\n",
              "        vertical-align: middle;\n",
              "    }\n",
              "\n",
              "    .dataframe tbody tr th {\n",
              "        vertical-align: top;\n",
              "    }\n",
              "\n",
              "    .dataframe thead th {\n",
              "        text-align: right;\n",
              "    }\n",
              "</style>\n",
              "<table border=\"1\" class=\"dataframe\">\n",
              "  <thead>\n",
              "    <tr style=\"text-align: right;\">\n",
              "      <th></th>\n",
              "      <th>Face_Y</th>\n",
              "      <th>Face_X</th>\n",
              "      <th>Face_W</th>\n",
              "      <th>Face_H</th>\n",
              "      <th>Right_Eye_X</th>\n",
              "      <th>Right_Eye_Y</th>\n",
              "      <th>Left_Eye_X</th>\n",
              "      <th>Left_Eye_Y</th>\n",
              "      <th>Face_Angle</th>\n",
              "    </tr>\n",
              "  </thead>\n",
              "  <tbody>\n",
              "    <tr>\n",
              "      <th>127</th>\n",
              "      <td>217.0</td>\n",
              "      <td>146.0</td>\n",
              "      <td>231.0</td>\n",
              "      <td>231.0</td>\n",
              "      <td>230.0</td>\n",
              "      <td>380.0</td>\n",
              "      <td>237.0</td>\n",
              "      <td>296.0</td>\n",
              "      <td>0.381793</td>\n",
              "    </tr>\n",
              "    <tr>\n",
              "      <th>32452</th>\n",
              "      <td>228.0</td>\n",
              "      <td>255.0</td>\n",
              "      <td>179.0</td>\n",
              "      <td>179.0</td>\n",
              "      <td>328.0</td>\n",
              "      <td>347.0</td>\n",
              "      <td>328.0</td>\n",
              "      <td>288.0</td>\n",
              "      <td>0.379762</td>\n",
              "    </tr>\n",
              "    <tr>\n",
              "      <th>19084</th>\n",
              "      <td>223.0</td>\n",
              "      <td>158.0</td>\n",
              "      <td>210.0</td>\n",
              "      <td>210.0</td>\n",
              "      <td>232.0</td>\n",
              "      <td>367.0</td>\n",
              "      <td>229.0</td>\n",
              "      <td>287.0</td>\n",
              "      <td>0.608490</td>\n",
              "    </tr>\n",
              "    <tr>\n",
              "      <th>16347</th>\n",
              "      <td>245.0</td>\n",
              "      <td>155.0</td>\n",
              "      <td>221.0</td>\n",
              "      <td>221.0</td>\n",
              "      <td>249.0</td>\n",
              "      <td>397.0</td>\n",
              "      <td>246.0</td>\n",
              "      <td>320.0</td>\n",
              "      <td>0.688683</td>\n",
              "    </tr>\n",
              "    <tr>\n",
              "      <th>16544</th>\n",
              "      <td>195.0</td>\n",
              "      <td>176.0</td>\n",
              "      <td>215.0</td>\n",
              "      <td>215.0</td>\n",
              "      <td>262.0</td>\n",
              "      <td>342.0</td>\n",
              "      <td>264.0</td>\n",
              "      <td>260.0</td>\n",
              "      <td>0.333173</td>\n",
              "    </tr>\n",
              "    <tr>\n",
              "      <th>...</th>\n",
              "      <td>...</td>\n",
              "      <td>...</td>\n",
              "      <td>...</td>\n",
              "      <td>...</td>\n",
              "      <td>...</td>\n",
              "      <td>...</td>\n",
              "      <td>...</td>\n",
              "      <td>...</td>\n",
              "      <td>...</td>\n",
              "    </tr>\n",
              "    <tr>\n",
              "      <th>22209</th>\n",
              "      <td>197.0</td>\n",
              "      <td>180.0</td>\n",
              "      <td>210.0</td>\n",
              "      <td>210.0</td>\n",
              "      <td>264.0</td>\n",
              "      <td>337.0</td>\n",
              "      <td>264.0</td>\n",
              "      <td>257.0</td>\n",
              "      <td>0.321964</td>\n",
              "    </tr>\n",
              "    <tr>\n",
              "      <th>16792</th>\n",
              "      <td>272.0</td>\n",
              "      <td>122.0</td>\n",
              "      <td>261.0</td>\n",
              "      <td>261.0</td>\n",
              "      <td>225.0</td>\n",
              "      <td>454.0</td>\n",
              "      <td>222.0</td>\n",
              "      <td>363.0</td>\n",
              "      <td>1.236665</td>\n",
              "    </tr>\n",
              "    <tr>\n",
              "      <th>19581</th>\n",
              "      <td>271.0</td>\n",
              "      <td>120.0</td>\n",
              "      <td>262.0</td>\n",
              "      <td>262.0</td>\n",
              "      <td>226.0</td>\n",
              "      <td>442.0</td>\n",
              "      <td>224.0</td>\n",
              "      <td>358.0</td>\n",
              "      <td>1.236923</td>\n",
              "    </tr>\n",
              "    <tr>\n",
              "      <th>9269</th>\n",
              "      <td>174.0</td>\n",
              "      <td>65.0</td>\n",
              "      <td>283.0</td>\n",
              "      <td>283.0</td>\n",
              "      <td>191.0</td>\n",
              "      <td>355.0</td>\n",
              "      <td>187.0</td>\n",
              "      <td>246.0</td>\n",
              "      <td>0.364568</td>\n",
              "    </tr>\n",
              "    <tr>\n",
              "      <th>24084</th>\n",
              "      <td>198.0</td>\n",
              "      <td>204.0</td>\n",
              "      <td>182.0</td>\n",
              "      <td>182.0</td>\n",
              "      <td>271.0</td>\n",
              "      <td>323.0</td>\n",
              "      <td>275.0</td>\n",
              "      <td>262.0</td>\n",
              "      <td>0.387274</td>\n",
              "    </tr>\n",
              "  </tbody>\n",
              "</table>\n",
              "<p>10167 rows × 9 columns</p>\n",
              "</div>\n",
              "      <button class=\"colab-df-convert\" onclick=\"convertToInteractive('df-f4f00c95-b21f-44d4-9887-eb45ada755b5')\"\n",
              "              title=\"Convert this dataframe to an interactive table.\"\n",
              "              style=\"display:none;\">\n",
              "        \n",
              "  <svg xmlns=\"http://www.w3.org/2000/svg\" height=\"24px\"viewBox=\"0 0 24 24\"\n",
              "       width=\"24px\">\n",
              "    <path d=\"M0 0h24v24H0V0z\" fill=\"none\"/>\n",
              "    <path d=\"M18.56 5.44l.94 2.06.94-2.06 2.06-.94-2.06-.94-.94-2.06-.94 2.06-2.06.94zm-11 1L8.5 8.5l.94-2.06 2.06-.94-2.06-.94L8.5 2.5l-.94 2.06-2.06.94zm10 10l.94 2.06.94-2.06 2.06-.94-2.06-.94-.94-2.06-.94 2.06-2.06.94z\"/><path d=\"M17.41 7.96l-1.37-1.37c-.4-.4-.92-.59-1.43-.59-.52 0-1.04.2-1.43.59L10.3 9.45l-7.72 7.72c-.78.78-.78 2.05 0 2.83L4 21.41c.39.39.9.59 1.41.59.51 0 1.02-.2 1.41-.59l7.78-7.78 2.81-2.81c.8-.78.8-2.07 0-2.86zM5.41 20L4 18.59l7.72-7.72 1.47 1.35L5.41 20z\"/>\n",
              "  </svg>\n",
              "      </button>\n",
              "      \n",
              "  <style>\n",
              "    .colab-df-container {\n",
              "      display:flex;\n",
              "      flex-wrap:wrap;\n",
              "      gap: 12px;\n",
              "    }\n",
              "\n",
              "    .colab-df-convert {\n",
              "      background-color: #E8F0FE;\n",
              "      border: none;\n",
              "      border-radius: 50%;\n",
              "      cursor: pointer;\n",
              "      display: none;\n",
              "      fill: #1967D2;\n",
              "      height: 32px;\n",
              "      padding: 0 0 0 0;\n",
              "      width: 32px;\n",
              "    }\n",
              "\n",
              "    .colab-df-convert:hover {\n",
              "      background-color: #E2EBFA;\n",
              "      box-shadow: 0px 1px 2px rgba(60, 64, 67, 0.3), 0px 1px 3px 1px rgba(60, 64, 67, 0.15);\n",
              "      fill: #174EA6;\n",
              "    }\n",
              "\n",
              "    [theme=dark] .colab-df-convert {\n",
              "      background-color: #3B4455;\n",
              "      fill: #D2E3FC;\n",
              "    }\n",
              "\n",
              "    [theme=dark] .colab-df-convert:hover {\n",
              "      background-color: #434B5C;\n",
              "      box-shadow: 0px 1px 3px 1px rgba(0, 0, 0, 0.15);\n",
              "      filter: drop-shadow(0px 1px 2px rgba(0, 0, 0, 0.3));\n",
              "      fill: #FFFFFF;\n",
              "    }\n",
              "  </style>\n",
              "\n",
              "      <script>\n",
              "        const buttonEl =\n",
              "          document.querySelector('#df-f4f00c95-b21f-44d4-9887-eb45ada755b5 button.colab-df-convert');\n",
              "        buttonEl.style.display =\n",
              "          google.colab.kernel.accessAllowed ? 'block' : 'none';\n",
              "\n",
              "        async function convertToInteractive(key) {\n",
              "          const element = document.querySelector('#df-f4f00c95-b21f-44d4-9887-eb45ada755b5');\n",
              "          const dataTable =\n",
              "            await google.colab.kernel.invokeFunction('convertToInteractive',\n",
              "                                                     [key], {});\n",
              "          if (!dataTable) return;\n",
              "\n",
              "          const docLinkHtml = 'Like what you see? Visit the ' +\n",
              "            '<a target=\"_blank\" href=https://colab.research.google.com/notebooks/data_table.ipynb>data table notebook</a>'\n",
              "            + ' to learn more about interactive tables.';\n",
              "          element.innerHTML = '';\n",
              "          dataTable['output_type'] = 'display_data';\n",
              "          await google.colab.output.renderOutput(dataTable, element);\n",
              "          const docLink = document.createElement('div');\n",
              "          docLink.innerHTML = docLinkHtml;\n",
              "          element.appendChild(docLink);\n",
              "        }\n",
              "      </script>\n",
              "    </div>\n",
              "  </div>\n",
              "  "
            ]
          },
          "metadata": {},
          "execution_count": 28
        }
      ]
    },
    {
      "cell_type": "code",
      "source": [
        "X_test.drop(columns = drop_column, inplace=True)"
      ],
      "metadata": {
        "colab": {
          "base_uri": "https://localhost:8080/"
        },
        "id": "lDPIYO3XpjGe",
        "outputId": "7919b5c3-b13b-4e08-e1bd-94d36af0c1ff"
      },
      "id": "lDPIYO3XpjGe",
      "execution_count": 29,
      "outputs": [
        {
          "output_type": "stream",
          "name": "stderr",
          "text": [
            "<ipython-input-29-7ac6106f35b0>:1: SettingWithCopyWarning: \n",
            "A value is trying to be set on a copy of a slice from a DataFrame\n",
            "\n",
            "See the caveats in the documentation: https://pandas.pydata.org/pandas-docs/stable/user_guide/indexing.html#returning-a-view-versus-a-copy\n",
            "  X_test.drop(columns = drop_column, inplace=True)\n"
          ]
        }
      ]
    },
    {
      "cell_type": "code",
      "source": [
        "X_test"
      ],
      "metadata": {
        "colab": {
          "base_uri": "https://localhost:8080/",
          "height": 424
        },
        "id": "gGqA17uYpjOS",
        "outputId": "b6e3885c-9695-43ba-fa3a-b7926867dbd8"
      },
      "id": "gGqA17uYpjOS",
      "execution_count": 30,
      "outputs": [
        {
          "output_type": "execute_result",
          "data": {
            "text/plain": [
              "       Face_Y  Face_X  Face_W  Face_H  Right_Eye_X  Right_Eye_Y  Left_Eye_X  \\\n",
              "33887   211.0   159.0   236.0   236.0        244.0        369.0       249.0   \n",
              "33888   211.0   157.0   238.0   238.0        243.0        367.0       249.0   \n",
              "33889   210.0   159.0   235.0   235.0        244.0        369.0       249.0   \n",
              "33890   210.0   158.0   236.0   236.0        244.0        368.0       248.0   \n",
              "33891   209.0   158.0   238.0   238.0        244.0        368.0       249.0   \n",
              "...       ...     ...     ...     ...          ...          ...         ...   \n",
              "60420   308.0   106.0   227.0   227.0        194.0        456.0       197.0   \n",
              "60421   307.0   105.0   229.0   229.0        198.0        456.0       201.0   \n",
              "60422   309.0   107.0   225.0   225.0        194.0        456.0       199.0   \n",
              "60423   310.0   107.0   224.0   224.0        197.0        463.0       199.0   \n",
              "60424   308.0   107.0   225.0   225.0        196.0        461.0       198.0   \n",
              "\n",
              "       Left_Eye_Y  Face_Angle  \n",
              "33887       281.0    0.362482  \n",
              "33888       283.0    0.379243  \n",
              "33889       280.0    0.351363  \n",
              "33890       282.0    0.357945  \n",
              "33891       282.0    0.360192  \n",
              "...           ...         ...  \n",
              "60420       378.0    2.428763  \n",
              "60421       379.0    2.077050  \n",
              "60422       386.0    1.936886  \n",
              "60423       381.0    2.330049  \n",
              "60424       385.0    2.239189  \n",
              "\n",
              "[26538 rows x 9 columns]"
            ],
            "text/html": [
              "\n",
              "  <div id=\"df-9331a058-0936-476d-afb5-2557b9544cfa\">\n",
              "    <div class=\"colab-df-container\">\n",
              "      <div>\n",
              "<style scoped>\n",
              "    .dataframe tbody tr th:only-of-type {\n",
              "        vertical-align: middle;\n",
              "    }\n",
              "\n",
              "    .dataframe tbody tr th {\n",
              "        vertical-align: top;\n",
              "    }\n",
              "\n",
              "    .dataframe thead th {\n",
              "        text-align: right;\n",
              "    }\n",
              "</style>\n",
              "<table border=\"1\" class=\"dataframe\">\n",
              "  <thead>\n",
              "    <tr style=\"text-align: right;\">\n",
              "      <th></th>\n",
              "      <th>Face_Y</th>\n",
              "      <th>Face_X</th>\n",
              "      <th>Face_W</th>\n",
              "      <th>Face_H</th>\n",
              "      <th>Right_Eye_X</th>\n",
              "      <th>Right_Eye_Y</th>\n",
              "      <th>Left_Eye_X</th>\n",
              "      <th>Left_Eye_Y</th>\n",
              "      <th>Face_Angle</th>\n",
              "    </tr>\n",
              "  </thead>\n",
              "  <tbody>\n",
              "    <tr>\n",
              "      <th>33887</th>\n",
              "      <td>211.0</td>\n",
              "      <td>159.0</td>\n",
              "      <td>236.0</td>\n",
              "      <td>236.0</td>\n",
              "      <td>244.0</td>\n",
              "      <td>369.0</td>\n",
              "      <td>249.0</td>\n",
              "      <td>281.0</td>\n",
              "      <td>0.362482</td>\n",
              "    </tr>\n",
              "    <tr>\n",
              "      <th>33888</th>\n",
              "      <td>211.0</td>\n",
              "      <td>157.0</td>\n",
              "      <td>238.0</td>\n",
              "      <td>238.0</td>\n",
              "      <td>243.0</td>\n",
              "      <td>367.0</td>\n",
              "      <td>249.0</td>\n",
              "      <td>283.0</td>\n",
              "      <td>0.379243</td>\n",
              "    </tr>\n",
              "    <tr>\n",
              "      <th>33889</th>\n",
              "      <td>210.0</td>\n",
              "      <td>159.0</td>\n",
              "      <td>235.0</td>\n",
              "      <td>235.0</td>\n",
              "      <td>244.0</td>\n",
              "      <td>369.0</td>\n",
              "      <td>249.0</td>\n",
              "      <td>280.0</td>\n",
              "      <td>0.351363</td>\n",
              "    </tr>\n",
              "    <tr>\n",
              "      <th>33890</th>\n",
              "      <td>210.0</td>\n",
              "      <td>158.0</td>\n",
              "      <td>236.0</td>\n",
              "      <td>236.0</td>\n",
              "      <td>244.0</td>\n",
              "      <td>368.0</td>\n",
              "      <td>248.0</td>\n",
              "      <td>282.0</td>\n",
              "      <td>0.357945</td>\n",
              "    </tr>\n",
              "    <tr>\n",
              "      <th>33891</th>\n",
              "      <td>209.0</td>\n",
              "      <td>158.0</td>\n",
              "      <td>238.0</td>\n",
              "      <td>238.0</td>\n",
              "      <td>244.0</td>\n",
              "      <td>368.0</td>\n",
              "      <td>249.0</td>\n",
              "      <td>282.0</td>\n",
              "      <td>0.360192</td>\n",
              "    </tr>\n",
              "    <tr>\n",
              "      <th>...</th>\n",
              "      <td>...</td>\n",
              "      <td>...</td>\n",
              "      <td>...</td>\n",
              "      <td>...</td>\n",
              "      <td>...</td>\n",
              "      <td>...</td>\n",
              "      <td>...</td>\n",
              "      <td>...</td>\n",
              "      <td>...</td>\n",
              "    </tr>\n",
              "    <tr>\n",
              "      <th>60420</th>\n",
              "      <td>308.0</td>\n",
              "      <td>106.0</td>\n",
              "      <td>227.0</td>\n",
              "      <td>227.0</td>\n",
              "      <td>194.0</td>\n",
              "      <td>456.0</td>\n",
              "      <td>197.0</td>\n",
              "      <td>378.0</td>\n",
              "      <td>2.428763</td>\n",
              "    </tr>\n",
              "    <tr>\n",
              "      <th>60421</th>\n",
              "      <td>307.0</td>\n",
              "      <td>105.0</td>\n",
              "      <td>229.0</td>\n",
              "      <td>229.0</td>\n",
              "      <td>198.0</td>\n",
              "      <td>456.0</td>\n",
              "      <td>201.0</td>\n",
              "      <td>379.0</td>\n",
              "      <td>2.077050</td>\n",
              "    </tr>\n",
              "    <tr>\n",
              "      <th>60422</th>\n",
              "      <td>309.0</td>\n",
              "      <td>107.0</td>\n",
              "      <td>225.0</td>\n",
              "      <td>225.0</td>\n",
              "      <td>194.0</td>\n",
              "      <td>456.0</td>\n",
              "      <td>199.0</td>\n",
              "      <td>386.0</td>\n",
              "      <td>1.936886</td>\n",
              "    </tr>\n",
              "    <tr>\n",
              "      <th>60423</th>\n",
              "      <td>310.0</td>\n",
              "      <td>107.0</td>\n",
              "      <td>224.0</td>\n",
              "      <td>224.0</td>\n",
              "      <td>197.0</td>\n",
              "      <td>463.0</td>\n",
              "      <td>199.0</td>\n",
              "      <td>381.0</td>\n",
              "      <td>2.330049</td>\n",
              "    </tr>\n",
              "    <tr>\n",
              "      <th>60424</th>\n",
              "      <td>308.0</td>\n",
              "      <td>107.0</td>\n",
              "      <td>225.0</td>\n",
              "      <td>225.0</td>\n",
              "      <td>196.0</td>\n",
              "      <td>461.0</td>\n",
              "      <td>198.0</td>\n",
              "      <td>385.0</td>\n",
              "      <td>2.239189</td>\n",
              "    </tr>\n",
              "  </tbody>\n",
              "</table>\n",
              "<p>26538 rows × 9 columns</p>\n",
              "</div>\n",
              "      <button class=\"colab-df-convert\" onclick=\"convertToInteractive('df-9331a058-0936-476d-afb5-2557b9544cfa')\"\n",
              "              title=\"Convert this dataframe to an interactive table.\"\n",
              "              style=\"display:none;\">\n",
              "        \n",
              "  <svg xmlns=\"http://www.w3.org/2000/svg\" height=\"24px\"viewBox=\"0 0 24 24\"\n",
              "       width=\"24px\">\n",
              "    <path d=\"M0 0h24v24H0V0z\" fill=\"none\"/>\n",
              "    <path d=\"M18.56 5.44l.94 2.06.94-2.06 2.06-.94-2.06-.94-.94-2.06-.94 2.06-2.06.94zm-11 1L8.5 8.5l.94-2.06 2.06-.94-2.06-.94L8.5 2.5l-.94 2.06-2.06.94zm10 10l.94 2.06.94-2.06 2.06-.94-2.06-.94-.94-2.06-.94 2.06-2.06.94z\"/><path d=\"M17.41 7.96l-1.37-1.37c-.4-.4-.92-.59-1.43-.59-.52 0-1.04.2-1.43.59L10.3 9.45l-7.72 7.72c-.78.78-.78 2.05 0 2.83L4 21.41c.39.39.9.59 1.41.59.51 0 1.02-.2 1.41-.59l7.78-7.78 2.81-2.81c.8-.78.8-2.07 0-2.86zM5.41 20L4 18.59l7.72-7.72 1.47 1.35L5.41 20z\"/>\n",
              "  </svg>\n",
              "      </button>\n",
              "      \n",
              "  <style>\n",
              "    .colab-df-container {\n",
              "      display:flex;\n",
              "      flex-wrap:wrap;\n",
              "      gap: 12px;\n",
              "    }\n",
              "\n",
              "    .colab-df-convert {\n",
              "      background-color: #E8F0FE;\n",
              "      border: none;\n",
              "      border-radius: 50%;\n",
              "      cursor: pointer;\n",
              "      display: none;\n",
              "      fill: #1967D2;\n",
              "      height: 32px;\n",
              "      padding: 0 0 0 0;\n",
              "      width: 32px;\n",
              "    }\n",
              "\n",
              "    .colab-df-convert:hover {\n",
              "      background-color: #E2EBFA;\n",
              "      box-shadow: 0px 1px 2px rgba(60, 64, 67, 0.3), 0px 1px 3px 1px rgba(60, 64, 67, 0.15);\n",
              "      fill: #174EA6;\n",
              "    }\n",
              "\n",
              "    [theme=dark] .colab-df-convert {\n",
              "      background-color: #3B4455;\n",
              "      fill: #D2E3FC;\n",
              "    }\n",
              "\n",
              "    [theme=dark] .colab-df-convert:hover {\n",
              "      background-color: #434B5C;\n",
              "      box-shadow: 0px 1px 3px 1px rgba(0, 0, 0, 0.15);\n",
              "      filter: drop-shadow(0px 1px 2px rgba(0, 0, 0, 0.3));\n",
              "      fill: #FFFFFF;\n",
              "    }\n",
              "  </style>\n",
              "\n",
              "      <script>\n",
              "        const buttonEl =\n",
              "          document.querySelector('#df-9331a058-0936-476d-afb5-2557b9544cfa button.colab-df-convert');\n",
              "        buttonEl.style.display =\n",
              "          google.colab.kernel.accessAllowed ? 'block' : 'none';\n",
              "\n",
              "        async function convertToInteractive(key) {\n",
              "          const element = document.querySelector('#df-9331a058-0936-476d-afb5-2557b9544cfa');\n",
              "          const dataTable =\n",
              "            await google.colab.kernel.invokeFunction('convertToInteractive',\n",
              "                                                     [key], {});\n",
              "          if (!dataTable) return;\n",
              "\n",
              "          const docLinkHtml = 'Like what you see? Visit the ' +\n",
              "            '<a target=\"_blank\" href=https://colab.research.google.com/notebooks/data_table.ipynb>data table notebook</a>'\n",
              "            + ' to learn more about interactive tables.';\n",
              "          element.innerHTML = '';\n",
              "          dataTable['output_type'] = 'display_data';\n",
              "          await google.colab.output.renderOutput(dataTable, element);\n",
              "          const docLink = document.createElement('div');\n",
              "          docLink.innerHTML = docLinkHtml;\n",
              "          element.appendChild(docLink);\n",
              "        }\n",
              "      </script>\n",
              "    </div>\n",
              "  </div>\n",
              "  "
            ]
          },
          "metadata": {},
          "execution_count": 30
        }
      ]
    },
    {
      "cell_type": "markdown",
      "id": "b6247aae",
      "metadata": {
        "id": "b6247aae"
      },
      "source": [
        "### MinMaxScaler:"
      ]
    },
    {
      "cell_type": "code",
      "execution_count": 31,
      "id": "35b98f3c",
      "metadata": {
        "id": "35b98f3c"
      },
      "outputs": [],
      "source": [
        "minmax_scaler = preprocessing.MinMaxScaler()\n",
        "X_train_scal = minmax_scaler.fit_transform(X_train)\n",
        "X_valid_scal = minmax_scaler.transform(X_valid)\n",
        "X_test_scal = minmax_scaler.transform(X_test)"
      ]
    },
    {
      "cell_type": "code",
      "execution_count": 32,
      "id": "cf8205dd",
      "metadata": {
        "id": "cf8205dd",
        "outputId": "869bebef-d235-4f21-e5fc-72fa98f070d6",
        "colab": {
          "base_uri": "https://localhost:8080/"
        }
      },
      "outputs": [
        {
          "output_type": "execute_result",
          "data": {
            "text/plain": [
              "array([[0.36533958, 0.40566038, 0.23668639, ..., 0.38970588, 0.39111111,\n",
              "        0.00370046],\n",
              "       [0.42622951, 0.41509434, 0.21893491, ..., 0.37254902, 0.45111111,\n",
              "        0.00538576],\n",
              "       [0.15690867, 0.70283019, 0.20118343, ..., 0.69607843, 0.19777778,\n",
              "        0.00083163],\n",
              "       ...,\n",
              "       [0.44964871, 0.35141509, 0.35502959, ..., 0.36029412, 0.50666667,\n",
              "        0.00791098],\n",
              "       [0.4941452 , 0.35849057, 0.49704142, ..., 0.39460784, 0.56444444,\n",
              "        0.00586059],\n",
              "       [0.264637  , 0.01415094, 0.6035503 , ..., 0.02205882, 0.34666667,\n",
              "        0.00992458]])"
            ]
          },
          "metadata": {},
          "execution_count": 32
        }
      ],
      "source": [
        "X_train_scal"
      ]
    },
    {
      "cell_type": "code",
      "execution_count": 33,
      "id": "9d5680c8",
      "metadata": {
        "id": "9d5680c8",
        "outputId": "5f179795-68b1-4c80-8770-0b6d3a1a9c9f",
        "colab": {
          "base_uri": "https://localhost:8080/"
        }
      },
      "outputs": [
        {
          "output_type": "execute_result",
          "data": {
            "text/plain": [
              "array([[0.40749415, 0.31839623, 0.39053254, ..., 0.31862745, 0.47333333,\n",
              "        0.0041094 ],\n",
              "       [0.43325527, 0.5754717 , 0.08284024, ..., 0.54166667, 0.45555556,\n",
              "        0.00407979],\n",
              "       [0.42154567, 0.34669811, 0.26627219, ..., 0.29901961, 0.45333333,\n",
              "        0.00741446],\n",
              "       ...,\n",
              "       [0.53395785, 0.25707547, 0.5739645 , ..., 0.28676471, 0.61111111,\n",
              "        0.01657654],\n",
              "       [0.30679157, 0.12735849, 0.69822485, ..., 0.19607843, 0.36222222,\n",
              "        0.00385827],\n",
              "       [0.36299766, 0.45518868, 0.10059172, ..., 0.41176471, 0.39777778,\n",
              "        0.00418931]])"
            ]
          },
          "metadata": {},
          "execution_count": 33
        }
      ],
      "source": [
        "X_valid_scal"
      ]
    },
    {
      "cell_type": "code",
      "execution_count": 34,
      "id": "3bdac06c",
      "metadata": {
        "id": "3bdac06c",
        "outputId": "0f45b1cb-fe9d-47f7-cc5e-633a4ba01734",
        "colab": {
          "base_uri": "https://localhost:8080/"
        }
      },
      "outputs": [
        {
          "output_type": "execute_result",
          "data": {
            "text/plain": [
              "array([[0.39344262, 0.3490566 , 0.42011834, ..., 0.34803922, 0.44      ,\n",
              "        0.00382786],\n",
              "       [0.39344262, 0.34433962, 0.43195266, ..., 0.34803922, 0.44444444,\n",
              "        0.00407222],\n",
              "       [0.3911007 , 0.3490566 , 0.41420118, ..., 0.34803922, 0.43777778,\n",
              "        0.00366576],\n",
              "       ...,\n",
              "       [0.62295082, 0.22641509, 0.35502959, ..., 0.2254902 , 0.67333333,\n",
              "        0.02678145],\n",
              "       [0.62529274, 0.22641509, 0.34911243, ..., 0.2254902 , 0.66222222,\n",
              "        0.03251346],\n",
              "       [0.6206089 , 0.22641509, 0.35502959, ..., 0.22303922, 0.67111111,\n",
              "        0.03118879]])"
            ]
          },
          "metadata": {},
          "execution_count": 34
        }
      ],
      "source": [
        "X_test_scal"
      ]
    },
    {
      "cell_type": "markdown",
      "id": "45572230",
      "metadata": {
        "id": "45572230"
      },
      "source": [
        "### Metrics:"
      ]
    },
    {
      "cell_type": "code",
      "execution_count": 35,
      "id": "a99b5367",
      "metadata": {
        "id": "a99b5367"
      },
      "outputs": [],
      "source": [
        "metric_dict = {\"MAE\":mean_absolute_error, \"MSE\":mean_squared_error, \"R2\": r2_score}"
      ]
    },
    {
      "cell_type": "markdown",
      "id": "6eea4bfe",
      "metadata": {
        "id": "6eea4bfe"
      },
      "source": [
        "## RandomizedSearchCV:"
      ]
    },
    {
      "cell_type": "markdown",
      "id": "471f53d0",
      "metadata": {
        "id": "471f53d0"
      },
      "source": [
        "### RandomForestRegressor:"
      ]
    },
    {
      "cell_type": "code",
      "execution_count": 36,
      "id": "ea2699b9",
      "metadata": {
        "id": "ea2699b9"
      },
      "outputs": [],
      "source": [
        "log_table=[]"
      ]
    },
    {
      "cell_type": "code",
      "execution_count": 37,
      "id": "fd73aeb7",
      "metadata": {
        "id": "fd73aeb7",
        "outputId": "5e83019a-062d-4f83-b098-3008f9a20c42",
        "colab": {
          "base_uri": "https://localhost:8080/"
        }
      },
      "outputs": [
        {
          "output_type": "stream",
          "name": "stdout",
          "text": [
            "Fitting 5 folds for each of 10 candidates, totalling 50 fits\n"
          ]
        }
      ],
      "source": [
        "start = time.time()\n",
        "reg=RandomForestRegressor()\n",
        "grid_dict = {'n_estimators': [50, 100, 200],\n",
        "             \"criterion\":['squared_error'],\n",
        "             'max_depth': [5,10,20,100],\n",
        "             'min_samples_split': [2,4,6,8,10],\n",
        "             \"random_state\":[1023,42,3]}\n",
        "\n",
        "RF_rscv = RandomizedSearchCV(estimator=reg,\n",
        "                             param_distributions = grid_dict,\n",
        "                             n_jobs =-1,\n",
        "                             refit=True,\n",
        "                             verbose=5)\n",
        "\n",
        "RF_rscv.fit(X_train_scal,y_train)\n",
        "y_valid_pred=RF_rscv.predict(X_valid_scal)\n",
        "end = time.time()\n",
        "for metric in metric_dict:\n",
        "    current_metric = metric_dict[metric]\n",
        "    log_table.append(['RF', 'RandomizedSearchCV', metric, metric_dict[metric](y_valid, y_valid_pred),(end-start)])"
      ]
    },
    {
      "cell_type": "markdown",
      "id": "c624246a",
      "metadata": {
        "id": "c624246a"
      },
      "source": [
        "### DecisionTreeRegressor:"
      ]
    },
    {
      "cell_type": "code",
      "execution_count": 38,
      "id": "0ca0778b",
      "metadata": {
        "id": "0ca0778b",
        "outputId": "7d464f96-e3ce-40c4-d19b-d421ef9a1410",
        "colab": {
          "base_uri": "https://localhost:8080/"
        }
      },
      "outputs": [
        {
          "output_type": "stream",
          "name": "stdout",
          "text": [
            "Fitting 5 folds for each of 10 candidates, totalling 50 fits\n"
          ]
        },
        {
          "output_type": "stream",
          "name": "stderr",
          "text": [
            "/usr/local/lib/python3.10/dist-packages/sklearn/tree/_classes.py:277: FutureWarning: `max_features='auto'` has been deprecated in 1.1 and will be removed in 1.3. To keep the past behaviour, explicitly set `max_features=1.0'`.\n",
            "  warnings.warn(\n"
          ]
        }
      ],
      "source": [
        "start = time.time()\n",
        "reg=DecisionTreeRegressor()\n",
        "\n",
        "grid_dict = {\"criterion\":['squared_error'],\n",
        "             \"splitter\":['best', 'random'],\n",
        "             \"max_depth\": [5,10,20,100],\n",
        "             \"min_samples_split\": [2,4,6,8,10],\n",
        "             \"random_state\":[1023,42,3],\n",
        "             \"max_features\" : ['auto','sqrt','log2']}\n",
        "\n",
        "DT_rscv = RandomizedSearchCV(estimator=reg,\n",
        "                             param_distributions = grid_dict,\n",
        "                             n_jobs =-1,\n",
        "                             refit=True,\n",
        "                             verbose=5)\n",
        "\n",
        "DT_rscv.fit(X_train_scal,y_train)\n",
        "y_valid_pred=DT_rscv.predict(X_valid_scal)\n",
        "end = time.time()\n",
        "for metric in metric_dict:\n",
        "    current_metric = metric_dict[metric]\n",
        "    log_table.append(['DT', 'RandomizedSearchCV', metric, metric_dict[metric](y_valid, y_valid_pred),(end-start)])"
      ]
    },
    {
      "cell_type": "markdown",
      "id": "b6efdff2",
      "metadata": {
        "id": "b6efdff2"
      },
      "source": [
        "### KNeighborsRegressor:"
      ]
    },
    {
      "cell_type": "code",
      "execution_count": 39,
      "id": "cdfe40e4",
      "metadata": {
        "id": "cdfe40e4",
        "outputId": "afae8b93-0558-49c9-b3ef-0102018d0c11",
        "colab": {
          "base_uri": "https://localhost:8080/"
        }
      },
      "outputs": [
        {
          "output_type": "stream",
          "name": "stdout",
          "text": [
            "Fitting 5 folds for each of 10 candidates, totalling 50 fits\n"
          ]
        }
      ],
      "source": [
        "start = time.time()\n",
        "reg=KNeighborsRegressor()\n",
        "grid_dict = {\"n_neighbors\": [1,3,4,5,10,20],\n",
        "             \"weights\":['uniform','distance'],\n",
        "             \"algorithm\":['auto','ball_tree','kd_tree','brute']}\n",
        "\n",
        "Knn_rscv = RandomizedSearchCV(estimator=reg,\n",
        "                              param_distributions = grid_dict,\n",
        "                              n_jobs =-1,\n",
        "                              refit=True,\n",
        "                              verbose=5)\n",
        "\n",
        "Knn_rscv.fit(X_train_scal,y_train)\n",
        "y_valid_pred=Knn_rscv.predict(X_valid_scal)\n",
        "end = time.time()\n",
        "for metric in metric_dict:\n",
        "    current_metric = metric_dict[metric]\n",
        "    log_table.append(['KNN', 'RandomizedSearchCV', metric, metric_dict[metric](y_valid, y_valid_pred),(end-start)])"
      ]
    },
    {
      "cell_type": "markdown",
      "id": "27f7ec4c",
      "metadata": {
        "id": "27f7ec4c"
      },
      "source": [
        "# GridSearchCV:"
      ]
    },
    {
      "cell_type": "markdown",
      "id": "e975577f",
      "metadata": {
        "id": "e975577f"
      },
      "source": [
        "### RandomForestRegressor:"
      ]
    },
    {
      "cell_type": "code",
      "execution_count": 40,
      "id": "82696228",
      "metadata": {
        "id": "82696228",
        "outputId": "10da5ca1-e5cb-418b-e4ad-6cc3f54c35af",
        "colab": {
          "base_uri": "https://localhost:8080/"
        }
      },
      "outputs": [
        {
          "output_type": "stream",
          "name": "stdout",
          "text": [
            "Fitting 5 folds for each of 180 candidates, totalling 900 fits\n"
          ]
        }
      ],
      "source": [
        "start = time.time()\n",
        "reg=RandomForestRegressor()\n",
        "grid_dict = {'n_estimators': [50, 100, 200],\n",
        "             \"criterion\":['squared_error'],\n",
        "             'max_depth': [5,10,20,100],\n",
        "             'min_samples_split': [2,4,6,8,10],\n",
        "             \"random_state\":[1023,42,3]}\n",
        "\n",
        "RF_gscv = GridSearchCV(estimator=reg,\n",
        "                       param_grid = grid_dict,\n",
        "                       n_jobs =-1,\n",
        "                       refit=True,\n",
        "                       verbose=5)\n",
        "\n",
        "RF_gscv.fit(X_train_scal,y_train)\n",
        "y_pred=RF_gscv.predict(X_valid_scal)\n",
        "end = time.time()\n",
        "for metric in metric_dict:\n",
        "    current_metric = metric_dict[metric]\n",
        "    log_table.append(['RF', 'GridSearchCV', metric, metric_dict[metric](y_valid, y_valid_pred),(end-start)])"
      ]
    },
    {
      "cell_type": "markdown",
      "id": "cdc98fce",
      "metadata": {
        "id": "cdc98fce"
      },
      "source": [
        "### DecisionTreeRegressor:"
      ]
    },
    {
      "cell_type": "code",
      "execution_count": 41,
      "id": "2d7c1183",
      "metadata": {
        "id": "2d7c1183",
        "outputId": "c00ef06b-2d65-48ad-d24d-b7d59b2581d2",
        "colab": {
          "base_uri": "https://localhost:8080/"
        }
      },
      "outputs": [
        {
          "output_type": "stream",
          "name": "stdout",
          "text": [
            "Fitting 5 folds for each of 360 candidates, totalling 1800 fits\n"
          ]
        },
        {
          "output_type": "stream",
          "name": "stderr",
          "text": [
            "/usr/local/lib/python3.10/dist-packages/sklearn/tree/_classes.py:277: FutureWarning: `max_features='auto'` has been deprecated in 1.1 and will be removed in 1.3. To keep the past behaviour, explicitly set `max_features=1.0'`.\n",
            "  warnings.warn(\n"
          ]
        }
      ],
      "source": [
        "start = time.time()\n",
        "reg=DecisionTreeRegressor()\n",
        "\n",
        "grid_dict = {\"criterion\":['squared_error'],\n",
        "             \"splitter\":['best', 'random'],\n",
        "             \"max_depth\": [5,10,20,100],\n",
        "             \"min_samples_split\": [2,4,6,8,10],\n",
        "             \"random_state\":[1023,42,3],\n",
        "             \"max_features\" : ['auto','sqrt','log2']}\n",
        "\n",
        "DT_gscv = GridSearchCV(estimator=reg,\n",
        "                       param_grid = grid_dict,\n",
        "                       n_jobs =-1,\n",
        "                       refit=True,\n",
        "                       verbose=5)\n",
        "\n",
        "DT_gscv.fit(X_train_scal,y_train)\n",
        "y_pred=DT_gscv.predict(X_valid_scal)\n",
        "end = time.time()\n",
        "for metric in metric_dict:\n",
        "    current_metric = metric_dict[metric]\n",
        "    log_table.append(['DT', 'GridSearchCV', metric, metric_dict[metric](y_valid, y_valid_pred),(end-start)])"
      ]
    },
    {
      "cell_type": "markdown",
      "id": "49f59a5c",
      "metadata": {
        "id": "49f59a5c"
      },
      "source": [
        "### KNeighborsRegressor:"
      ]
    },
    {
      "cell_type": "code",
      "execution_count": 42,
      "id": "f6d87517",
      "metadata": {
        "id": "f6d87517",
        "outputId": "ddde0d2a-13be-443e-9dc8-d97211dbece3",
        "colab": {
          "base_uri": "https://localhost:8080/"
        }
      },
      "outputs": [
        {
          "output_type": "stream",
          "name": "stdout",
          "text": [
            "Fitting 5 folds for each of 48 candidates, totalling 240 fits\n"
          ]
        }
      ],
      "source": [
        "start = time.time()\n",
        "reg=KNeighborsRegressor()\n",
        "grid_dict = {\"n_neighbors\": [1,3,4,5,10,20],\n",
        "             \"weights\":['uniform','distance'],\n",
        "             \"algorithm\":['auto','ball_tree','kd_tree','brute']}\n",
        "\n",
        "Knn_gscv = GridSearchCV(estimator=reg,\n",
        "                        param_grid = grid_dict,\n",
        "                        n_jobs =-1,\n",
        "                        refit=True,\n",
        "                        verbose=5)\n",
        "\n",
        "Knn_gscv.fit(X_train_scal,y_train)\n",
        "y_pred=Knn_gscv.predict(X_valid_scal)\n",
        "end = time.time()\n",
        "for metric in metric_dict:\n",
        "    current_metric = metric_dict[metric]\n",
        "    log_table.append(['KNN', 'GridSearchCV', metric, metric_dict[metric](y_valid, y_valid_pred),(end-start)])"
      ]
    },
    {
      "cell_type": "markdown",
      "id": "43a6ba2f",
      "metadata": {
        "id": "43a6ba2f"
      },
      "source": [
        "# BAYESIAN OPTIMIZATION WITH hyperopt package:"
      ]
    },
    {
      "cell_type": "markdown",
      "id": "a87c6306",
      "metadata": {
        "id": "a87c6306"
      },
      "source": [
        "### RandomForestRegressor:"
      ]
    },
    {
      "cell_type": "code",
      "execution_count": 43,
      "id": "b0c6b736",
      "metadata": {
        "id": "b0c6b736",
        "outputId": "a4fd040e-880f-40aa-f810-c5a33fdab169",
        "colab": {
          "base_uri": "https://localhost:8080/"
        }
      },
      "outputs": [
        {
          "output_type": "stream",
          "name": "stdout",
          "text": [
            "100%|██████████| 5/5 [15:19<00:00, 183.85s/trial, best loss: 0.05351568967663617]\n"
          ]
        }
      ],
      "source": [
        "space = {\"n_estimators\": hp.quniform('n_estimators', 50, 200, 1),\n",
        "         'max_depth': hp.quniform('max_depth', 5, 100, 1),\n",
        "         'min_samples_split': hp.quniform('min_samples_split', 2, 10, 1),\n",
        "         \"random_state\": hp.choice('random_state',(1023,42,3))}\n",
        "\n",
        "# Define the objective function\n",
        "def objective(params):\n",
        "    reg = RandomForestRegressor( n_estimators=int(params['n_estimators']),\n",
        "                                 max_depth=int(params['max_depth']),\n",
        "                                 min_samples_split=int(params['min_samples_split']),\n",
        "                                 random_state=int(params['random_state']))\n",
        "    score = cross_val_score(reg, X, y, cv=5, scoring='neg_mean_squared_error').mean()\n",
        "    return {'loss': -score, 'status': 'ok'}\n",
        "\n",
        "# Define the search algorithm and search space\n",
        "trials = Trials()\n",
        "algo = tpe.suggest\n",
        "\n",
        "# Run the optimization\n",
        "start = time.time()\n",
        "best = fmin(objective, space, algo=algo, trials=trials, max_evals=5,return_argmin=False)\n",
        "\n",
        "# Train a model with the selected hyperparameters\n",
        "RF_bopt = RandomForestRegressor( n_estimators=int(best['n_estimators']),\n",
        "                             max_depth=int(best['max_depth']),\n",
        "                             min_samples_split=int(best['min_samples_split']),\n",
        "                             random_state=int(best['random_state']))\n",
        "\n",
        "RF_bopt.fit(X_train_scal, y_train)\n",
        "y_valid_pred=RF_bopt.predict(X_valid_scal)\n",
        "end = time.time()\n",
        "for metric in metric_dict:\n",
        "    current_metric = metric_dict[metric]\n",
        "    log_table.append(['RF', 'BAYESIAN OPTIMIZATION', metric, metric_dict[metric](y_valid, y_valid_pred),(end-start)])"
      ]
    },
    {
      "cell_type": "markdown",
      "id": "81e0f7ed",
      "metadata": {
        "id": "81e0f7ed"
      },
      "source": [
        "### DecisionTreeRegressor:"
      ]
    },
    {
      "cell_type": "code",
      "execution_count": 44,
      "id": "c50b7558",
      "metadata": {
        "id": "c50b7558",
        "outputId": "1d417bd6-956c-4de5-bce0-42ec35b9b5bc",
        "colab": {
          "base_uri": "https://localhost:8080/"
        }
      },
      "outputs": [
        {
          "output_type": "stream",
          "name": "stdout",
          "text": [
            " 40%|████      | 2/5 [00:00<00:00,  3.06trial/s, best loss: 0.07304144883619178]"
          ]
        },
        {
          "output_type": "stream",
          "name": "stderr",
          "text": [
            "/usr/local/lib/python3.10/dist-packages/sklearn/tree/_classes.py:277: FutureWarning: `max_features='auto'` has been deprecated in 1.1 and will be removed in 1.3. To keep the past behaviour, explicitly set `max_features=1.0'`.\n",
            "  warnings.warn(\n",
            "\n",
            "/usr/local/lib/python3.10/dist-packages/sklearn/tree/_classes.py:277: FutureWarning: `max_features='auto'` has been deprecated in 1.1 and will be removed in 1.3. To keep the past behaviour, explicitly set `max_features=1.0'`.\n",
            "  warnings.warn(\n",
            "\n",
            "/usr/local/lib/python3.10/dist-packages/sklearn/tree/_classes.py:277: FutureWarning: `max_features='auto'` has been deprecated in 1.1 and will be removed in 1.3. To keep the past behaviour, explicitly set `max_features=1.0'`.\n",
            "  warnings.warn(\n",
            "\n",
            "/usr/local/lib/python3.10/dist-packages/sklearn/tree/_classes.py:277: FutureWarning: `max_features='auto'` has been deprecated in 1.1 and will be removed in 1.3. To keep the past behaviour, explicitly set `max_features=1.0'`.\n",
            "  warnings.warn(\n",
            "\n"
          ]
        },
        {
          "output_type": "stream",
          "name": "stdout",
          "text": [
            "\r 60%|██████    | 3/5 [00:00<00:00,  3.23trial/s, best loss: 0.07140010033162913]"
          ]
        },
        {
          "output_type": "stream",
          "name": "stderr",
          "text": [
            "/usr/local/lib/python3.10/dist-packages/sklearn/tree/_classes.py:277: FutureWarning: `max_features='auto'` has been deprecated in 1.1 and will be removed in 1.3. To keep the past behaviour, explicitly set `max_features=1.0'`.\n",
            "  warnings.warn(\n",
            "\n"
          ]
        },
        {
          "output_type": "stream",
          "name": "stdout",
          "text": [
            "\r 80%|████████  | 4/5 [00:01<00:00,  3.13trial/s, best loss: 0.07140010033162913]"
          ]
        },
        {
          "output_type": "stream",
          "name": "stderr",
          "text": [
            "/usr/local/lib/python3.10/dist-packages/sklearn/tree/_classes.py:277: FutureWarning: `max_features='auto'` has been deprecated in 1.1 and will be removed in 1.3. To keep the past behaviour, explicitly set `max_features=1.0'`.\n",
            "  warnings.warn(\n",
            "\n",
            "/usr/local/lib/python3.10/dist-packages/sklearn/tree/_classes.py:277: FutureWarning: `max_features='auto'` has been deprecated in 1.1 and will be removed in 1.3. To keep the past behaviour, explicitly set `max_features=1.0'`.\n",
            "  warnings.warn(\n",
            "\n",
            "/usr/local/lib/python3.10/dist-packages/sklearn/tree/_classes.py:277: FutureWarning: `max_features='auto'` has been deprecated in 1.1 and will be removed in 1.3. To keep the past behaviour, explicitly set `max_features=1.0'`.\n",
            "  warnings.warn(\n",
            "\n"
          ]
        },
        {
          "output_type": "stream",
          "name": "stdout",
          "text": [
            "100%|██████████| 5/5 [00:01<00:00,  2.86trial/s, best loss: 0.07140010033162913]"
          ]
        },
        {
          "output_type": "stream",
          "name": "stderr",
          "text": [
            "/usr/local/lib/python3.10/dist-packages/sklearn/tree/_classes.py:277: FutureWarning: `max_features='auto'` has been deprecated in 1.1 and will be removed in 1.3. To keep the past behaviour, explicitly set `max_features=1.0'`.\n",
            "  warnings.warn(\n",
            "\n",
            "/usr/local/lib/python3.10/dist-packages/sklearn/tree/_classes.py:277: FutureWarning: `max_features='auto'` has been deprecated in 1.1 and will be removed in 1.3. To keep the past behaviour, explicitly set `max_features=1.0'`.\n",
            "  warnings.warn(\n",
            "\n",
            "/usr/local/lib/python3.10/dist-packages/sklearn/tree/_classes.py:277: FutureWarning: `max_features='auto'` has been deprecated in 1.1 and will be removed in 1.3. To keep the past behaviour, explicitly set `max_features=1.0'`.\n",
            "  warnings.warn(\n"
          ]
        },
        {
          "output_type": "stream",
          "name": "stdout",
          "text": [
            "\n"
          ]
        }
      ],
      "source": [
        "space = {'max_depth': hp.quniform('max_depth', 5, 100, 1),\n",
        "         'min_samples_split': hp.quniform('min_samples_split', 2, 10, 1),\n",
        "         \"random_state\": hp.choice('random_state',(1023,42,3)),\n",
        "         \"splitter\" : hp.choice(\"splitter\",['best', 'random']),\n",
        "         \"max_features\" : hp.choice(\"max_features\",['auto','sqrt','log2'])}\n",
        "\n",
        "# Define the objective function\n",
        "def objective(params):\n",
        "    reg = DecisionTreeRegressor( max_depth=int(params['max_depth']),\n",
        "                                 min_samples_split=int(params['min_samples_split']),\n",
        "                                 random_state=int(params['random_state']),\n",
        "                                 splitter=str(params['splitter']),\n",
        "                                 max_features=str(params['max_features']))\n",
        "\n",
        "    score = cross_val_score(reg, X, y, cv=5, scoring='neg_mean_squared_error').mean()\n",
        "    return {'loss': -score, 'status': 'ok'}\n",
        "\n",
        "# Define the search algorithm and search space\n",
        "trials = Trials()\n",
        "algo = tpe.suggest\n",
        "\n",
        "# Run the optimization\n",
        "start = time.time()\n",
        "best = fmin(objective, space, algo=algo, trials=trials, max_evals=5,return_argmin=False)\n",
        "\n",
        "# Train a model with the selected hyperparameters\n",
        "DT_bopt = DecisionTreeRegressor( max_depth=int(best['max_depth']),\n",
        "                             min_samples_split=int(best['min_samples_split']),\n",
        "                             random_state=int(best['random_state']),\n",
        "                             splitter=str(best['splitter']),\n",
        "                             max_features=str(best['max_features']))\n",
        "\n",
        "DT_bopt.fit(X_train_scal, y_train)\n",
        "y_valid_pred=DT_bopt.predict(X_valid_scal)\n",
        "end = time.time()\n",
        "for metric in metric_dict:\n",
        "    current_metric = metric_dict[metric]\n",
        "    log_table.append(['DT', 'BAYESIAN OPTIMIZATION', metric, metric_dict[metric](y_valid, y_valid_pred),(end-start)])"
      ]
    },
    {
      "cell_type": "markdown",
      "id": "f24dfc70",
      "metadata": {
        "id": "f24dfc70"
      },
      "source": [
        "### KNeighborsRegressor:"
      ]
    },
    {
      "cell_type": "code",
      "execution_count": 45,
      "id": "4a5159ef",
      "metadata": {
        "id": "4a5159ef",
        "outputId": "8636fbb4-97dd-476e-ec75-64e1025c4376",
        "colab": {
          "base_uri": "https://localhost:8080/"
        }
      },
      "outputs": [
        {
          "output_type": "stream",
          "name": "stdout",
          "text": [
            "100%|██████████| 5/5 [00:13<00:00,  2.80s/trial, best loss: 0.056859384876635985]\n"
          ]
        }
      ],
      "source": [
        "space = {\"n_neighbors\": hp.quniform('n_neighbors', 1, 20, 1),\n",
        "         \"weights\": hp.choice(\"weights\",['uniform','distance']),\n",
        "         \"algorithm\":hp.choice(\"algorithm\",['auto','ball_tree','kd_tree','brute'])}\n",
        "\n",
        "# Define the objective function\n",
        "def objective(params):\n",
        "    reg = KNeighborsRegressor(n_neighbors=int(params['n_neighbors']),\n",
        "                              weights=str(params['weights']),\n",
        "                              algorithm=str(params['algorithm']),)\n",
        "\n",
        "    score = cross_val_score(reg, X, y, cv=5, scoring='neg_mean_squared_error').mean()\n",
        "    return {'loss': -score, 'status': 'ok'}\n",
        "\n",
        "# Define the search algorithm and search space\n",
        "trials = Trials()\n",
        "algo = tpe.suggest\n",
        "\n",
        "# Run the optimization\n",
        "start = time.time()\n",
        "best = fmin(objective, space, algo=algo, trials=trials, max_evals=5,return_argmin=False)\n",
        "\n",
        "# Train a model with the selected hyperparameters\n",
        "Knn_bopt = KNeighborsRegressor(n_neighbors=int(best['n_neighbors']),\n",
        "                                weights=str(best['weights']),\n",
        "                                algorithm=str(best['algorithm']),)\n",
        "\n",
        "Knn_bopt.fit(X_train_scal, y_train)\n",
        "y_valid_pred=Knn_bopt.predict(X_valid_scal)\n",
        "end = time.time()\n",
        "for metric in metric_dict:\n",
        "    current_metric = metric_dict[metric]\n",
        "    log_table.append(['KNN', 'BAYESIAN OPTIMIZATION', metric, metric_dict[metric](y_valid, y_valid_pred),(end-start)])"
      ]
    },
    {
      "cell_type": "markdown",
      "id": "0ba27823",
      "metadata": {
        "id": "0ba27823"
      },
      "source": [
        "# GENETIC ALGORITHM OPTIMIZATION:"
      ]
    },
    {
      "cell_type": "code",
      "execution_count": 46,
      "id": "5c4845eb",
      "metadata": {
        "id": "5c4845eb",
        "outputId": "dd9f3504-a86f-4ba5-f9fd-c369f91f1c70",
        "colab": {
          "base_uri": "https://localhost:8080/"
        }
      },
      "outputs": [
        {
          "output_type": "stream",
          "name": "stdout",
          "text": [
            "Looking in indexes: https://pypi.org/simple, https://us-python.pkg.dev/colab-wheels/public/simple/\n",
            "Requirement already satisfied: sklearn-genetic-opt in /usr/local/lib/python3.10/dist-packages (0.10.1)\n",
            "Requirement already satisfied: scikit-learn>=1.1.0 in /usr/local/lib/python3.10/dist-packages (from sklearn-genetic-opt) (1.2.2)\n",
            "Requirement already satisfied: numpy>=1.19.0 in /usr/local/lib/python3.10/dist-packages (from sklearn-genetic-opt) (1.22.4)\n",
            "Requirement already satisfied: deap>=1.3.3 in /usr/local/lib/python3.10/dist-packages (from sklearn-genetic-opt) (1.3.3)\n",
            "Requirement already satisfied: tqdm>=4.61.1 in /usr/local/lib/python3.10/dist-packages (from sklearn-genetic-opt) (4.65.0)\n",
            "Requirement already satisfied: scipy>=1.3.2 in /usr/local/lib/python3.10/dist-packages (from scikit-learn>=1.1.0->sklearn-genetic-opt) (1.10.1)\n",
            "Requirement already satisfied: joblib>=1.1.1 in /usr/local/lib/python3.10/dist-packages (from scikit-learn>=1.1.0->sklearn-genetic-opt) (1.2.0)\n",
            "Requirement already satisfied: threadpoolctl>=2.0.0 in /usr/local/lib/python3.10/dist-packages (from scikit-learn>=1.1.0->sklearn-genetic-opt) (3.1.0)\n"
          ]
        }
      ],
      "source": [
        "! pip install sklearn-genetic-opt"
      ]
    },
    {
      "cell_type": "markdown",
      "id": "c05189dd",
      "metadata": {
        "id": "c05189dd"
      },
      "source": [
        "### RandomForestRegressor:"
      ]
    },
    {
      "cell_type": "code",
      "execution_count": 47,
      "id": "3bea8e4a",
      "metadata": {
        "id": "3bea8e4a",
        "outputId": "2dd39776-6337-4c2e-f5c5-92877ca66ee1",
        "colab": {
          "base_uri": "https://localhost:8080/"
        }
      },
      "outputs": [
        {
          "output_type": "stream",
          "name": "stdout",
          "text": [
            "gen\tnevals\tfitness\tfitness_std\tfitness_max\tfitness_min\n",
            "0  \t10    \t0.79812\t0.179348   \t0.871362   \t0.261239   \n",
            "1  \t20    \t0.865255\t0.00949675 \t0.871362   \t0.83803    \n",
            "2  \t20    \t0.86867 \t0.00345201 \t0.873267   \t0.864014   \n",
            "3  \t20    \t0.87097 \t0.00119097 \t0.873267   \t0.868322   \n"
          ]
        }
      ],
      "source": [
        "reg = RandomForestRegressor()\n",
        "\n",
        "cv=KFold(n_splits=5, shuffle=True)\n",
        "\n",
        "search_space = {'n_estimators': Integer(5,200),\n",
        "                'max_depth':  Integer(5,100),\n",
        "                'min_samples_split':  Integer(2,10),\n",
        "                'random_state': Categorical([1023,42,3])}\n",
        "\n",
        "start = time.time()\n",
        "RF_ga = GASearchCV(estimator=reg,\n",
        "                       cv=cv,\n",
        "                       scoring='r2',\n",
        "                       param_grid=search_space,\n",
        "                       n_jobs=-1,\n",
        "                       verbose=True,\n",
        "                       population_size=10,\n",
        "                       generations=3)\n",
        "\n",
        "RF_ga.fit(X_train_scal, y_train)\n",
        "y_valid_pred=RF_ga.predict(X_valid_scal)\n",
        "end = time.time()\n",
        "for metric in metric_dict:\n",
        "    current_metric = metric_dict[metric]\n",
        "    log_table.append(['RF', 'GASearchCV', metric, metric_dict[metric](y_valid, y_valid_pred),(end-start)])"
      ]
    },
    {
      "cell_type": "markdown",
      "id": "0d76f2a0",
      "metadata": {
        "id": "0d76f2a0"
      },
      "source": [
        "### DecisionTreeRegressor:"
      ]
    },
    {
      "cell_type": "code",
      "execution_count": 48,
      "id": "a37bd6fb",
      "metadata": {
        "id": "a37bd6fb",
        "outputId": "8ff53c52-5eeb-41a2-97e5-2fd040961808",
        "colab": {
          "base_uri": "https://localhost:8080/"
        }
      },
      "outputs": [
        {
          "output_type": "stream",
          "name": "stdout",
          "text": [
            "gen\tnevals\tfitness \tfitness_std\tfitness_max\tfitness_min\n",
            "0  \t10    \t0.676542\t0.109508   \t0.758327   \t0.44597    \n",
            "1  \t20    \t0.736222\t0.0145293  \t0.758327   \t0.714351   \n",
            "2  \t20    \t0.746867\t0.0101726  \t0.758327   \t0.720665   \n",
            "3  \t20    \t0.747512\t0.00805644 \t0.7576     \t0.733641   \n"
          ]
        },
        {
          "output_type": "stream",
          "name": "stderr",
          "text": [
            "/usr/local/lib/python3.10/dist-packages/sklearn/tree/_classes.py:277: FutureWarning: `max_features='auto'` has been deprecated in 1.1 and will be removed in 1.3. To keep the past behaviour, explicitly set `max_features=1.0'`.\n",
            "  warnings.warn(\n"
          ]
        }
      ],
      "source": [
        "reg = DecisionTreeRegressor()\n",
        "\n",
        "cv=KFold(n_splits=5, shuffle=True)\n",
        "\n",
        "search_space = {'max_depth':  Integer(5,100),\n",
        "                'min_samples_split':  Integer(2,10),\n",
        "                'random_state': Categorical([1023,42,3]),\n",
        "                'splitter' : Categorical(['best', 'random']),\n",
        "                'max_features' : Categorical(['auto','sqrt','log2'])}\n",
        "\n",
        "start = time.time()\n",
        "DT_ga = GASearchCV(estimator=reg,\n",
        "                       cv=cv,\n",
        "                       scoring='r2',\n",
        "                       param_grid=search_space,\n",
        "                       n_jobs=-1,\n",
        "                       verbose=True,\n",
        "                       population_size=10,\n",
        "                       generations=3)\n",
        "\n",
        "DT_ga.fit(X_train_scal, y_train)\n",
        "y_valid_pred=DT_ga.predict(X_valid_scal)\n",
        "end = time.time()\n",
        "for metric in metric_dict:\n",
        "    current_metric = metric_dict[metric]\n",
        "    log_table.append(['DT', 'GASearchCV', metric, metric_dict[metric](y_valid, y_valid_pred),(end-start)])"
      ]
    },
    {
      "cell_type": "markdown",
      "id": "b7a6107c",
      "metadata": {
        "id": "b7a6107c"
      },
      "source": [
        "### KNeighborsRegressor:"
      ]
    },
    {
      "cell_type": "code",
      "execution_count": 49,
      "id": "5e328165",
      "metadata": {
        "id": "5e328165",
        "outputId": "69c4cafe-7f93-4181-d7d6-918a7ff82c69",
        "colab": {
          "base_uri": "https://localhost:8080/"
        }
      },
      "outputs": [
        {
          "output_type": "stream",
          "name": "stdout",
          "text": [
            "gen\tnevals\tfitness\tfitness_std\tfitness_max\tfitness_min\n",
            "0  \t10    \t0.80521\t0.0119019  \t0.822219   \t0.780641   \n",
            "1  \t20    \t0.809496\t0.00601798 \t0.817225   \t0.799702   \n",
            "2  \t20    \t0.813161\t0.00869665 \t0.824899   \t0.802749   \n",
            "3  \t20    \t0.818485\t0.00535735 \t0.826968   \t0.809329   \n"
          ]
        }
      ],
      "source": [
        "reg = KNeighborsRegressor()\n",
        "\n",
        "cv=KFold(n_splits=5, shuffle=True)\n",
        "\n",
        "search_space = {\"n_neighbors\": Integer(1, 20),\n",
        "                \"weights\": Categorical(['uniform','distance']),\n",
        "                \"algorithm\":Categorical(['auto','ball_tree','kd_tree','brute'])}\n",
        "\n",
        "start = time.time()\n",
        "Knn_ga = GASearchCV(estimator=reg,\n",
        "                       cv=cv,\n",
        "                       scoring='r2',\n",
        "                       param_grid=search_space,\n",
        "                       n_jobs=-1,\n",
        "                       verbose=True,\n",
        "                       population_size=10,\n",
        "                       generations=3)\n",
        "\n",
        "Knn_ga.fit(X_train_scal, y_train)\n",
        "y_valid_pred=Knn_ga.predict(X_valid_scal)\n",
        "end = time.time()\n",
        "for metric in metric_dict:\n",
        "    current_metric = metric_dict[metric]\n",
        "    log_table.append(['KNN', 'GASearchCV', metric, metric_dict[metric](y_valid, y_valid_pred),(end-start)])"
      ]
    },
    {
      "cell_type": "markdown",
      "id": "743ff7cd",
      "metadata": {
        "id": "743ff7cd"
      },
      "source": [
        "# Results:"
      ]
    },
    {
      "cell_type": "code",
      "execution_count": 50,
      "id": "7eac265c",
      "metadata": {
        "id": "7eac265c"
      },
      "outputs": [],
      "source": [
        "log_table = pd.DataFrame(log_table, columns = ['Model','Hyperparameter Algorithm ','Metric','Metric score','Elapsed time'])"
      ]
    },
    {
      "cell_type": "code",
      "execution_count": 51,
      "id": "b47b5362",
      "metadata": {
        "id": "b47b5362",
        "outputId": "87874145-6f0e-432e-e4e6-a0a1be15c6b2",
        "colab": {
          "base_uri": "https://localhost:8080/",
          "height": 81
        }
      },
      "outputs": [
        {
          "output_type": "execute_result",
          "data": {
            "text/plain": [
              "  Model Hyperparameter Algorithm  Metric  Metric score  Elapsed time\n",
              "2    RF        RandomizedSearchCV     R2      0.884309     402.78506"
            ],
            "text/html": [
              "\n",
              "  <div id=\"df-11595b9f-fbd0-4832-bb29-f1982ab2e5dd\">\n",
              "    <div class=\"colab-df-container\">\n",
              "      <div>\n",
              "<style scoped>\n",
              "    .dataframe tbody tr th:only-of-type {\n",
              "        vertical-align: middle;\n",
              "    }\n",
              "\n",
              "    .dataframe tbody tr th {\n",
              "        vertical-align: top;\n",
              "    }\n",
              "\n",
              "    .dataframe thead th {\n",
              "        text-align: right;\n",
              "    }\n",
              "</style>\n",
              "<table border=\"1\" class=\"dataframe\">\n",
              "  <thead>\n",
              "    <tr style=\"text-align: right;\">\n",
              "      <th></th>\n",
              "      <th>Model</th>\n",
              "      <th>Hyperparameter Algorithm</th>\n",
              "      <th>Metric</th>\n",
              "      <th>Metric score</th>\n",
              "      <th>Elapsed time</th>\n",
              "    </tr>\n",
              "  </thead>\n",
              "  <tbody>\n",
              "    <tr>\n",
              "      <th>2</th>\n",
              "      <td>RF</td>\n",
              "      <td>RandomizedSearchCV</td>\n",
              "      <td>R2</td>\n",
              "      <td>0.884309</td>\n",
              "      <td>402.78506</td>\n",
              "    </tr>\n",
              "  </tbody>\n",
              "</table>\n",
              "</div>\n",
              "      <button class=\"colab-df-convert\" onclick=\"convertToInteractive('df-11595b9f-fbd0-4832-bb29-f1982ab2e5dd')\"\n",
              "              title=\"Convert this dataframe to an interactive table.\"\n",
              "              style=\"display:none;\">\n",
              "        \n",
              "  <svg xmlns=\"http://www.w3.org/2000/svg\" height=\"24px\"viewBox=\"0 0 24 24\"\n",
              "       width=\"24px\">\n",
              "    <path d=\"M0 0h24v24H0V0z\" fill=\"none\"/>\n",
              "    <path d=\"M18.56 5.44l.94 2.06.94-2.06 2.06-.94-2.06-.94-.94-2.06-.94 2.06-2.06.94zm-11 1L8.5 8.5l.94-2.06 2.06-.94-2.06-.94L8.5 2.5l-.94 2.06-2.06.94zm10 10l.94 2.06.94-2.06 2.06-.94-2.06-.94-.94-2.06-.94 2.06-2.06.94z\"/><path d=\"M17.41 7.96l-1.37-1.37c-.4-.4-.92-.59-1.43-.59-.52 0-1.04.2-1.43.59L10.3 9.45l-7.72 7.72c-.78.78-.78 2.05 0 2.83L4 21.41c.39.39.9.59 1.41.59.51 0 1.02-.2 1.41-.59l7.78-7.78 2.81-2.81c.8-.78.8-2.07 0-2.86zM5.41 20L4 18.59l7.72-7.72 1.47 1.35L5.41 20z\"/>\n",
              "  </svg>\n",
              "      </button>\n",
              "      \n",
              "  <style>\n",
              "    .colab-df-container {\n",
              "      display:flex;\n",
              "      flex-wrap:wrap;\n",
              "      gap: 12px;\n",
              "    }\n",
              "\n",
              "    .colab-df-convert {\n",
              "      background-color: #E8F0FE;\n",
              "      border: none;\n",
              "      border-radius: 50%;\n",
              "      cursor: pointer;\n",
              "      display: none;\n",
              "      fill: #1967D2;\n",
              "      height: 32px;\n",
              "      padding: 0 0 0 0;\n",
              "      width: 32px;\n",
              "    }\n",
              "\n",
              "    .colab-df-convert:hover {\n",
              "      background-color: #E2EBFA;\n",
              "      box-shadow: 0px 1px 2px rgba(60, 64, 67, 0.3), 0px 1px 3px 1px rgba(60, 64, 67, 0.15);\n",
              "      fill: #174EA6;\n",
              "    }\n",
              "\n",
              "    [theme=dark] .colab-df-convert {\n",
              "      background-color: #3B4455;\n",
              "      fill: #D2E3FC;\n",
              "    }\n",
              "\n",
              "    [theme=dark] .colab-df-convert:hover {\n",
              "      background-color: #434B5C;\n",
              "      box-shadow: 0px 1px 3px 1px rgba(0, 0, 0, 0.15);\n",
              "      filter: drop-shadow(0px 1px 2px rgba(0, 0, 0, 0.3));\n",
              "      fill: #FFFFFF;\n",
              "    }\n",
              "  </style>\n",
              "\n",
              "      <script>\n",
              "        const buttonEl =\n",
              "          document.querySelector('#df-11595b9f-fbd0-4832-bb29-f1982ab2e5dd button.colab-df-convert');\n",
              "        buttonEl.style.display =\n",
              "          google.colab.kernel.accessAllowed ? 'block' : 'none';\n",
              "\n",
              "        async function convertToInteractive(key) {\n",
              "          const element = document.querySelector('#df-11595b9f-fbd0-4832-bb29-f1982ab2e5dd');\n",
              "          const dataTable =\n",
              "            await google.colab.kernel.invokeFunction('convertToInteractive',\n",
              "                                                     [key], {});\n",
              "          if (!dataTable) return;\n",
              "\n",
              "          const docLinkHtml = 'Like what you see? Visit the ' +\n",
              "            '<a target=\"_blank\" href=https://colab.research.google.com/notebooks/data_table.ipynb>data table notebook</a>'\n",
              "            + ' to learn more about interactive tables.';\n",
              "          element.innerHTML = '';\n",
              "          dataTable['output_type'] = 'display_data';\n",
              "          await google.colab.output.renderOutput(dataTable, element);\n",
              "          const docLink = document.createElement('div');\n",
              "          docLink.innerHTML = docLinkHtml;\n",
              "          element.appendChild(docLink);\n",
              "        }\n",
              "      </script>\n",
              "    </div>\n",
              "  </div>\n",
              "  "
            ]
          },
          "metadata": {},
          "execution_count": 51
        }
      ],
      "source": [
        "log_table[log_table['Metric score']==log_table['Metric score'].max()]"
      ]
    },
    {
      "cell_type": "markdown",
      "id": "6f8bcc8e",
      "metadata": {
        "id": "6f8bcc8e"
      },
      "source": [
        "### BEST MODEL:"
      ]
    },
    {
      "cell_type": "code",
      "execution_count": 52,
      "id": "21eb4113",
      "metadata": {
        "id": "21eb4113",
        "outputId": "b6ce812e-74bf-47c4-919a-f705df8c4bd7",
        "colab": {
          "base_uri": "https://localhost:8080/",
          "height": 92
        }
      },
      "outputs": [
        {
          "output_type": "execute_result",
          "data": {
            "text/plain": [
              "DecisionTreeRegressor(max_depth=80, max_features='auto', min_samples_split=7,\n",
              "                      random_state=1023)"
            ],
            "text/html": [
              "<style>#sk-container-id-1 {color: black;background-color: white;}#sk-container-id-1 pre{padding: 0;}#sk-container-id-1 div.sk-toggleable {background-color: white;}#sk-container-id-1 label.sk-toggleable__label {cursor: pointer;display: block;width: 100%;margin-bottom: 0;padding: 0.3em;box-sizing: border-box;text-align: center;}#sk-container-id-1 label.sk-toggleable__label-arrow:before {content: \"▸\";float: left;margin-right: 0.25em;color: #696969;}#sk-container-id-1 label.sk-toggleable__label-arrow:hover:before {color: black;}#sk-container-id-1 div.sk-estimator:hover label.sk-toggleable__label-arrow:before {color: black;}#sk-container-id-1 div.sk-toggleable__content {max-height: 0;max-width: 0;overflow: hidden;text-align: left;background-color: #f0f8ff;}#sk-container-id-1 div.sk-toggleable__content pre {margin: 0.2em;color: black;border-radius: 0.25em;background-color: #f0f8ff;}#sk-container-id-1 input.sk-toggleable__control:checked~div.sk-toggleable__content {max-height: 200px;max-width: 100%;overflow: auto;}#sk-container-id-1 input.sk-toggleable__control:checked~label.sk-toggleable__label-arrow:before {content: \"▾\";}#sk-container-id-1 div.sk-estimator input.sk-toggleable__control:checked~label.sk-toggleable__label {background-color: #d4ebff;}#sk-container-id-1 div.sk-label input.sk-toggleable__control:checked~label.sk-toggleable__label {background-color: #d4ebff;}#sk-container-id-1 input.sk-hidden--visually {border: 0;clip: rect(1px 1px 1px 1px);clip: rect(1px, 1px, 1px, 1px);height: 1px;margin: -1px;overflow: hidden;padding: 0;position: absolute;width: 1px;}#sk-container-id-1 div.sk-estimator {font-family: monospace;background-color: #f0f8ff;border: 1px dotted black;border-radius: 0.25em;box-sizing: border-box;margin-bottom: 0.5em;}#sk-container-id-1 div.sk-estimator:hover {background-color: #d4ebff;}#sk-container-id-1 div.sk-parallel-item::after {content: \"\";width: 100%;border-bottom: 1px solid gray;flex-grow: 1;}#sk-container-id-1 div.sk-label:hover label.sk-toggleable__label {background-color: #d4ebff;}#sk-container-id-1 div.sk-serial::before {content: \"\";position: absolute;border-left: 1px solid gray;box-sizing: border-box;top: 0;bottom: 0;left: 50%;z-index: 0;}#sk-container-id-1 div.sk-serial {display: flex;flex-direction: column;align-items: center;background-color: white;padding-right: 0.2em;padding-left: 0.2em;position: relative;}#sk-container-id-1 div.sk-item {position: relative;z-index: 1;}#sk-container-id-1 div.sk-parallel {display: flex;align-items: stretch;justify-content: center;background-color: white;position: relative;}#sk-container-id-1 div.sk-item::before, #sk-container-id-1 div.sk-parallel-item::before {content: \"\";position: absolute;border-left: 1px solid gray;box-sizing: border-box;top: 0;bottom: 0;left: 50%;z-index: -1;}#sk-container-id-1 div.sk-parallel-item {display: flex;flex-direction: column;z-index: 1;position: relative;background-color: white;}#sk-container-id-1 div.sk-parallel-item:first-child::after {align-self: flex-end;width: 50%;}#sk-container-id-1 div.sk-parallel-item:last-child::after {align-self: flex-start;width: 50%;}#sk-container-id-1 div.sk-parallel-item:only-child::after {width: 0;}#sk-container-id-1 div.sk-dashed-wrapped {border: 1px dashed gray;margin: 0 0.4em 0.5em 0.4em;box-sizing: border-box;padding-bottom: 0.4em;background-color: white;}#sk-container-id-1 div.sk-label label {font-family: monospace;font-weight: bold;display: inline-block;line-height: 1.2em;}#sk-container-id-1 div.sk-label-container {text-align: center;}#sk-container-id-1 div.sk-container {/* jupyter's `normalize.less` sets `[hidden] { display: none; }` but bootstrap.min.css set `[hidden] { display: none !important; }` so we also need the `!important` here to be able to override the default hidden behavior on the sphinx rendered scikit-learn.org. See: https://github.com/scikit-learn/scikit-learn/issues/21755 */display: inline-block !important;position: relative;}#sk-container-id-1 div.sk-text-repr-fallback {display: none;}</style><div id=\"sk-container-id-1\" class=\"sk-top-container\"><div class=\"sk-text-repr-fallback\"><pre>DecisionTreeRegressor(max_depth=80, max_features=&#x27;auto&#x27;, min_samples_split=7,\n",
              "                      random_state=1023)</pre><b>In a Jupyter environment, please rerun this cell to show the HTML representation or trust the notebook. <br />On GitHub, the HTML representation is unable to render, please try loading this page with nbviewer.org.</b></div><div class=\"sk-container\" hidden><div class=\"sk-item\"><div class=\"sk-estimator sk-toggleable\"><input class=\"sk-toggleable__control sk-hidden--visually\" id=\"sk-estimator-id-1\" type=\"checkbox\" checked><label for=\"sk-estimator-id-1\" class=\"sk-toggleable__label sk-toggleable__label-arrow\">DecisionTreeRegressor</label><div class=\"sk-toggleable__content\"><pre>DecisionTreeRegressor(max_depth=80, max_features=&#x27;auto&#x27;, min_samples_split=7,\n",
              "                      random_state=1023)</pre></div></div></div></div></div>"
            ]
          },
          "metadata": {},
          "execution_count": 52
        }
      ],
      "source": [
        "best_model=DT_ga.best_estimator_\n",
        "best_model"
      ]
    },
    {
      "cell_type": "code",
      "execution_count": 53,
      "id": "ebd9351e",
      "metadata": {
        "id": "ebd9351e",
        "outputId": "93c712fc-7873-4128-e796-7b49ea370bbc",
        "colab": {
          "base_uri": "https://localhost:8080/"
        }
      },
      "outputs": [
        {
          "output_type": "stream",
          "name": "stderr",
          "text": [
            "/usr/local/lib/python3.10/dist-packages/sklearn/base.py:432: UserWarning: X has feature names, but DecisionTreeRegressor was fitted without feature names\n",
            "  warnings.warn(\n"
          ]
        }
      ],
      "source": [
        "y_pred=best_model.predict(X_test)"
      ]
    },
    {
      "cell_type": "code",
      "execution_count": 54,
      "id": "b2322ca7",
      "metadata": {
        "id": "b2322ca7",
        "outputId": "68d591ed-5079-41bd-9af7-a68f33bd536e",
        "colab": {
          "base_uri": "https://localhost:8080/"
        }
      },
      "outputs": [
        {
          "output_type": "execute_result",
          "data": {
            "text/plain": [
              "array([[0.125     , 0.49946638],\n",
              "       [0.125     , 0.49946638],\n",
              "       [0.125     , 0.49946638],\n",
              "       ...,\n",
              "       [0.125     , 0.49946638],\n",
              "       [0.125     , 0.49946638],\n",
              "       [0.125     , 0.49946638]])"
            ]
          },
          "metadata": {},
          "execution_count": 54
        }
      ],
      "source": [
        "y_pred"
      ]
    },
    {
      "cell_type": "code",
      "execution_count": 55,
      "id": "e67d687c",
      "metadata": {
        "id": "e67d687c",
        "outputId": "7b9860b3-bdba-4c18-f898-b393c8406d6c",
        "colab": {
          "base_uri": "https://localhost:8080/"
        }
      },
      "outputs": [
        {
          "output_type": "stream",
          "name": "stdout",
          "text": [
            "['MAE', 0.31812061927859525]\n",
            "['MSE', 0.1526343927765636]\n",
            "['R2', -1.0180474473744368]\n"
          ]
        }
      ],
      "source": [
        "for metric in metric_dict:\n",
        "    current_metric = metric_dict[metric]\n",
        "    print([metric, metric_dict[metric](y_test, y_pred)])"
      ]
    },
    {
      "cell_type": "markdown",
      "id": "676d5728",
      "metadata": {
        "id": "676d5728"
      },
      "source": [
        "### Save csv file with results:"
      ]
    },
    {
      "cell_type": "code",
      "execution_count": 56,
      "id": "aebaa744",
      "metadata": {
        "id": "aebaa744"
      },
      "outputs": [],
      "source": [
        "log_table.to_csv('log_table2.csv', index=False)"
      ]
    },
    {
      "cell_type": "code",
      "source": [
        "from google.colab import files\n",
        "\n",
        "files.download('log_table2.csv')"
      ],
      "metadata": {
        "id": "cDHFA23Cbsbl",
        "colab": {
          "base_uri": "https://localhost:8080/",
          "height": 17
        },
        "outputId": "02989be3-bdfb-4444-83fc-677d839dbf1c"
      },
      "id": "cDHFA23Cbsbl",
      "execution_count": 57,
      "outputs": [
        {
          "output_type": "display_data",
          "data": {
            "text/plain": [
              "<IPython.core.display.Javascript object>"
            ],
            "application/javascript": [
              "\n",
              "    async function download(id, filename, size) {\n",
              "      if (!google.colab.kernel.accessAllowed) {\n",
              "        return;\n",
              "      }\n",
              "      const div = document.createElement('div');\n",
              "      const label = document.createElement('label');\n",
              "      label.textContent = `Downloading \"${filename}\": `;\n",
              "      div.appendChild(label);\n",
              "      const progress = document.createElement('progress');\n",
              "      progress.max = size;\n",
              "      div.appendChild(progress);\n",
              "      document.body.appendChild(div);\n",
              "\n",
              "      const buffers = [];\n",
              "      let downloaded = 0;\n",
              "\n",
              "      const channel = await google.colab.kernel.comms.open(id);\n",
              "      // Send a message to notify the kernel that we're ready.\n",
              "      channel.send({})\n",
              "\n",
              "      for await (const message of channel.messages) {\n",
              "        // Send a message to notify the kernel that we're ready.\n",
              "        channel.send({})\n",
              "        if (message.buffers) {\n",
              "          for (const buffer of message.buffers) {\n",
              "            buffers.push(buffer);\n",
              "            downloaded += buffer.byteLength;\n",
              "            progress.value = downloaded;\n",
              "          }\n",
              "        }\n",
              "      }\n",
              "      const blob = new Blob(buffers, {type: 'application/binary'});\n",
              "      const a = document.createElement('a');\n",
              "      a.href = window.URL.createObjectURL(blob);\n",
              "      a.download = filename;\n",
              "      div.appendChild(a);\n",
              "      a.click();\n",
              "      div.remove();\n",
              "    }\n",
              "  "
            ]
          },
          "metadata": {}
        },
        {
          "output_type": "display_data",
          "data": {
            "text/plain": [
              "<IPython.core.display.Javascript object>"
            ],
            "application/javascript": [
              "download(\"download_bffc035f-098e-42ea-acd7-f63d4156f505\", \"log_table2.csv\", 2285)"
            ]
          },
          "metadata": {}
        }
      ]
    }
  ],
  "metadata": {
    "kernelspec": {
      "display_name": "Python 3 (ipykernel)",
      "language": "python",
      "name": "python3"
    },
    "language_info": {
      "codemirror_mode": {
        "name": "ipython",
        "version": 3
      },
      "file_extension": ".py",
      "mimetype": "text/x-python",
      "name": "python",
      "nbconvert_exporter": "python",
      "pygments_lexer": "ipython3",
      "version": "3.9.12"
    },
    "colab": {
      "provenance": []
    }
  },
  "nbformat": 4,
  "nbformat_minor": 5
}